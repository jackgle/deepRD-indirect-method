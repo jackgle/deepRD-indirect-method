{
 "cells": [
  {
   "cell_type": "code",
   "execution_count": 1,
   "id": "c2f2bb74",
   "metadata": {},
   "outputs": [],
   "source": [
    "import os\n",
    "import shutil\n",
    "import pickle\n",
    "import pandas as pd\n",
    "\n",
    "data_path = '../../data/data_v2/'\n",
    "outdir = './test_csvs/'\n",
    "\n",
    "if not os.path.exists(outdir):\n",
    "    os.mkdir(outdir)\n",
    "else:\n",
    "    shutil.rmtree(outdir)\n",
    "    os.mkdir(outdir)\n",
    "    "
   ]
  },
  {
   "cell_type": "code",
   "execution_count": 2,
   "id": "15d84730",
   "metadata": {},
   "outputs": [],
   "source": [
    "# load data\n",
    "test_x = pickle.load(open(data_path+'x_test.pkl', 'rb'))\n",
    "test_y = pickle.load(open(data_path+'y_test.pkl', 'rb'))\n",
    "test_sizes = pickle.load(open(data_path+'sizes_test.pkl', 'rb'))\n"
   ]
  },
  {
   "cell_type": "code",
   "execution_count": 3,
   "id": "f50510ec",
   "metadata": {},
   "outputs": [
    {
     "name": "stdout",
     "output_type": "stream",
     "text": [
      "0\n",
      "100\n",
      "200\n",
      "300\n",
      "400\n",
      "500\n",
      "600\n",
      "700\n",
      "800\n",
      "900\n"
     ]
    }
   ],
   "source": [
    "for i in range(len(test_x)):\n",
    "    if i%100==0:\n",
    "        print(i)\n",
    "    sample = test_x[i] - min(test_x[i])\n",
    "    pd.DataFrame(sample).to_csv(outdir+str(i)+'.csv', index=None, header=None)\n",
    "    "
   ]
  },
  {
   "cell_type": "code",
   "execution_count": null,
   "id": "12080fcd",
   "metadata": {},
   "outputs": [],
   "source": []
  }
 ],
 "metadata": {
  "kernelspec": {
   "display_name": "conda_tensorflow2_p310",
   "language": "python",
   "name": "conda_tensorflow2_p310"
  },
  "language_info": {
   "codemirror_mode": {
    "name": "ipython",
    "version": 3
   },
   "file_extension": ".py",
   "mimetype": "text/x-python",
   "name": "python",
   "nbconvert_exporter": "python",
   "pygments_lexer": "ipython3",
   "version": "3.10.14"
  }
 },
 "nbformat": 4,
 "nbformat_minor": 5
}
