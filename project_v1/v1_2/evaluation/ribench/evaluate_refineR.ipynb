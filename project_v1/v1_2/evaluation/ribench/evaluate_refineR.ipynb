{
 "cells": [
  {
   "cell_type": "code",
   "execution_count": 1,
   "id": "f9c06632",
   "metadata": {},
   "outputs": [],
   "source": [
    "import os\n",
    "import pickle\n",
    "import numpy as np\n",
    "import pandas as pd\n",
    "import matplotlib.pyplot as plt\n",
    "os.sys.path.append('../')\n",
    "from metrics import norm_err\n"
   ]
  },
  {
   "cell_type": "code",
   "execution_count": 2,
   "id": "ea0a22b3",
   "metadata": {},
   "outputs": [],
   "source": [
    "test_data_path = './ribench_sample_v2/'\n",
    "prediction_path = './refineR_predictions_v2/'\n"
   ]
  },
  {
   "cell_type": "code",
   "execution_count": 3,
   "id": "60ee12cf",
   "metadata": {},
   "outputs": [],
   "source": [
    "# load test data\n",
    "test_x = pickle.load(open(test_data_path+'x.pkl', 'rb'))\n",
    "test_y = np.array(pickle.load(open(test_data_path+'y.pkl', 'rb')))\n",
    "# load test file list\n",
    "test_files = pickle.load(open(test_data_path+'files.pkl', 'rb'))\n",
    "test_files = np.array([i.split('/')[-1] for i in test_files])\n",
    "test_analytes = np.array([i.split('_')[1] for i in test_files])\n",
    "\n",
    "test_p = []\n",
    "completed = []\n",
    "for c,i in enumerate(test_files):\n",
    "    if os.path.exists(prediction_path+i):\n",
    "        completed.append(i)\n",
    "        test_p.append(pd.read_csv(prediction_path+i).PointEst.values)\n",
    "            "
   ]
  },
  {
   "cell_type": "code",
   "execution_count": 4,
   "id": "5b051230",
   "metadata": {},
   "outputs": [],
   "source": [
    "test_p = np.array(test_p)\n",
    "test_y = np.array(test_y)\n",
    "test_files = np.array(test_files)\n",
    "test_analytes = np.array(test_analytes)\n"
   ]
  },
  {
   "cell_type": "code",
   "execution_count": 5,
   "id": "d28d16a5",
   "metadata": {},
   "outputs": [],
   "source": [
    "# filter test data variables for only completed predictions\n",
    "idx_complete = np.array([i in completed for i in test_files])\n",
    "test_x = [test_x[i] for i in np.where(idx_complete)[0]]\n",
    "test_y = test_y[idx_complete]\n",
    "test_files = test_files[idx_complete]\n",
    "test_analytes = test_analytes[idx_complete]\n"
   ]
  },
  {
   "cell_type": "code",
   "execution_count": 6,
   "id": "23b2d830",
   "metadata": {},
   "outputs": [
    {
     "data": {
      "text/plain": [
       "(1000, 2)"
      ]
     },
     "execution_count": 6,
     "metadata": {},
     "output_type": "execute_result"
    }
   ],
   "source": [
    "test_p.shape\n"
   ]
  },
  {
   "cell_type": "code",
   "execution_count": 7,
   "id": "d46707dc",
   "metadata": {},
   "outputs": [
    {
     "data": {
      "text/plain": [
       "(1000, 2)"
      ]
     },
     "execution_count": 7,
     "metadata": {},
     "output_type": "execute_result"
    }
   ],
   "source": [
    "test_y.shape\n"
   ]
  },
  {
   "cell_type": "code",
   "execution_count": 8,
   "id": "e3ec1239",
   "metadata": {},
   "outputs": [],
   "source": [
    "errors = [norm_err(i, j) for i,j in zip(test_y, test_p)]\n",
    "errors = np.array(errors)\n"
   ]
  },
  {
   "cell_type": "code",
   "execution_count": 9,
   "id": "641ee47b",
   "metadata": {},
   "outputs": [
    {
     "data": {
      "text/plain": [
       "0.07304888019018782"
      ]
     },
     "execution_count": 9,
     "metadata": {},
     "output_type": "execute_result"
    }
   ],
   "source": [
    "np.mean(errors)\n"
   ]
  },
  {
   "cell_type": "code",
   "execution_count": 10,
   "id": "45bfdc46",
   "metadata": {},
   "outputs": [
    {
     "data": {
      "text/plain": [
       "0.039964593039945664"
      ]
     },
     "execution_count": 10,
     "metadata": {},
     "output_type": "execute_result"
    }
   ],
   "source": [
    "np.median(errors)\n"
   ]
  },
  {
   "cell_type": "code",
   "execution_count": 11,
   "id": "c1a9c331",
   "metadata": {},
   "outputs": [
    {
     "data": {
      "text/plain": [
       "0.91"
      ]
     },
     "execution_count": 11,
     "metadata": {},
     "output_type": "execute_result"
    }
   ],
   "source": [
    "error_threshold = 0.2\n",
    "len(np.where(errors<=error_threshold)[0])/len(errors)\n"
   ]
  },
  {
   "cell_type": "code",
   "execution_count": 12,
   "id": "0fb72ccc",
   "metadata": {},
   "outputs": [
    {
     "data": {
      "text/plain": [
       "0.749"
      ]
     },
     "execution_count": 12,
     "metadata": {},
     "output_type": "execute_result"
    }
   ],
   "source": [
    "error_threshold = 0.1\n",
    "len(np.where(errors<=error_threshold)[0])/len(errors)\n"
   ]
  },
  {
   "cell_type": "code",
   "execution_count": 13,
   "id": "593f286c",
   "metadata": {},
   "outputs": [
    {
     "data": {
      "text/html": [
       "<div>\n",
       "<style scoped>\n",
       "    .dataframe tbody tr th:only-of-type {\n",
       "        vertical-align: middle;\n",
       "    }\n",
       "\n",
       "    .dataframe tbody tr th {\n",
       "        vertical-align: top;\n",
       "    }\n",
       "\n",
       "    .dataframe thead th {\n",
       "        text-align: right;\n",
       "    }\n",
       "</style>\n",
       "<table border=\"1\" class=\"dataframe\">\n",
       "  <thead>\n",
       "    <tr style=\"text-align: right;\">\n",
       "      <th></th>\n",
       "      <th>Mean Err</th>\n",
       "      <th>Median Err</th>\n",
       "      <th>Accuracy</th>\n",
       "    </tr>\n",
       "  </thead>\n",
       "  <tbody>\n",
       "    <tr>\n",
       "      <th>Hb</th>\n",
       "      <td>0.063136</td>\n",
       "      <td>0.037121</td>\n",
       "      <td>0.822581</td>\n",
       "    </tr>\n",
       "    <tr>\n",
       "      <th>Ca</th>\n",
       "      <td>0.040720</td>\n",
       "      <td>0.027252</td>\n",
       "      <td>0.883212</td>\n",
       "    </tr>\n",
       "    <tr>\n",
       "      <th>FT4</th>\n",
       "      <td>0.063727</td>\n",
       "      <td>0.041058</td>\n",
       "      <td>0.823529</td>\n",
       "    </tr>\n",
       "    <tr>\n",
       "      <th>AST</th>\n",
       "      <td>0.064039</td>\n",
       "      <td>0.040559</td>\n",
       "      <td>0.818898</td>\n",
       "    </tr>\n",
       "    <tr>\n",
       "      <th>LACT</th>\n",
       "      <td>0.062477</td>\n",
       "      <td>0.036060</td>\n",
       "      <td>0.771654</td>\n",
       "    </tr>\n",
       "    <tr>\n",
       "      <th>GGT</th>\n",
       "      <td>0.105630</td>\n",
       "      <td>0.058323</td>\n",
       "      <td>0.630769</td>\n",
       "    </tr>\n",
       "    <tr>\n",
       "      <th>TSH</th>\n",
       "      <td>0.065674</td>\n",
       "      <td>0.037499</td>\n",
       "      <td>0.745902</td>\n",
       "    </tr>\n",
       "    <tr>\n",
       "      <th>IgE</th>\n",
       "      <td>0.117018</td>\n",
       "      <td>0.088896</td>\n",
       "      <td>0.511450</td>\n",
       "    </tr>\n",
       "  </tbody>\n",
       "</table>\n",
       "</div>"
      ],
      "text/plain": [
       "      Mean Err  Median Err  Accuracy\n",
       "Hb    0.063136    0.037121  0.822581\n",
       "Ca    0.040720    0.027252  0.883212\n",
       "FT4   0.063727    0.041058  0.823529\n",
       "AST   0.064039    0.040559  0.818898\n",
       "LACT  0.062477    0.036060  0.771654\n",
       "GGT   0.105630    0.058323  0.630769\n",
       "TSH   0.065674    0.037499  0.745902\n",
       "IgE   0.117018    0.088896  0.511450"
      ]
     },
     "execution_count": 13,
     "metadata": {},
     "output_type": "execute_result"
    }
   ],
   "source": [
    "analyte_order = ['Hb','Ca','FT4','AST','LACT','GGT','TSH','IgE']\n",
    "df = pd.DataFrame({\n",
    "    'Mean Err': [np.mean(errors[np.where(test_analytes==i)[0]]) for i in analyte_order],\n",
    "    'Median Err': [np.median(errors[np.where(test_analytes==i)[0]]) for i in analyte_order],\n",
    "    'Accuracy': [len(np.where(errors[np.where(test_analytes==i)[0]]<=0.1)[0])/len(np.where(test_analytes==i)[0]) for i in analyte_order]\n",
    "}, index=analyte_order)\n",
    "\n",
    "df\n"
   ]
  },
  {
   "cell_type": "code",
   "execution_count": 14,
   "id": "4d6b02f7",
   "metadata": {},
   "outputs": [
    {
     "data": {
      "image/png": "[encoded data removed]",
      "text/plain": [
       "<Figure size 800x800 with 16 Axes>"
      ]
     },
     "metadata": {},
     "output_type": "display_data"
    },
    {
     "data": {
      "image/png": "[encoded data removed]",
      "text/plain": [
       "<Figure size 640x480 with 1 Axes>"
      ]
     },
     "metadata": {},
     "output_type": "display_data"
    }
   ],
   "source": [
    "nr = 4\n",
    "nc = 4\n",
    "# idx = np.random.choice(len(test_x), nr*nc)\n",
    "check_analyte = 'IgE'\n",
    "idx = np.where(test_analytes==check_analyte)[0]\n",
    "idx = np.random.choice(idx, nr*nc)\n",
    "# idx = np.random.choice(idx[np.where(errors[idx]>0.10)[0]], nr*nc)\n",
    "plt.figure(figsize=(8, 8))\n",
    "for c,i in enumerate(idx):\n",
    "    plt.subplot(nr, nc, c+1)\n",
    "    temp_p = (test_p[i]-test_x[i].mean())/test_x[i].std()\n",
    "    temp_y = (test_y[i]-test_x[i].mean())/test_x[i].std()\n",
    "    temp_data = (test_x[i]-test_x[i].mean())/test_x[i].std()\n",
    "    plt.hist(temp_data, np.linspace(-3, 3, 51), density=True);\n",
    "    for j in temp_p:\n",
    "        plt.axvline(j, c='b')\n",
    "    for j in temp_y:\n",
    "        plt.axvline(j, c='k', linestyle=':')\n",
    "    plt.yticks([])\n",
    "    plt.title(round(errors[i], 2))\n",
    "plt.tight_layout()\n",
    "plt.figure()\n",
    "plt.hist(errors[np.where(test_analytes==check_analyte)[0]], np.linspace(0, 2, 100), edgecolor='k', alpha=0.5);\n",
    "plt.yticks([])\n",
    "plt.title('Errors');\n"
   ]
  },
  {
   "cell_type": "code",
   "execution_count": null,
   "id": "3568b118",
   "metadata": {},
   "outputs": [],
   "source": []
  }
 ],
 "metadata": {
  "kernelspec": {
   "display_name": "conda_tensorflow2_p310",
   "language": "python",
   "name": "conda_tensorflow2_p310"
  },
  "language_info": {
   "codemirror_mode": {
    "name": "ipython",
    "version": 3
   },
   "file_extension": ".py",
   "mimetype": "text/x-python",
   "name": "python",
   "nbconvert_exporter": "python",
   "pygments_lexer": "ipython3",
   "version": "3.10.14"
  }
 },
 "nbformat": 4,
 "nbformat_minor": 5
}
