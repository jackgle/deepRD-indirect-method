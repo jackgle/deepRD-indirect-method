{
 "cells": [
  {
   "cell_type": "code",
   "execution_count": 1,
   "id": "0910232f",
   "metadata": {},
   "outputs": [],
   "source": [
    "# install.packages('refineR')\n"
   ]
  },
  {
   "cell_type": "code",
   "execution_count": 2,
   "id": "8170d1cb",
   "metadata": {},
   "outputs": [],
   "source": [
    "library(refineR)\n",
    "\n",
    "indr = './ribench_sample_v2/'\n",
    "outdr = './refineR_predictions_v2/'\n",
    "\n",
    "# set.seed(123) # random seed for shuffling\n"
   ]
  },
  {
   "cell_type": "code",
   "execution_count": 3,
   "id": "678efaa8",
   "metadata": {},
   "outputs": [
    {
     "name": "stdout",
     "output_type": "stream",
     "text": [
      "Reading file list\n",
      "Number of files: 1000 \n"
     ]
    }
   ],
   "source": [
    "cat('Reading file list\\n')\n",
    "files_test <- read.csv(paste0(indr,'files.csv'))$file\n",
    "files_test <- sample(files_test) # randomize list to support estimating performance midway\n",
    "cat('Number of files:', length(files_test), '\\n')\n",
    "\n"
   ]
  },
  {
   "cell_type": "code",
   "execution_count": null,
   "id": "c05f4647",
   "metadata": {},
   "outputs": [
    {
     "name": "stdout",
     "output_type": "stream",
     "text": [
      "Predicting\n",
      "[1] \"../../../v1_1/data/RIbench//Data/Ca/581_Ca_seed_236.csv\"\n",
      "[1] \"../../../v1_1/data/RIbench//Data/GGT/2993_GGT_seed_14.csv\"\n",
      "[1] \"../../../v1_1/data/RIbench//Data/TSH/3765_TSH_seed_282.csv\"\n",
      "[1] \"../../../v1_1/data/RIbench//Data/AST/2189_AST_seed_265.csv\"\n",
      "[1] \"../../../v1_1/data/RIbench//Data/GGT/3417_GGT_seed_14.csv\"\n",
      "[1] \"../../../v1_1/data/RIbench//Data/Ca/977_Ca_seed_236.csv\"\n",
      "[1] \"../../../v1_1/data/RIbench//Data/TSH/3674_TSH_seed_282.csv\"\n",
      "[1] \"../../../v1_1/data/RIbench//Data/GGT/3390_GGT_seed_14.csv\"\n",
      "[1] \"../../../v1_1/data/RIbench//Data/LACT/2387_LACT_seed_158.csv\"\n",
      "[1] \"../../../v1_1/data/RIbench//Data/Ca/1104_Ca_seed_236.csv\"\n",
      "[1] \"../../../v1_1/data/RIbench//Data/Ca/898_Ca_seed_236.csv\"\n",
      "[1] \"../../../v1_1/data/RIbench//Data/Hb/154_Hb_seed_123.csv\"\n",
      "[1] \"../../../v1_1/data/RIbench//Data/LACT/2846_LACT_seed_158.csv\"\n",
      "[1] \"../../../v1_1/data/RIbench//Data/FT4/1332_FT4_seed_86.csv\"\n",
      "[1] \"../../../v1_1/data/RIbench//Data/Hb/386_Hb_seed_123.csv\"\n",
      "[1] \"../../../v1_1/data/RIbench//Data/FT4/1369_FT4_seed_86.csv\"\n",
      "[1] \"../../../v1_1/data/RIbench//Data/AST/1839_AST_seed_265.csv\"\n",
      "[1] \"../../../v1_1/data/RIbench//Data/FT4/1378_FT4_seed_86.csv\"\n",
      "[1] \"../../../v1_1/data/RIbench//Data/Ca/877_Ca_seed_236.csv\"\n",
      "[1] \"../../../v1_1/data/RIbench//Data/Ca/989_Ca_seed_236.csv\"\n",
      "[1] \"../../../v1_1/data/RIbench//Data/Ca/1014_Ca_seed_236.csv\"\n",
      "[1] \"../../../v1_1/data/RIbench//Data/FT4/1629_FT4_seed_86.csv\"\n",
      "[1] \"../../../v1_1/data/RIbench//Data/IgE/4181_IgE_seed_267.csv\"\n",
      "[1] \"../../../v1_1/data/RIbench//Data/Ca/798_Ca_seed_236.csv\"\n",
      "[1] \"../../../v1_1/data/RIbench//Data/Ca/1064_Ca_seed_236.csv\"\n",
      "[1] \"../../../v1_1/data/RIbench//Data/AST/1885_AST_seed_265.csv\"\n",
      "[1] \"../../../v1_1/data/RIbench//Data/IgE/4528_IgE_seed_267.csv\"\n",
      "[1] \"../../../v1_1/data/RIbench//Data/TSH/3617_TSH_seed_282.csv\"\n",
      "[1] \"../../../v1_1/data/RIbench//Data/TSH/3729_TSH_seed_282.csv\"\n",
      "[1] \"../../../v1_1/data/RIbench//Data/LACT/2738_LACT_seed_158.csv\"\n",
      "[1] \"../../../v1_1/data/RIbench//Data/FT4/1425_FT4_seed_86.csv\"\n",
      "[1] \"../../../v1_1/data/RIbench//Data/LACT/2849_LACT_seed_158.csv\"\n",
      "[1] \"../../../v1_1/data/RIbench//Data/GGT/3083_GGT_seed_14.csv\"\n",
      "[1] \"../../../v1_1/data/RIbench//Data/GGT/2938_GGT_seed_14.csv\"\n"
     ]
    },
    {
     "name": "stderr",
     "output_type": "stream",
     "text": [
      " Data has small sample size (N < 1000). Evaluate results carefully.\n",
      "\n"
     ]
    },
    {
     "name": "stdout",
     "output_type": "stream",
     "text": [
      "[1] \"../../../v1_1/data/RIbench//Data/Hb/370_Hb_seed_123.csv\"\n",
      "[1] \"../../../v1_1/data/RIbench//Data/IgE/4501_IgE_seed_267.csv\"\n",
      "[1] \"../../../v1_1/data/RIbench//Data/AST/1917_AST_seed_265.csv\"\n",
      "[1] \"../../../v1_1/data/RIbench//Data/GGT/3360_GGT_seed_14.csv\"\n",
      "[1] \"../../../v1_1/data/RIbench//Data/GGT/2903_GGT_seed_14.csv\"\n",
      "[1] \"../../../v1_1/data/RIbench//Data/FT4/1584_FT4_seed_86.csv\"\n",
      "[1] \"../../../v1_1/data/RIbench//Data/LACT/2650_LACT_seed_158.csv\"\n",
      "[1] \"../../../v1_1/data/RIbench//Data/IgE/4578_IgE_seed_267.csv\"\n",
      "[1] \"../../../v1_1/data/RIbench//Data/LACT/2612_LACT_seed_158.csv\"\n",
      "[1] \"../../../v1_1/data/RIbench//Data/GGT/3286_GGT_seed_14.csv\"\n",
      "[1] \"../../../v1_1/data/RIbench//Data/Hb/110_Hb_seed_123.csv\"\n",
      "[1] \"../../../v1_1/data/RIbench//Data/LACT/2849_LACT_seed_158.csv\"\n",
      "[1] \"../../../v1_1/data/RIbench//Data/LACT/2796_LACT_seed_158.csv\"\n",
      "[1] \"../../../v1_1/data/RIbench//Data/TSH/3820_TSH_seed_282.csv\"\n",
      "[1] \"../../../v1_1/data/RIbench//Data/Ca/1126_Ca_seed_236.csv\"\n",
      "[1] \"../../../v1_1/data/RIbench//Data/AST/2218_AST_seed_265.csv\"\n",
      "[1] \"../../../v1_1/data/RIbench//Data/FT4/1651_FT4_seed_86.csv\"\n",
      "[1] \"../../../v1_1/data/RIbench//Data/Ca/1010_Ca_seed_236.csv\"\n",
      "[1] \"../../../v1_1/data/RIbench//Data/AST/1960_AST_seed_265.csv\"\n",
      "[1] \"../../../v1_1/data/RIbench//Data/TSH/3901_TSH_seed_282.csv\"\n",
      "[1] \"../../../v1_1/data/RIbench//Data/Ca/1124_Ca_seed_236.csv\"\n",
      "[1] \"../../../v1_1/data/RIbench//Data/TSH/3874_TSH_seed_282.csv\"\n",
      "[1] \"../../../v1_1/data/RIbench//Data/LACT/2863_LACT_seed_158.csv\"\n",
      "[1] \"../../../v1_1/data/RIbench//Data/GGT/3430_GGT_seed_14.csv\"\n",
      "[1] \"../../../v1_1/data/RIbench//Data/FT4/1340_FT4_seed_86.csv\"\n",
      "[1] \"../../../v1_1/data/RIbench//Data/IgE/4332_IgE_seed_267.csv\"\n",
      "[1] \"../../../v1_1/data/RIbench//Data/TSH/3668_TSH_seed_282.csv\"\n",
      "[1] \"../../../v1_1/data/RIbench//Data/Hb/33_Hb_seed_123.csv\"\n",
      "[1] \"../../../v1_1/data/RIbench//Data/IgE/4186_IgE_seed_267.csv\"\n",
      "[1] \"../../../v1_1/data/RIbench//Data/TSH/4014_TSH_seed_282.csv\"\n",
      "[1] \"../../../v1_1/data/RIbench//Data/FT4/1368_FT4_seed_86.csv\"\n",
      "[1] \"../../../v1_1/data/RIbench//Data/GGT/3089_GGT_seed_14.csv\"\n",
      "[1] \"../../../v1_1/data/RIbench//Data/Hb/205_Hb_seed_123.csv\"\n",
      "[1] \"../../../v1_1/data/RIbench//Data/FT4/1347_FT4_seed_86.csv\"\n",
      "[1] \"../../../v1_1/data/RIbench//Data/IgE/4266_IgE_seed_267.csv\"\n",
      "[1] \"../../../v1_1/data/RIbench//Data/TSH/3472_TSH_seed_282.csv\"\n"
     ]
    },
    {
     "name": "stderr",
     "output_type": "stream",
     "text": [
      " Data has small sample size (N < 1000). Evaluate results carefully.\n",
      "\n"
     ]
    },
    {
     "name": "stdout",
     "output_type": "stream",
     "text": [
      "[1] \"../../../v1_1/data/RIbench//Data/GGT/2982_GGT_seed_14.csv\"\n",
      "[1] \"../../../v1_1/data/RIbench//Data/GGT/3033_GGT_seed_14.csv\"\n",
      "[1] \"../../../v1_1/data/RIbench//Data/Ca/832_Ca_seed_236.csv\"\n",
      "[1] \"../../../v1_1/data/RIbench//Data/AST/1735_AST_seed_265.csv\"\n",
      "[1] \"../../../v1_1/data/RIbench//Data/AST/1814_AST_seed_265.csv\"\n"
     ]
    },
    {
     "name": "stderr",
     "output_type": "stream",
     "text": [
      " Data has small sample size (N < 1000). Evaluate results carefully.\n",
      "\n"
     ]
    },
    {
     "name": "stdout",
     "output_type": "stream",
     "text": [
      "[1] \"../../../v1_1/data/RIbench//Data/Hb/144_Hb_seed_123.csv\"\n"
     ]
    },
    {
     "name": "stderr",
     "output_type": "stream",
     "text": [
      " Data has small sample size (N < 1000). Evaluate results carefully.\n",
      "\n"
     ]
    },
    {
     "name": "stdout",
     "output_type": "stream",
     "text": [
      "[1] \"../../../v1_1/data/RIbench//Data/FT4/1354_FT4_seed_86.csv\"\n",
      "[1] \"../../../v1_1/data/RIbench//Data/Hb/164_Hb_seed_123.csv\"\n",
      "[1] \"../../../v1_1/data/RIbench//Data/Ca/898_Ca_seed_236.csv\"\n",
      "[1] \"../../../v1_1/data/RIbench//Data/TSH/3570_TSH_seed_282.csv\"\n",
      "[1] \"../../../v1_1/data/RIbench//Data/LACT/2534_LACT_seed_158.csv\"\n",
      "[1] \"../../../v1_1/data/RIbench//Data/IgE/4519_IgE_seed_267.csv\"\n",
      "[1] \"../../../v1_1/data/RIbench//Data/TSH/3509_TSH_seed_282.csv\"\n",
      "[1] \"../../../v1_1/data/RIbench//Data/GGT/2896_GGT_seed_14.csv\"\n"
     ]
    },
    {
     "name": "stderr",
     "output_type": "stream",
     "text": [
      " Data has small sample size (N < 1000). Evaluate results carefully.\n",
      "\n"
     ]
    },
    {
     "name": "stdout",
     "output_type": "stream",
     "text": [
      "[1] \"../../../v1_1/data/RIbench//Data/TSH/3512_TSH_seed_282.csv\"\n",
      "[1] \"../../../v1_1/data/RIbench//Data/LACT/2772_LACT_seed_158.csv\"\n",
      "[1] \"../../../v1_1/data/RIbench//Data/FT4/1463_FT4_seed_86.csv\"\n",
      "[1] \"../../../v1_1/data/RIbench//Data/GGT/2993_GGT_seed_14.csv\"\n",
      "[1] \"../../../v1_1/data/RIbench//Data/Hb/283_Hb_seed_123.csv\"\n",
      "[1] \"../../../v1_1/data/RIbench//Data/AST/2268_AST_seed_265.csv\"\n",
      "[1] \"../../../v1_1/data/RIbench//Data/Ca/864_Ca_seed_236.csv\"\n",
      "[1] \"../../../v1_1/data/RIbench//Data/AST/1886_AST_seed_265.csv\"\n",
      "[1] \"../../../v1_1/data/RIbench//Data/Hb/127_Hb_seed_123.csv\"\n",
      "[1] \"../../../v1_1/data/RIbench//Data/AST/2001_AST_seed_265.csv\"\n",
      "[1] \"../../../v1_1/data/RIbench//Data/GGT/3404_GGT_seed_14.csv\"\n",
      "[1] \"../../../v1_1/data/RIbench//Data/LACT/2418_LACT_seed_158.csv\"\n",
      "[1] \"../../../v1_1/data/RIbench//Data/IgE/4335_IgE_seed_267.csv\"\n",
      "[1] \"../../../v1_1/data/RIbench//Data/Ca/618_Ca_seed_236.csv\"\n"
     ]
    },
    {
     "name": "stderr",
     "output_type": "stream",
     "text": [
      " Data has small sample size (N < 1000). Evaluate results carefully.\n",
      "\n"
     ]
    },
    {
     "name": "stdout",
     "output_type": "stream",
     "text": [
      "[1] \"../../../v1_1/data/RIbench//Data/GGT/3007_GGT_seed_14.csv\"\n",
      "[1] \"../../../v1_1/data/RIbench//Data/LACT/2624_LACT_seed_158.csv\"\n",
      "[1] \"../../../v1_1/data/RIbench//Data/FT4/1478_FT4_seed_86.csv\"\n",
      "[1] \"../../../v1_1/data/RIbench//Data/LACT/2407_LACT_seed_158.csv\"\n",
      "[1] \"../../../v1_1/data/RIbench//Data/IgE/4388_IgE_seed_267.csv\"\n",
      "[1] \"../../../v1_1/data/RIbench//Data/LACT/2690_LACT_seed_158.csv\"\n",
      "[1] \"../../../v1_1/data/RIbench//Data/GGT/3218_GGT_seed_14.csv\"\n",
      "[1] \"../../../v1_1/data/RIbench//Data/LACT/2734_LACT_seed_158.csv\"\n",
      "[1] \"../../../v1_1/data/RIbench//Data/GGT/3132_GGT_seed_14.csv\"\n",
      "[1] \"../../../v1_1/data/RIbench//Data/Ca/908_Ca_seed_236.csv\"\n",
      "[1] \"../../../v1_1/data/RIbench//Data/GGT/2936_GGT_seed_14.csv\"\n",
      "[1] \"../../../v1_1/data/RIbench//Data/LACT/2467_LACT_seed_158.csv\"\n",
      "[1] \"../../../v1_1/data/RIbench//Data/TSH/3842_TSH_seed_282.csv\"\n",
      "[1] \"../../../v1_1/data/RIbench//Data/FT4/1166_FT4_seed_86.csv\"\n"
     ]
    },
    {
     "name": "stderr",
     "output_type": "stream",
     "text": [
      " Data has small sample size (N < 1000). Evaluate results carefully.\n",
      "\n"
     ]
    },
    {
     "name": "stdout",
     "output_type": "stream",
     "text": [
      "[1] \"../../../v1_1/data/RIbench//Data/AST/2151_AST_seed_265.csv\"\n",
      "[1] \"../../../v1_1/data/RIbench//Data/IgE/4218_IgE_seed_267.csv\"\n",
      "[1] \"../../../v1_1/data/RIbench//Data/IgE/4203_IgE_seed_267.csv\"\n",
      "[1] \"../../../v1_1/data/RIbench//Data/AST/2154_AST_seed_265.csv\"\n",
      "[1] \"../../../v1_1/data/RIbench//Data/LACT/2705_LACT_seed_158.csv\"\n",
      "[1] \"../../../v1_1/data/RIbench//Data/Hb/303_Hb_seed_123.csv\"\n",
      "[1] \"../../../v1_1/data/RIbench//Data/AST/2077_AST_seed_265.csv\"\n",
      "[1] \"../../../v1_1/data/RIbench//Data/LACT/2848_LACT_seed_158.csv\"\n",
      "[1] \"../../../v1_1/data/RIbench//Data/Ca/920_Ca_seed_236.csv\"\n",
      "[1] \"../../../v1_1/data/RIbench//Data/Hb/191_Hb_seed_123.csv\"\n",
      "[1] \"../../../v1_1/data/RIbench//Data/FT4/1344_FT4_seed_86.csv\"\n",
      "[1] \"../../../v1_1/data/RIbench//Data/GGT/2994_GGT_seed_14.csv\"\n",
      "[1] \"../../../v1_1/data/RIbench//Data/TSH/3485_TSH_seed_282.csv\"\n",
      "[1] \"../../../v1_1/data/RIbench//Data/Ca/736_Ca_seed_236.csv\"\n",
      "[1] \"../../../v1_1/data/RIbench//Data/Hb/127_Hb_seed_123.csv\"\n",
      "[1] \"../../../v1_1/data/RIbench//Data/TSH/3764_TSH_seed_282.csv\"\n",
      "[1] \"../../../v1_1/data/RIbench//Data/Hb/257_Hb_seed_123.csv\"\n",
      "[1] \"../../../v1_1/data/RIbench//Data/GGT/3176_GGT_seed_14.csv\"\n",
      "[1] \"../../../v1_1/data/RIbench//Data/FT4/1605_FT4_seed_86.csv\"\n",
      "[1] \"../../../v1_1/data/RIbench//Data/TSH/3711_TSH_seed_282.csv\"\n",
      "[1] \"../../../v1_1/data/RIbench//Data/GGT/2883_GGT_seed_14.csv\"\n",
      "[1] \"../../../v1_1/data/RIbench//Data/LACT/2360_LACT_seed_158.csv\"\n",
      "[1] \"../../../v1_1/data/RIbench//Data/GGT/2885_GGT_seed_14.csv\"\n",
      "[1] \"../../../v1_1/data/RIbench//Data/GGT/3094_GGT_seed_14.csv\"\n",
      "[1] \"../../../v1_1/data/RIbench//Data/IgE/4336_IgE_seed_267.csv\"\n",
      "[1] \"../../../v1_1/data/RIbench//Data/GGT/3089_GGT_seed_14.csv\"\n",
      "[1] \"../../../v1_1/data/RIbench//Data/Hb/215_Hb_seed_123.csv\"\n",
      "[1] \"../../../v1_1/data/RIbench//Data/IgE/4324_IgE_seed_267.csv\"\n",
      "[1] \"../../../v1_1/data/RIbench//Data/AST/1924_AST_seed_265.csv\"\n",
      "[1] \"../../../v1_1/data/RIbench//Data/LACT/2410_LACT_seed_158.csv\"\n"
     ]
    },
    {
     "name": "stderr",
     "output_type": "stream",
     "text": [
      " Data has small sample size (N < 1000). Evaluate results carefully.\n",
      "\n"
     ]
    },
    {
     "name": "stdout",
     "output_type": "stream",
     "text": [
      "[1] \"../../../v1_1/data/RIbench//Data/GGT/2986_GGT_seed_14.csv\"\n"
     ]
    },
    {
     "name": "stderr",
     "output_type": "stream",
     "text": [
      " Data has small sample size (N < 1000). Evaluate results carefully.\n",
      "\n"
     ]
    },
    {
     "name": "stdout",
     "output_type": "stream",
     "text": [
      "[1] \"../../../v1_1/data/RIbench//Data/IgE/4307_IgE_seed_267.csv\"\n",
      "[1] \"../../../v1_1/data/RIbench//Data/IgE/4139_IgE_seed_267.csv\"\n",
      "[1] \"../../../v1_1/data/RIbench//Data/AST/2005_AST_seed_265.csv\"\n",
      "[1] \"../../../v1_1/data/RIbench//Data/Ca/774_Ca_seed_236.csv\"\n",
      "[1] \"../../../v1_1/data/RIbench//Data/GGT/3344_GGT_seed_14.csv\"\n",
      "[1] \"../../../v1_1/data/RIbench//Data/TSH/3837_TSH_seed_282.csv\"\n",
      "[1] \"../../../v1_1/data/RIbench//Data/GGT/2957_GGT_seed_14.csv\"\n",
      "[1] \"../../../v1_1/data/RIbench//Data/FT4/1681_FT4_seed_86.csv\"\n",
      "[1] \"../../../v1_1/data/RIbench//Data/FT4/1362_FT4_seed_86.csv\"\n",
      "[1] \"../../../v1_1/data/RIbench//Data/TSH/3865_TSH_seed_282.csv\"\n",
      "[1] \"../../../v1_1/data/RIbench//Data/GGT/3322_GGT_seed_14.csv\"\n",
      "[1] \"../../../v1_1/data/RIbench//Data/GGT/3424_GGT_seed_14.csv\"\n",
      "[1] \"../../../v1_1/data/RIbench//Data/AST/2170_AST_seed_265.csv\"\n",
      "[1] \"../../../v1_1/data/RIbench//Data/TSH/3955_TSH_seed_282.csv\"\n",
      "[1] \"../../../v1_1/data/RIbench//Data/GGT/3316_GGT_seed_14.csv\"\n",
      "[1] \"../../../v1_1/data/RIbench//Data/IgE/4489_IgE_seed_267.csv\"\n",
      "[1] \"../../../v1_1/data/RIbench//Data/GGT/3080_GGT_seed_14.csv\"\n",
      "[1] \"../../../v1_1/data/RIbench//Data/Ca/816_Ca_seed_236.csv\"\n",
      "[1] \"../../../v1_1/data/RIbench//Data/FT4/1566_FT4_seed_86.csv\"\n",
      "[1] \"../../../v1_1/data/RIbench//Data/FT4/1539_FT4_seed_86.csv\"\n",
      "[1] \"../../../v1_1/data/RIbench//Data/LACT/2842_LACT_seed_158.csv\"\n",
      "[1] \"../../../v1_1/data/RIbench//Data/Hb/485_Hb_seed_123.csv\"\n",
      "[1] \"../../../v1_1/data/RIbench//Data/IgE/4292_IgE_seed_267.csv\"\n",
      "[1] \"../../../v1_1/data/RIbench//Data/LACT/2752_LACT_seed_158.csv\"\n",
      "[1] \"../../../v1_1/data/RIbench//Data/TSH/3488_TSH_seed_282.csv\"\n"
     ]
    },
    {
     "name": "stderr",
     "output_type": "stream",
     "text": [
      " Data has small sample size (N < 1000). Evaluate results carefully.\n",
      "\n"
     ]
    },
    {
     "name": "stdout",
     "output_type": "stream",
     "text": [
      "[1] \"../../../v1_1/data/RIbench//Data/FT4/1552_FT4_seed_86.csv\"\n",
      "[1] \"../../../v1_1/data/RIbench//Data/FT4/1280_FT4_seed_86.csv\"\n"
     ]
    },
    {
     "name": "stderr",
     "output_type": "stream",
     "text": [
      " Data has small sample size (N < 1000). Evaluate results carefully.\n",
      "\n"
     ]
    },
    {
     "name": "stdout",
     "output_type": "stream",
     "text": [
      "[1] \"../../../v1_1/data/RIbench//Data/Ca/736_Ca_seed_236.csv\"\n",
      "[1] \"../../../v1_1/data/RIbench//Data/Hb/345_Hb_seed_123.csv\"\n",
      "[1] \"../../../v1_1/data/RIbench//Data/IgE/4442_IgE_seed_267.csv\"\n",
      "[1] \"../../../v1_1/data/RIbench//Data/IgE/4358_IgE_seed_267.csv\"\n",
      "[1] \"../../../v1_1/data/RIbench//Data/Hb/26_Hb_seed_123.csv\"\n"
     ]
    },
    {
     "name": "stderr",
     "output_type": "stream",
     "text": [
      " Data has small sample size (N < 1000). Evaluate results carefully.\n",
      "\n"
     ]
    },
    {
     "name": "stdout",
     "output_type": "stream",
     "text": [
      "[1] \"../../../v1_1/data/RIbench//Data/TSH/3720_TSH_seed_282.csv\"\n",
      "[1] \"../../../v1_1/data/RIbench//Data/TSH/3935_TSH_seed_282.csv\"\n",
      "[1] \"../../../v1_1/data/RIbench//Data/IgE/4120_IgE_seed_267.csv\"\n",
      "[1] \"../../../v1_1/data/RIbench//Data/Hb/552_Hb_seed_123.csv\"\n",
      "[1] \"../../../v1_1/data/RIbench//Data/FT4/1239_FT4_seed_86.csv\"\n",
      "[1] \"../../../v1_1/data/RIbench//Data/IgE/4446_IgE_seed_267.csv\"\n",
      "[1] \"../../../v1_1/data/RIbench//Data/Ca/1128_Ca_seed_236.csv\"\n",
      "[1] \"../../../v1_1/data/RIbench//Data/GGT/2890_GGT_seed_14.csv\"\n"
     ]
    },
    {
     "name": "stderr",
     "output_type": "stream",
     "text": [
      " Data has small sample size (N < 1000). Evaluate results carefully.\n",
      "\n"
     ]
    },
    {
     "name": "stdout",
     "output_type": "stream",
     "text": [
      "[1] \"../../../v1_1/data/RIbench//Data/GGT/3172_GGT_seed_14.csv\"\n",
      "[1] \"../../../v1_1/data/RIbench//Data/GGT/3055_GGT_seed_14.csv\"\n",
      "[1] \"../../../v1_1/data/RIbench//Data/Ca/1137_Ca_seed_236.csv\"\n",
      "[1] \"../../../v1_1/data/RIbench//Data/AST/2281_AST_seed_265.csv\"\n",
      "[1] \"../../../v1_1/data/RIbench//Data/Ca/749_Ca_seed_236.csv\"\n",
      "[1] \"../../../v1_1/data/RIbench//Data/AST/1905_AST_seed_265.csv\"\n",
      "[1] \"../../../v1_1/data/RIbench//Data/LACT/2733_LACT_seed_158.csv\"\n",
      "[1] \"../../../v1_1/data/RIbench//Data/FT4/1691_FT4_seed_86.csv\"\n",
      "[1] \"../../../v1_1/data/RIbench//Data/Hb/462_Hb_seed_123.csv\"\n",
      "[1] \"../../../v1_1/data/RIbench//Data/GGT/3375_GGT_seed_14.csv\"\n",
      "[1] \"../../../v1_1/data/RIbench//Data/AST/1867_AST_seed_265.csv\"\n",
      "[1] \"../../../v1_1/data/RIbench//Data/FT4/1207_FT4_seed_86.csv\"\n",
      "[1] \"../../../v1_1/data/RIbench//Data/IgE/4416_IgE_seed_267.csv\"\n",
      "[1] \"../../../v1_1/data/RIbench//Data/GGT/3381_GGT_seed_14.csv\"\n",
      "[1] \"../../../v1_1/data/RIbench//Data/LACT/2784_LACT_seed_158.csv\"\n",
      "[1] \"../../../v1_1/data/RIbench//Data/GGT/2882_GGT_seed_14.csv\"\n",
      "[1] \"../../../v1_1/data/RIbench//Data/AST/2303_AST_seed_265.csv\"\n",
      "[1] \"../../../v1_1/data/RIbench//Data/GGT/2889_GGT_seed_14.csv\"\n",
      "[1] \"../../../v1_1/data/RIbench//Data/AST/2294_AST_seed_265.csv\"\n",
      "[1] \"../../../v1_1/data/RIbench//Data/AST/2175_AST_seed_265.csv\"\n",
      "[1] \"../../../v1_1/data/RIbench//Data/Ca/938_Ca_seed_236.csv\"\n",
      "[1] \"../../../v1_1/data/RIbench//Data/Hb/536_Hb_seed_123.csv\"\n",
      "[1] \"../../../v1_1/data/RIbench//Data/GGT/3162_GGT_seed_14.csv\"\n",
      "[1] \"../../../v1_1/data/RIbench//Data/Hb/321_Hb_seed_123.csv\"\n",
      "[1] \"../../../v1_1/data/RIbench//Data/LACT/2657_LACT_seed_158.csv\"\n",
      "[1] \"../../../v1_1/data/RIbench//Data/TSH/3937_TSH_seed_282.csv\"\n",
      "[1] \"../../../v1_1/data/RIbench//Data/Hb/59_Hb_seed_123.csv\"\n",
      "[1] \"../../../v1_1/data/RIbench//Data/LACT/2859_LACT_seed_158.csv\"\n",
      "[1] \"../../../v1_1/data/RIbench//Data/Hb/288_Hb_seed_123.csv\"\n",
      "[1] \"../../../v1_1/data/RIbench//Data/AST/2032_AST_seed_265.csv\"\n",
      "[1] \"../../../v1_1/data/RIbench//Data/Hb/7_Hb_seed_123.csv\"\n",
      "[1] \"../../../v1_1/data/RIbench//Data/GGT/2949_GGT_seed_14.csv\"\n",
      "[1] \"../../../v1_1/data/RIbench//Data/FT4/1428_FT4_seed_86.csv\"\n",
      "[1] \"../../../v1_1/data/RIbench//Data/IgE/4560_IgE_seed_267.csv\"\n",
      "[1] \"../../../v1_1/data/RIbench//Data/Hb/256_Hb_seed_123.csv\"\n",
      "[1] \"../../../v1_1/data/RIbench//Data/IgE/4427_IgE_seed_267.csv\"\n",
      "[1] \"../../../v1_1/data/RIbench//Data/TSH/3488_TSH_seed_282.csv\"\n",
      "[1] \"../../../v1_1/data/RIbench//Data/FT4/1519_FT4_seed_86.csv\"\n",
      "[1] \"../../../v1_1/data/RIbench//Data/Hb/46_Hb_seed_123.csv\"\n",
      "[1] \"../../../v1_1/data/RIbench//Data/GGT/3312_GGT_seed_14.csv\"\n",
      "[1] \"../../../v1_1/data/RIbench//Data/IgE/4155_IgE_seed_267.csv\"\n",
      "[1] \"../../../v1_1/data/RIbench//Data/IgE/4541_IgE_seed_267.csv\"\n",
      "[1] \"../../../v1_1/data/RIbench//Data/IgE/4377_IgE_seed_267.csv\"\n",
      "[1] \"../../../v1_1/data/RIbench//Data/TSH/3656_TSH_seed_282.csv\"\n",
      "[1] \"../../../v1_1/data/RIbench//Data/AST/2207_AST_seed_265.csv\"\n",
      "[1] \"../../../v1_1/data/RIbench//Data/TSH/3568_TSH_seed_282.csv\"\n"
     ]
    },
    {
     "name": "stderr",
     "output_type": "stream",
     "text": [
      " Data has small sample size (N < 1000). Evaluate results carefully.\n",
      "\n"
     ]
    },
    {
     "name": "stdout",
     "output_type": "stream",
     "text": [
      "[1] \"../../../v1_1/data/RIbench//Data/AST/2114_AST_seed_265.csv\"\n",
      "[1] \"../../../v1_1/data/RIbench//Data/Ca/794_Ca_seed_236.csv\"\n",
      "[1] \"../../../v1_1/data/RIbench//Data/IgE/4349_IgE_seed_267.csv\"\n",
      "[1] \"../../../v1_1/data/RIbench//Data/FT4/1197_FT4_seed_86.csv\"\n",
      "[1] \"../../../v1_1/data/RIbench//Data/IgE/4592_IgE_seed_267.csv\"\n",
      "[1] \"../../../v1_1/data/RIbench//Data/FT4/1552_FT4_seed_86.csv\"\n",
      "[1] \"../../../v1_1/data/RIbench//Data/LACT/2534_LACT_seed_158.csv\"\n",
      "[1] \"../../../v1_1/data/RIbench//Data/IgE/4240_IgE_seed_267.csv\"\n",
      "[1] \"../../../v1_1/data/RIbench//Data/Hb/347_Hb_seed_123.csv\"\n",
      "[1] \"../../../v1_1/data/RIbench//Data/IgE/4548_IgE_seed_267.csv\"\n",
      "[1] \"../../../v1_1/data/RIbench//Data/Hb/508_Hb_seed_123.csv\"\n",
      "[1] \"../../../v1_1/data/RIbench//Data/AST/2159_AST_seed_265.csv\"\n",
      "[1] \"../../../v1_1/data/RIbench//Data/Ca/866_Ca_seed_236.csv\"\n",
      "[1] \"../../../v1_1/data/RIbench//Data/AST/1745_AST_seed_265.csv\"\n",
      "[1] \"../../../v1_1/data/RIbench//Data/IgE/4386_IgE_seed_267.csv\"\n",
      "[1] \"../../../v1_1/data/RIbench//Data/TSH/3508_TSH_seed_282.csv\"\n"
     ]
    },
    {
     "name": "stderr",
     "output_type": "stream",
     "text": [
      " Data has small sample size (N < 1000). Evaluate results carefully.\n",
      "\n"
     ]
    },
    {
     "name": "stdout",
     "output_type": "stream",
     "text": [
      "[1] \"../../../v1_1/data/RIbench//Data/Ca/1066_Ca_seed_236.csv\"\n",
      "[1] \"../../../v1_1/data/RIbench//Data/TSH/3921_TSH_seed_282.csv\"\n",
      "[1] \"../../../v1_1/data/RIbench//Data/Ca/1088_Ca_seed_236.csv\"\n",
      "[1] \"../../../v1_1/data/RIbench//Data/IgE/4506_IgE_seed_267.csv\"\n",
      "[1] \"../../../v1_1/data/RIbench//Data/AST/1893_AST_seed_265.csv\"\n",
      "[1] \"../../../v1_1/data/RIbench//Data/AST/2131_AST_seed_265.csv\"\n",
      "[1] \"../../../v1_1/data/RIbench//Data/GGT/2911_GGT_seed_14.csv\"\n",
      "[1] \"../../../v1_1/data/RIbench//Data/FT4/1484_FT4_seed_86.csv\"\n",
      "[1] \"../../../v1_1/data/RIbench//Data/AST/2242_AST_seed_265.csv\"\n",
      "[1] \"../../../v1_1/data/RIbench//Data/GGT/3286_GGT_seed_14.csv\"\n",
      "[1] \"../../../v1_1/data/RIbench//Data/FT4/1604_FT4_seed_86.csv\"\n",
      "[1] \"../../../v1_1/data/RIbench//Data/TSH/3468_TSH_seed_282.csv\"\n",
      "[1] \"../../../v1_1/data/RIbench//Data/TSH/3540_TSH_seed_282.csv\"\n"
     ]
    },
    {
     "name": "stderr",
     "output_type": "stream",
     "text": [
      " Data has small sample size (N < 1000). Evaluate results carefully.\n",
      "\n"
     ]
    },
    {
     "name": "stdout",
     "output_type": "stream",
     "text": [
      "[1] \"../../../v1_1/data/RIbench//Data/AST/1740_AST_seed_265.csv\"\n"
     ]
    },
    {
     "name": "stderr",
     "output_type": "stream",
     "text": [
      " Data has small sample size (N < 1000). Evaluate results carefully.\n",
      "\n"
     ]
    },
    {
     "name": "stdout",
     "output_type": "stream",
     "text": [
      "[1] \"../../../v1_1/data/RIbench//Data/Ca/1072_Ca_seed_236.csv\"\n",
      "[1] \"../../../v1_1/data/RIbench//Data/LACT/2513_LACT_seed_158.csv\"\n",
      "[1] \"../../../v1_1/data/RIbench//Data/LACT/2750_LACT_seed_158.csv\"\n",
      "[1] \"../../../v1_1/data/RIbench//Data/AST/2239_AST_seed_265.csv\"\n",
      "[1] \"../../../v1_1/data/RIbench//Data/Hb/535_Hb_seed_123.csv\"\n",
      "[1] \"../../../v1_1/data/RIbench//Data/Hb/54_Hb_seed_123.csv\"\n",
      "[1] \"../../../v1_1/data/RIbench//Data/LACT/2753_LACT_seed_158.csv\"\n",
      "[1] \"../../../v1_1/data/RIbench//Data/Ca/1150_Ca_seed_236.csv\"\n",
      "[1] \"../../../v1_1/data/RIbench//Data/AST/1935_AST_seed_265.csv\"\n",
      "[1] \"../../../v1_1/data/RIbench//Data/Ca/1051_Ca_seed_236.csv\"\n",
      "[1] \"../../../v1_1/data/RIbench//Data/AST/1776_AST_seed_265.csv\"\n"
     ]
    },
    {
     "name": "stderr",
     "output_type": "stream",
     "text": [
      " Data has small sample size (N < 1000). Evaluate results carefully.\n",
      "\n"
     ]
    },
    {
     "name": "stdout",
     "output_type": "stream",
     "text": [
      "[1] \"../../../v1_1/data/RIbench//Data/Hb/404_Hb_seed_123.csv\"\n",
      "[1] \"../../../v1_1/data/RIbench//Data/LACT/2434_LACT_seed_158.csv\"\n",
      "[1] \"../../../v1_1/data/RIbench//Data/Ca/875_Ca_seed_236.csv\"\n",
      "[1] \"../../../v1_1/data/RIbench//Data/IgE/4383_IgE_seed_267.csv\"\n",
      "[1] \"../../../v1_1/data/RIbench//Data/FT4/1544_FT4_seed_86.csv\"\n",
      "[1] \"../../../v1_1/data/RIbench//Data/Ca/743_Ca_seed_236.csv\"\n",
      "[1] \"../../../v1_1/data/RIbench//Data/GGT/3414_GGT_seed_14.csv\"\n",
      "[1] \"../../../v1_1/data/RIbench//Data/GGT/3162_GGT_seed_14.csv\"\n",
      "[1] \"../../../v1_1/data/RIbench//Data/TSH/3707_TSH_seed_282.csv\"\n",
      "[1] \"../../../v1_1/data/RIbench//Data/IgE/4226_IgE_seed_267.csv\"\n",
      "[1] \"../../../v1_1/data/RIbench//Data/Hb/100_Hb_seed_123.csv\"\n"
     ]
    },
    {
     "name": "stderr",
     "output_type": "stream",
     "text": [
      " Data has small sample size (N < 1000). Evaluate results carefully.\n",
      "\n"
     ]
    },
    {
     "name": "stdout",
     "output_type": "stream",
     "text": [
      "[1] \"../../../v1_1/data/RIbench//Data/GGT/3053_GGT_seed_14.csv\"\n",
      "[1] \"../../../v1_1/data/RIbench//Data/LACT/2484_LACT_seed_158.csv\"\n",
      "[1] \"../../../v1_1/data/RIbench//Data/Hb/359_Hb_seed_123.csv\"\n",
      "[1] \"../../../v1_1/data/RIbench//Data/AST/1788_AST_seed_265.csv\"\n"
     ]
    },
    {
     "name": "stderr",
     "output_type": "stream",
     "text": [
      " Data has small sample size (N < 1000). Evaluate results carefully.\n",
      "\n"
     ]
    },
    {
     "name": "stdout",
     "output_type": "stream",
     "text": [
      "[1] \"../../../v1_1/data/RIbench//Data/AST/1960_AST_seed_265.csv\"\n",
      "[1] \"../../../v1_1/data/RIbench//Data/Ca/882_Ca_seed_236.csv\"\n",
      "[1] \"../../../v1_1/data/RIbench//Data/GGT/3283_GGT_seed_14.csv\"\n",
      "[1] \"../../../v1_1/data/RIbench//Data/Hb/188_Hb_seed_123.csv\"\n",
      "[1] \"../../../v1_1/data/RIbench//Data/LACT/2759_LACT_seed_158.csv\"\n",
      "[1] \"../../../v1_1/data/RIbench//Data/AST/1946_AST_seed_265.csv\"\n",
      "[1] \"../../../v1_1/data/RIbench//Data/FT4/1631_FT4_seed_86.csv\"\n",
      "[1] \"../../../v1_1/data/RIbench//Data/LACT/2738_LACT_seed_158.csv\"\n",
      "[1] \"../../../v1_1/data/RIbench//Data/FT4/1700_FT4_seed_86.csv\"\n",
      "[1] \"../../../v1_1/data/RIbench//Data/LACT/2520_LACT_seed_158.csv\"\n",
      "[1] \"../../../v1_1/data/RIbench//Data/LACT/2379_LACT_seed_158.csv\"\n",
      "[1] \"../../../v1_1/data/RIbench//Data/Ca/876_Ca_seed_236.csv\"\n",
      "[1] \"../../../v1_1/data/RIbench//Data/AST/1802_AST_seed_265.csv\"\n"
     ]
    },
    {
     "name": "stderr",
     "output_type": "stream",
     "text": [
      " Data has small sample size (N < 1000). Evaluate results carefully.\n",
      "\n"
     ]
    },
    {
     "name": "stdout",
     "output_type": "stream",
     "text": [
      "[1] \"../../../v1_1/data/RIbench//Data/Hb/259_Hb_seed_123.csv\"\n",
      "[1] \"../../../v1_1/data/RIbench//Data/LACT/2532_LACT_seed_158.csv\"\n",
      "[1] \"../../../v1_1/data/RIbench//Data/FT4/1377_FT4_seed_86.csv\"\n",
      "[1] \"../../../v1_1/data/RIbench//Data/Hb/277_Hb_seed_123.csv\"\n",
      "[1] \"../../../v1_1/data/RIbench//Data/FT4/1429_FT4_seed_86.csv\"\n",
      "[1] \"../../../v1_1/data/RIbench//Data/FT4/1220_FT4_seed_86.csv\"\n"
     ]
    },
    {
     "name": "stderr",
     "output_type": "stream",
     "text": [
      " Data has small sample size (N < 1000). Evaluate results carefully.\n",
      "\n"
     ]
    },
    {
     "name": "stdout",
     "output_type": "stream",
     "text": [
      "[1] \"../../../v1_1/data/RIbench//Data/GGT/3406_GGT_seed_14.csv\"\n",
      "[1] \"../../../v1_1/data/RIbench//Data/Hb/564_Hb_seed_123.csv\"\n",
      "[1] \"../../../v1_1/data/RIbench//Data/TSH/3940_TSH_seed_282.csv\"\n",
      "[1] \"../../../v1_1/data/RIbench//Data/AST/1998_AST_seed_265.csv\"\n",
      "[1] \"../../../v1_1/data/RIbench//Data/GGT/3229_GGT_seed_14.csv\"\n",
      "[1] \"../../../v1_1/data/RIbench//Data/TSH/3481_TSH_seed_282.csv\"\n",
      "[1] \"../../../v1_1/data/RIbench//Data/TSH/3783_TSH_seed_282.csv\"\n",
      "[1] \"../../../v1_1/data/RIbench//Data/LACT/2712_LACT_seed_158.csv\"\n",
      "[1] \"../../../v1_1/data/RIbench//Data/IgE/4034_IgE_seed_267.csv\"\n",
      "[1] \"../../../v1_1/data/RIbench//Data/IgE/4556_IgE_seed_267.csv\"\n",
      "[1] \"../../../v1_1/data/RIbench//Data/TSH/4019_TSH_seed_282.csv\"\n",
      "[1] \"../../../v1_1/data/RIbench//Data/TSH/3949_TSH_seed_282.csv\"\n",
      "[1] \"../../../v1_1/data/RIbench//Data/GGT/3069_GGT_seed_14.csv\"\n",
      "[1] \"../../../v1_1/data/RIbench//Data/GGT/3369_GGT_seed_14.csv\"\n",
      "[1] \"../../../v1_1/data/RIbench//Data/LACT/2710_LACT_seed_158.csv\"\n",
      "[1] \"../../../v1_1/data/RIbench//Data/AST/1836_AST_seed_265.csv\"\n"
     ]
    },
    {
     "name": "stderr",
     "output_type": "stream",
     "text": [
      " Data has small sample size (N < 1000). Evaluate results carefully.\n",
      "\n"
     ]
    },
    {
     "name": "stdout",
     "output_type": "stream",
     "text": [
      "[1] \"../../../v1_1/data/RIbench//Data/TSH/4002_TSH_seed_282.csv\"\n",
      "[1] \"../../../v1_1/data/RIbench//Data/AST/2150_AST_seed_265.csv\"\n",
      "[1] \"../../../v1_1/data/RIbench//Data/TSH/3809_TSH_seed_282.csv\"\n",
      "[1] \"../../../v1_1/data/RIbench//Data/Ca/651_Ca_seed_236.csv\"\n",
      "[1] \"../../../v1_1/data/RIbench//Data/LACT/2830_LACT_seed_158.csv\"\n",
      "[1] \"../../../v1_1/data/RIbench//Data/FT4/1521_FT4_seed_86.csv\"\n",
      "[1] \"../../../v1_1/data/RIbench//Data/GGT/2925_GGT_seed_14.csv\"\n",
      "[1] \"../../../v1_1/data/RIbench//Data/IgE/4377_IgE_seed_267.csv\"\n",
      "[1] \"../../../v1_1/data/RIbench//Data/LACT/2546_LACT_seed_158.csv\"\n",
      "[1] \"../../../v1_1/data/RIbench//Data/Ca/1004_Ca_seed_236.csv\"\n",
      "[1] \"../../../v1_1/data/RIbench//Data/TSH/3916_TSH_seed_282.csv\"\n",
      "[1] \"../../../v1_1/data/RIbench//Data/Ca/602_Ca_seed_236.csv\"\n"
     ]
    },
    {
     "name": "stderr",
     "output_type": "stream",
     "text": [
      " Data has small sample size (N < 1000). Evaluate results carefully.\n",
      "\n"
     ]
    },
    {
     "name": "stdout",
     "output_type": "stream",
     "text": [
      "[1] \"../../../v1_1/data/RIbench//Data/IgE/4426_IgE_seed_267.csv\"\n",
      "[1] \"../../../v1_1/data/RIbench//Data/FT4/1590_FT4_seed_86.csv\"\n",
      "[1] \"../../../v1_1/data/RIbench//Data/Hb/226_Hb_seed_123.csv\"\n",
      "[1] \"../../../v1_1/data/RIbench//Data/GGT/2962_GGT_seed_14.csv\"\n",
      "[1] \"../../../v1_1/data/RIbench//Data/TSH/3887_TSH_seed_282.csv\"\n",
      "[1] \"../../../v1_1/data/RIbench//Data/Hb/325_Hb_seed_123.csv\"\n",
      "[1] \"../../../v1_1/data/RIbench//Data/AST/2216_AST_seed_265.csv\"\n",
      "[1] \"../../../v1_1/data/RIbench//Data/FT4/1528_FT4_seed_86.csv\"\n",
      "[1] \"../../../v1_1/data/RIbench//Data/Hb/518_Hb_seed_123.csv\"\n",
      "[1] \"../../../v1_1/data/RIbench//Data/TSH/3914_TSH_seed_282.csv\"\n",
      "[1] \"../../../v1_1/data/RIbench//Data/Hb/403_Hb_seed_123.csv\"\n",
      "[1] \"../../../v1_1/data/RIbench//Data/Ca/1055_Ca_seed_236.csv\"\n",
      "[1] \"../../../v1_1/data/RIbench//Data/LACT/2339_LACT_seed_158.csv\"\n",
      "[1] \"../../../v1_1/data/RIbench//Data/Hb/528_Hb_seed_123.csv\"\n",
      "[1] \"../../../v1_1/data/RIbench//Data/Hb/491_Hb_seed_123.csv\"\n",
      "[1] \"../../../v1_1/data/RIbench//Data/IgE/4549_IgE_seed_267.csv\"\n",
      "[1] \"../../../v1_1/data/RIbench//Data/Ca/1030_Ca_seed_236.csv\"\n",
      "[1] \"../../../v1_1/data/RIbench//Data/AST/1949_AST_seed_265.csv\"\n",
      "[1] \"../../../v1_1/data/RIbench//Data/FT4/1627_FT4_seed_86.csv\"\n",
      "[1] \"../../../v1_1/data/RIbench//Data/GGT/3347_GGT_seed_14.csv\"\n",
      "[1] \"../../../v1_1/data/RIbench//Data/IgE/4297_IgE_seed_267.csv\"\n",
      "[1] \"../../../v1_1/data/RIbench//Data/IgE/4115_IgE_seed_267.csv\"\n",
      "[1] \"../../../v1_1/data/RIbench//Data/Hb/559_Hb_seed_123.csv\"\n",
      "[1] \"../../../v1_1/data/RIbench//Data/LACT/2698_LACT_seed_158.csv\"\n",
      "[1] \"../../../v1_1/data/RIbench//Data/Hb/111_Hb_seed_123.csv\"\n",
      "[1] \"../../../v1_1/data/RIbench//Data/FT4/1568_FT4_seed_86.csv\"\n",
      "[1] \"../../../v1_1/data/RIbench//Data/IgE/4036_IgE_seed_267.csv\"\n"
     ]
    },
    {
     "name": "stderr",
     "output_type": "stream",
     "text": [
      " Data has small sample size (N < 1000). Evaluate results carefully.\n",
      "\n"
     ]
    },
    {
     "name": "stdout",
     "output_type": "stream",
     "text": [
      "[1] \"../../../v1_1/data/RIbench//Data/LACT/2555_LACT_seed_158.csv\"\n",
      "[1] \"../../../v1_1/data/RIbench//Data/IgE/4278_IgE_seed_267.csv\"\n",
      "[1] \"../../../v1_1/data/RIbench//Data/Ca/641_Ca_seed_236.csv\"\n",
      "[1] \"../../../v1_1/data/RIbench//Data/TSH/3889_TSH_seed_282.csv\"\n",
      "[1] \"../../../v1_1/data/RIbench//Data/Ca/682_Ca_seed_236.csv\"\n"
     ]
    },
    {
     "name": "stderr",
     "output_type": "stream",
     "text": [
      " Data has small sample size (N < 1000). Evaluate results carefully.\n",
      "\n"
     ]
    },
    {
     "name": "stdout",
     "output_type": "stream",
     "text": [
      "[1] \"../../../v1_1/data/RIbench//Data/Ca/662_Ca_seed_236.csv\"\n"
     ]
    },
    {
     "name": "stderr",
     "output_type": "stream",
     "text": [
      " Data has small sample size (N < 1000). Evaluate results carefully.\n",
      "\n"
     ]
    },
    {
     "name": "stdout",
     "output_type": "stream",
     "text": [
      "[1] \"../../../v1_1/data/RIbench//Data/LACT/2385_LACT_seed_158.csv\"\n",
      "[1] \"../../../v1_1/data/RIbench//Data/IgE/4515_IgE_seed_267.csv\"\n",
      "[1] \"../../../v1_1/data/RIbench//Data/TSH/3961_TSH_seed_282.csv\"\n",
      "[1] \"../../../v1_1/data/RIbench//Data/GGT/3002_GGT_seed_14.csv\"\n"
     ]
    },
    {
     "name": "stderr",
     "output_type": "stream",
     "text": [
      " Data has small sample size (N < 1000). Evaluate results carefully.\n",
      "\n"
     ]
    },
    {
     "name": "stdout",
     "output_type": "stream",
     "text": [
      "[1] \"../../../v1_1/data/RIbench//Data/GGT/3095_GGT_seed_14.csv\"\n",
      "[1] \"../../../v1_1/data/RIbench//Data/LACT/2875_LACT_seed_158.csv\"\n",
      "[1] \"../../../v1_1/data/RIbench//Data/Hb/438_Hb_seed_123.csv\"\n",
      "[1] \"../../../v1_1/data/RIbench//Data/GGT/2995_GGT_seed_14.csv\"\n",
      "[1] \"../../../v1_1/data/RIbench//Data/TSH/3873_TSH_seed_282.csv\"\n",
      "[1] \"../../../v1_1/data/RIbench//Data/Hb/247_Hb_seed_123.csv\"\n",
      "[1] \"../../../v1_1/data/RIbench//Data/GGT/3050_GGT_seed_14.csv\"\n",
      "[1] \"../../../v1_1/data/RIbench//Data/AST/1772_AST_seed_265.csv\"\n"
     ]
    },
    {
     "name": "stderr",
     "output_type": "stream",
     "text": [
      " Data has small sample size (N < 1000). Evaluate results carefully.\n",
      "\n"
     ]
    },
    {
     "name": "stdout",
     "output_type": "stream",
     "text": [
      "[1] \"../../../v1_1/data/RIbench//Data/Ca/609_Ca_seed_236.csv\"\n",
      "[1] \"../../../v1_1/data/RIbench//Data/GGT/3393_GGT_seed_14.csv\"\n",
      "[1] \"../../../v1_1/data/RIbench//Data/GGT/3080_GGT_seed_14.csv\"\n",
      "[1] \"../../../v1_1/data/RIbench//Data/LACT/2392_LACT_seed_158.csv\"\n",
      "[1] \"../../../v1_1/data/RIbench//Data/AST/1964_AST_seed_265.csv\"\n",
      "[1] \"../../../v1_1/data/RIbench//Data/IgE/4060_IgE_seed_267.csv\"\n",
      "[1] \"../../../v1_1/data/RIbench//Data/TSH/3930_TSH_seed_282.csv\"\n",
      "[1] \"../../../v1_1/data/RIbench//Data/AST/2131_AST_seed_265.csv\"\n",
      "[1] \"../../../v1_1/data/RIbench//Data/Hb/12_Hb_seed_123.csv\"\n",
      "[1] \"../../../v1_1/data/RIbench//Data/Ca/635_Ca_seed_236.csv\"\n",
      "[1] \"../../../v1_1/data/RIbench//Data/Ca/631_Ca_seed_236.csv\"\n",
      "[1] \"../../../v1_1/data/RIbench//Data/Ca/950_Ca_seed_236.csv\"\n",
      "[1] \"../../../v1_1/data/RIbench//Data/IgE/4197_IgE_seed_267.csv\"\n",
      "[1] \"../../../v1_1/data/RIbench//Data/LACT/2614_LACT_seed_158.csv\"\n",
      "[1] \"../../../v1_1/data/RIbench//Data/TSH/3637_TSH_seed_282.csv\"\n",
      "[1] \"../../../v1_1/data/RIbench//Data/Hb/196_Hb_seed_123.csv\"\n",
      "[1] \"../../../v1_1/data/RIbench//Data/AST/2150_AST_seed_265.csv\"\n",
      "[1] \"../../../v1_1/data/RIbench//Data/AST/2185_AST_seed_265.csv\"\n",
      "[1] \"../../../v1_1/data/RIbench//Data/IgE/4558_IgE_seed_267.csv\"\n",
      "[1] \"../../../v1_1/data/RIbench//Data/Ca/622_Ca_seed_236.csv\"\n"
     ]
    },
    {
     "name": "stderr",
     "output_type": "stream",
     "text": [
      " Data has small sample size (N < 1000). Evaluate results carefully.\n",
      "\n"
     ]
    },
    {
     "name": "stdout",
     "output_type": "stream",
     "text": [
      "[1] \"../../../v1_1/data/RIbench//Data/IgE/4241_IgE_seed_267.csv\"\n",
      "[1] \"../../../v1_1/data/RIbench//Data/IgE/4303_IgE_seed_267.csv\"\n",
      "[1] \"../../../v1_1/data/RIbench//Data/GGT/3273_GGT_seed_14.csv\"\n",
      "[1] \"../../../v1_1/data/RIbench//Data/IgE/4494_IgE_seed_267.csv\"\n",
      "[1] \"../../../v1_1/data/RIbench//Data/IgE/4403_IgE_seed_267.csv\"\n",
      "[1] \"../../../v1_1/data/RIbench//Data/TSH/3516_TSH_seed_282.csv\"\n",
      "[1] \"../../../v1_1/data/RIbench//Data/AST/1936_AST_seed_265.csv\"\n",
      "[1] \"../../../v1_1/data/RIbench//Data/IgE/4335_IgE_seed_267.csv\"\n",
      "[1] \"../../../v1_1/data/RIbench//Data/Hb/128_Hb_seed_123.csv\"\n"
     ]
    },
    {
     "name": "stderr",
     "output_type": "stream",
     "text": [
      " Data has small sample size (N < 1000). Evaluate results carefully.\n",
      "\n"
     ]
    },
    {
     "name": "stdout",
     "output_type": "stream",
     "text": [
      "[1] \"../../../v1_1/data/RIbench//Data/GGT/3409_GGT_seed_14.csv\"\n",
      "[1] \"../../../v1_1/data/RIbench//Data/TSH/3716_TSH_seed_282.csv\"\n",
      "[1] \"../../../v1_1/data/RIbench//Data/TSH/3792_TSH_seed_282.csv\"\n",
      "[1] \"../../../v1_1/data/RIbench//Data/Ca/808_Ca_seed_236.csv\"\n",
      "[1] \"../../../v1_1/data/RIbench//Data/FT4/1517_FT4_seed_86.csv\"\n",
      "[1] \"../../../v1_1/data/RIbench//Data/Ca/781_Ca_seed_236.csv\"\n",
      "[1] \"../../../v1_1/data/RIbench//Data/AST/1905_AST_seed_265.csv\"\n",
      "[1] \"../../../v1_1/data/RIbench//Data/IgE/4484_IgE_seed_267.csv\"\n",
      "[1] \"../../../v1_1/data/RIbench//Data/TSH/3927_TSH_seed_282.csv\"\n",
      "[1] \"../../../v1_1/data/RIbench//Data/TSH/3816_TSH_seed_282.csv\"\n",
      "[1] \"../../../v1_1/data/RIbench//Data/GGT/2896_GGT_seed_14.csv\"\n",
      "[1] \"../../../v1_1/data/RIbench//Data/TSH/3915_TSH_seed_282.csv\"\n",
      "[1] \"../../../v1_1/data/RIbench//Data/IgE/4250_IgE_seed_267.csv\"\n",
      "[1] \"../../../v1_1/data/RIbench//Data/AST/1805_AST_seed_265.csv\"\n",
      "[1] \"../../../v1_1/data/RIbench//Data/FT4/1239_FT4_seed_86.csv\"\n",
      "[1] \"../../../v1_1/data/RIbench//Data/TSH/3792_TSH_seed_282.csv\"\n",
      "[1] \"../../../v1_1/data/RIbench//Data/GGT/3318_GGT_seed_14.csv\"\n",
      "[1] \"../../../v1_1/data/RIbench//Data/Ca/614_Ca_seed_236.csv\"\n"
     ]
    },
    {
     "name": "stderr",
     "output_type": "stream",
     "text": [
      " Data has small sample size (N < 1000). Evaluate results carefully.\n",
      "\n"
     ]
    },
    {
     "name": "stdout",
     "output_type": "stream",
     "text": [
      "[1] \"../../../v1_1/data/RIbench//Data/GGT/3105_GGT_seed_14.csv\"\n",
      "[1] \"../../../v1_1/data/RIbench//Data/LACT/2350_LACT_seed_158.csv\"\n",
      "[1] \"../../../v1_1/data/RIbench//Data/Ca/881_Ca_seed_236.csv\"\n",
      "[1] \"../../../v1_1/data/RIbench//Data/TSH/3788_TSH_seed_282.csv\"\n",
      "[1] \"../../../v1_1/data/RIbench//Data/IgE/4063_IgE_seed_267.csv\"\n",
      "[1] \"../../../v1_1/data/RIbench//Data/Hb/453_Hb_seed_123.csv\"\n",
      "[1] \"../../../v1_1/data/RIbench//Data/AST/1996_AST_seed_265.csv\"\n",
      "[1] \"../../../v1_1/data/RIbench//Data/LACT/2433_LACT_seed_158.csv\"\n",
      "[1] \"../../../v1_1/data/RIbench//Data/LACT/2556_LACT_seed_158.csv\"\n",
      "[1] \"../../../v1_1/data/RIbench//Data/AST/1744_AST_seed_265.csv\"\n"
     ]
    },
    {
     "name": "stderr",
     "output_type": "stream",
     "text": [
      " Data has small sample size (N < 1000). Evaluate results carefully.\n",
      "\n"
     ]
    },
    {
     "name": "stdout",
     "output_type": "stream",
     "text": [
      "[1] \"../../../v1_1/data/RIbench//Data/Hb/115_Hb_seed_123.csv\"\n",
      "[1] \"../../../v1_1/data/RIbench//Data/TSH/3529_TSH_seed_282.csv\"\n",
      "[1] \"../../../v1_1/data/RIbench//Data/Ca/802_Ca_seed_236.csv\"\n",
      "[1] \"../../../v1_1/data/RIbench//Data/GGT/2980_GGT_seed_14.csv\"\n"
     ]
    },
    {
     "name": "stderr",
     "output_type": "stream",
     "text": [
      " Data has small sample size (N < 1000). Evaluate results carefully.\n",
      "\n"
     ]
    },
    {
     "name": "stdout",
     "output_type": "stream",
     "text": [
      "[1] \"../../../v1_1/data/RIbench//Data/Hb/403_Hb_seed_123.csv\"\n",
      "[1] \"../../../v1_1/data/RIbench//Data/FT4/1657_FT4_seed_86.csv\"\n",
      "[1] \"../../../v1_1/data/RIbench//Data/Hb/219_Hb_seed_123.csv\"\n",
      "[1] \"../../../v1_1/data/RIbench//Data/Hb/31_Hb_seed_123.csv\"\n",
      "[1] \"../../../v1_1/data/RIbench//Data/FT4/1501_FT4_seed_86.csv\"\n",
      "[1] \"../../../v1_1/data/RIbench//Data/AST/1778_AST_seed_265.csv\"\n",
      "[1] \"../../../v1_1/data/RIbench//Data/FT4/1535_FT4_seed_86.csv\"\n",
      "[1] \"../../../v1_1/data/RIbench//Data/Ca/709_Ca_seed_236.csv\"\n",
      "[1] \"../../../v1_1/data/RIbench//Data/IgE/4441_IgE_seed_267.csv\"\n",
      "[1] \"../../../v1_1/data/RIbench//Data/AST/2256_AST_seed_265.csv\"\n",
      "[1] \"../../../v1_1/data/RIbench//Data/AST/2144_AST_seed_265.csv\"\n",
      "[1] \"../../../v1_1/data/RIbench//Data/IgE/4435_IgE_seed_267.csv\"\n",
      "[1] \"../../../v1_1/data/RIbench//Data/IgE/4423_IgE_seed_267.csv\"\n",
      "[1] \"../../../v1_1/data/RIbench//Data/Hb/384_Hb_seed_123.csv\"\n",
      "[1] \"../../../v1_1/data/RIbench//Data/GGT/3303_GGT_seed_14.csv\"\n",
      "[1] \"../../../v1_1/data/RIbench//Data/IgE/4353_IgE_seed_267.csv\"\n",
      "[1] \"../../../v1_1/data/RIbench//Data/LACT/2333_LACT_seed_158.csv\"\n",
      "[1] \"../../../v1_1/data/RIbench//Data/Hb/571_Hb_seed_123.csv\"\n",
      "[1] \"../../../v1_1/data/RIbench//Data/IgE/4495_IgE_seed_267.csv\"\n",
      "[1] \"../../../v1_1/data/RIbench//Data/GGT/3014_GGT_seed_14.csv\"\n",
      "[1] \"../../../v1_1/data/RIbench//Data/LACT/2553_LACT_seed_158.csv\"\n",
      "[1] \"../../../v1_1/data/RIbench//Data/IgE/4396_IgE_seed_267.csv\"\n",
      "[1] \"../../../v1_1/data/RIbench//Data/LACT/2684_LACT_seed_158.csv\"\n",
      "[1] \"../../../v1_1/data/RIbench//Data/Ca/792_Ca_seed_236.csv\"\n",
      "[1] \"../../../v1_1/data/RIbench//Data/FT4/1682_FT4_seed_86.csv\"\n",
      "[1] \"../../../v1_1/data/RIbench//Data/Ca/990_Ca_seed_236.csv\"\n",
      "[1] \"../../../v1_1/data/RIbench//Data/FT4/1651_FT4_seed_86.csv\"\n",
      "[1] \"../../../v1_1/data/RIbench//Data/IgE/4479_IgE_seed_267.csv\"\n",
      "[1] \"../../../v1_1/data/RIbench//Data/IgE/4130_IgE_seed_267.csv\"\n",
      "[1] \"../../../v1_1/data/RIbench//Data/FT4/1223_FT4_seed_86.csv\"\n",
      "[1] \"../../../v1_1/data/RIbench//Data/Ca/1030_Ca_seed_236.csv\"\n",
      "[1] \"../../../v1_1/data/RIbench//Data/Ca/766_Ca_seed_236.csv\"\n",
      "[1] \"../../../v1_1/data/RIbench//Data/Ca/922_Ca_seed_236.csv\"\n",
      "[1] \"../../../v1_1/data/RIbench//Data/TSH/3968_TSH_seed_282.csv\"\n",
      "[1] \"../../../v1_1/data/RIbench//Data/FT4/1638_FT4_seed_86.csv\"\n",
      "[1] \"../../../v1_1/data/RIbench//Data/LACT/2403_LACT_seed_158.csv\"\n",
      "[1] \"../../../v1_1/data/RIbench//Data/TSH/3873_TSH_seed_282.csv\"\n",
      "[1] \"../../../v1_1/data/RIbench//Data/Ca/590_Ca_seed_236.csv\"\n"
     ]
    },
    {
     "name": "stderr",
     "output_type": "stream",
     "text": [
      " Data has small sample size (N < 1000). Evaluate results carefully.\n",
      "\n"
     ]
    },
    {
     "name": "stdout",
     "output_type": "stream",
     "text": [
      "[1] \"../../../v1_1/data/RIbench//Data/LACT/2362_LACT_seed_158.csv\"\n"
     ]
    },
    {
     "name": "stderr",
     "output_type": "stream",
     "text": [
      " Data has small sample size (N < 1000). Evaluate results carefully.\n",
      "\n"
     ]
    },
    {
     "name": "stdout",
     "output_type": "stream",
     "text": [
      "[1] \"../../../v1_1/data/RIbench//Data/LACT/2385_LACT_seed_158.csv\"\n",
      "[1] \"../../../v1_1/data/RIbench//Data/Hb/463_Hb_seed_123.csv\"\n",
      "[1] \"../../../v1_1/data/RIbench//Data/LACT/2825_LACT_seed_158.csv\"\n",
      "[1] \"../../../v1_1/data/RIbench//Data/Ca/653_Ca_seed_236.csv\"\n",
      "[1] \"../../../v1_1/data/RIbench//Data/AST/2078_AST_seed_265.csv\"\n",
      "[1] \"../../../v1_1/data/RIbench//Data/Ca/673_Ca_seed_236.csv\"\n",
      "[1] \"../../../v1_1/data/RIbench//Data/IgE/4485_IgE_seed_267.csv\"\n",
      "[1] \"../../../v1_1/data/RIbench//Data/Hb/169_Hb_seed_123.csv\"\n",
      "[1] \"../../../v1_1/data/RIbench//Data/LACT/2583_LACT_seed_158.csv\"\n",
      "[1] \"../../../v1_1/data/RIbench//Data/AST/1957_AST_seed_265.csv\"\n",
      "[1] \"../../../v1_1/data/RIbench//Data/Hb/347_Hb_seed_123.csv\"\n",
      "[1] \"../../../v1_1/data/RIbench//Data/AST/1990_AST_seed_265.csv\"\n",
      "[1] \"../../../v1_1/data/RIbench//Data/Hb/140_Hb_seed_123.csv\"\n",
      "[1] \"../../../v1_1/data/RIbench//Data/AST/1837_AST_seed_265.csv\"\n",
      "[1] \"../../../v1_1/data/RIbench//Data/FT4/1288_FT4_seed_86.csv\"\n"
     ]
    },
    {
     "name": "stderr",
     "output_type": "stream",
     "text": [
      " Data has small sample size (N < 1000). Evaluate results carefully.\n",
      "\n"
     ]
    },
    {
     "name": "stdout",
     "output_type": "stream",
     "text": [
      "[1] \"../../../v1_1/data/RIbench//Data/Hb/287_Hb_seed_123.csv\"\n",
      "[1] \"../../../v1_1/data/RIbench//Data/LACT/2566_LACT_seed_158.csv\"\n",
      "[1] \"../../../v1_1/data/RIbench//Data/GGT/2968_GGT_seed_14.csv\"\n",
      "[1] \"../../../v1_1/data/RIbench//Data/FT4/1266_FT4_seed_86.csv\"\n",
      "[1] \"../../../v1_1/data/RIbench//Data/Ca/671_Ca_seed_236.csv\"\n",
      "[1] \"../../../v1_1/data/RIbench//Data/AST/2301_AST_seed_265.csv\"\n",
      "[1] \"../../../v1_1/data/RIbench//Data/GGT/3376_GGT_seed_14.csv\"\n",
      "[1] \"../../../v1_1/data/RIbench//Data/TSH/3697_TSH_seed_282.csv\"\n",
      "[1] \"../../../v1_1/data/RIbench//Data/Hb/217_Hb_seed_123.csv\"\n",
      "[1] \"../../../v1_1/data/RIbench//Data/TSH/3832_TSH_seed_282.csv\"\n",
      "[1] \"../../../v1_1/data/RIbench//Data/FT4/1622_FT4_seed_86.csv\"\n",
      "[1] \"../../../v1_1/data/RIbench//Data/FT4/1308_FT4_seed_86.csv\"\n",
      "[1] \"../../../v1_1/data/RIbench//Data/Ca/757_Ca_seed_236.csv\"\n",
      "[1] \"../../../v1_1/data/RIbench//Data/GGT/2919_GGT_seed_14.csv\"\n",
      "[1] \"../../../v1_1/data/RIbench//Data/GGT/3217_GGT_seed_14.csv\"\n",
      "[1] \"../../../v1_1/data/RIbench//Data/LACT/2554_LACT_seed_158.csv\"\n",
      "[1] \"../../../v1_1/data/RIbench//Data/Ca/921_Ca_seed_236.csv\"\n",
      "[1] \"../../../v1_1/data/RIbench//Data/Ca/592_Ca_seed_236.csv\"\n"
     ]
    },
    {
     "name": "stderr",
     "output_type": "stream",
     "text": [
      " Data has small sample size (N < 1000). Evaluate results carefully.\n",
      "\n"
     ]
    },
    {
     "name": "stdout",
     "output_type": "stream",
     "text": [
      "[1] \"../../../v1_1/data/RIbench//Data/TSH/3764_TSH_seed_282.csv\"\n",
      "[1] \"../../../v1_1/data/RIbench//Data/FT4/1589_FT4_seed_86.csv\"\n",
      "[1] \"../../../v1_1/data/RIbench//Data/LACT/2410_LACT_seed_158.csv\"\n",
      "[1] \"../../../v1_1/data/RIbench//Data/FT4/1216_FT4_seed_86.csv\"\n"
     ]
    },
    {
     "name": "stderr",
     "output_type": "stream",
     "text": [
      " Data has small sample size (N < 1000). Evaluate results carefully.\n",
      "\n"
     ]
    },
    {
     "name": "stdout",
     "output_type": "stream",
     "text": [
      "[1] \"../../../v1_1/data/RIbench//Data/FT4/1638_FT4_seed_86.csv\"\n",
      "[1] \"../../../v1_1/data/RIbench//Data/TSH/3824_TSH_seed_282.csv\"\n",
      "[1] \"../../../v1_1/data/RIbench//Data/LACT/2346_LACT_seed_158.csv\"\n"
     ]
    },
    {
     "name": "stderr",
     "output_type": "stream",
     "text": [
      " Data has small sample size (N < 1000). Evaluate results carefully.\n",
      "\n"
     ]
    },
    {
     "name": "stdout",
     "output_type": "stream",
     "text": [
      "[1] \"../../../v1_1/data/RIbench//Data/Ca/999_Ca_seed_236.csv\"\n",
      "[1] \"../../../v1_1/data/RIbench//Data/Ca/972_Ca_seed_236.csv\"\n",
      "[1] \"../../../v1_1/data/RIbench//Data/Ca/819_Ca_seed_236.csv\"\n",
      "[1] \"../../../v1_1/data/RIbench//Data/Ca/1150_Ca_seed_236.csv\"\n",
      "[1] \"../../../v1_1/data/RIbench//Data/LACT/2736_LACT_seed_158.csv\"\n",
      "[1] \"../../../v1_1/data/RIbench//Data/Ca/858_Ca_seed_236.csv\"\n",
      "[1] \"../../../v1_1/data/RIbench//Data/IgE/4197_IgE_seed_267.csv\"\n",
      "[1] \"../../../v1_1/data/RIbench//Data/Ca/1124_Ca_seed_236.csv\"\n",
      "[1] \"../../../v1_1/data/RIbench//Data/GGT/3015_GGT_seed_14.csv\"\n",
      "[1] \"../../../v1_1/data/RIbench//Data/AST/2126_AST_seed_265.csv\"\n",
      "[1] \"../../../v1_1/data/RIbench//Data/Hb/135_Hb_seed_123.csv\"\n",
      "[1] \"../../../v1_1/data/RIbench//Data/GGT/3247_GGT_seed_14.csv\"\n",
      "[1] \"../../../v1_1/data/RIbench//Data/IgE/4138_IgE_seed_267.csv\"\n"
     ]
    },
    {
     "name": "stderr",
     "output_type": "stream",
     "text": [
      " Data has small sample size (N < 1000). Evaluate results carefully.\n",
      "\n"
     ]
    },
    {
     "name": "stdout",
     "output_type": "stream",
     "text": [
      "[1] \"../../../v1_1/data/RIbench//Data/Ca/1056_Ca_seed_236.csv\"\n",
      "[1] \"../../../v1_1/data/RIbench//Data/FT4/1684_FT4_seed_86.csv\"\n",
      "[1] \"../../../v1_1/data/RIbench//Data/FT4/1279_FT4_seed_86.csv\"\n",
      "[1] \"../../../v1_1/data/RIbench//Data/Hb/77_Hb_seed_123.csv\"\n",
      "[1] \"../../../v1_1/data/RIbench//Data/IgE/4266_IgE_seed_267.csv\"\n",
      "[1] \"../../../v1_1/data/RIbench//Data/TSH/4020_TSH_seed_282.csv\"\n",
      "[1] \"../../../v1_1/data/RIbench//Data/AST/2272_AST_seed_265.csv\"\n",
      "[1] \"../../../v1_1/data/RIbench//Data/GGT/3241_GGT_seed_14.csv\"\n",
      "[1] \"../../../v1_1/data/RIbench//Data/IgE/4415_IgE_seed_267.csv\"\n",
      "[1] \"../../../v1_1/data/RIbench//Data/LACT/2474_LACT_seed_158.csv\"\n",
      "[1] \"../../../v1_1/data/RIbench//Data/TSH/3987_TSH_seed_282.csv\"\n",
      "[1] \"../../../v1_1/data/RIbench//Data/TSH/3657_TSH_seed_282.csv\"\n",
      "[1] \"../../../v1_1/data/RIbench//Data/LACT/2797_LACT_seed_158.csv\"\n",
      "[1] \"../../../v1_1/data/RIbench//Data/IgE/4249_IgE_seed_267.csv\"\n",
      "[1] \"../../../v1_1/data/RIbench//Data/Ca/663_Ca_seed_236.csv\"\n",
      "[1] \"../../../v1_1/data/RIbench//Data/AST/2186_AST_seed_265.csv\"\n",
      "[1] \"../../../v1_1/data/RIbench//Data/IgE/4278_IgE_seed_267.csv\"\n",
      "[1] \"../../../v1_1/data/RIbench//Data/Ca/729_Ca_seed_236.csv\"\n",
      "[1] \"../../../v1_1/data/RIbench//Data/IgE/4464_IgE_seed_267.csv\"\n",
      "[1] \"../../../v1_1/data/RIbench//Data/Ca/818_Ca_seed_236.csv\"\n",
      "[1] \"../../../v1_1/data/RIbench//Data/AST/1946_AST_seed_265.csv\"\n",
      "[1] \"../../../v1_1/data/RIbench//Data/Hb/212_Hb_seed_123.csv\"\n",
      "[1] \"../../../v1_1/data/RIbench//Data/TSH/3998_TSH_seed_282.csv\"\n",
      "[1] \"../../../v1_1/data/RIbench//Data/IgE/4453_IgE_seed_267.csv\"\n",
      "[1] \"../../../v1_1/data/RIbench//Data/Hb/396_Hb_seed_123.csv\"\n",
      "[1] \"../../../v1_1/data/RIbench//Data/AST/2025_AST_seed_265.csv\"\n",
      "[1] \"../../../v1_1/data/RIbench//Data/Hb/132_Hb_seed_123.csv\"\n"
     ]
    },
    {
     "name": "stderr",
     "output_type": "stream",
     "text": [
      " Data has small sample size (N < 1000). Evaluate results carefully.\n",
      "\n"
     ]
    },
    {
     "name": "stdout",
     "output_type": "stream",
     "text": [
      "[1] \"../../../v1_1/data/RIbench//Data/LACT/2311_LACT_seed_158.csv\"\n",
      "[1] \"../../../v1_1/data/RIbench//Data/IgE/4599_IgE_seed_267.csv\"\n",
      "[1] \"../../../v1_1/data/RIbench//Data/GGT/2949_GGT_seed_14.csv\"\n",
      "[1] \"../../../v1_1/data/RIbench//Data/AST/2123_AST_seed_265.csv\"\n",
      "[1] \"../../../v1_1/data/RIbench//Data/TSH/3957_TSH_seed_282.csv\"\n",
      "[1] \"../../../v1_1/data/RIbench//Data/AST/1808_AST_seed_265.csv\"\n"
     ]
    },
    {
     "name": "stderr",
     "output_type": "stream",
     "text": [
      " Data has small sample size (N < 1000). Evaluate results carefully.\n",
      "\n"
     ]
    },
    {
     "name": "stdout",
     "output_type": "stream",
     "text": [
      "[1] \"../../../v1_1/data/RIbench//Data/IgE/4487_IgE_seed_267.csv\"\n",
      "[1] \"../../../v1_1/data/RIbench//Data/IgE/4269_IgE_seed_267.csv\"\n",
      "[1] \"../../../v1_1/data/RIbench//Data/GGT/2953_GGT_seed_14.csv\"\n",
      "[1] \"../../../v1_1/data/RIbench//Data/Hb/260_Hb_seed_123.csv\"\n",
      "[1] \"../../../v1_1/data/RIbench//Data/Ca/1093_Ca_seed_236.csv\"\n",
      "[1] \"../../../v1_1/data/RIbench//Data/LACT/2326_LACT_seed_158.csv\"\n",
      "[1] \"../../../v1_1/data/RIbench//Data/AST/1929_AST_seed_265.csv\"\n",
      "[1] \"../../../v1_1/data/RIbench//Data/LACT/2678_LACT_seed_158.csv\"\n",
      "[1] \"../../../v1_1/data/RIbench//Data/TSH/3814_TSH_seed_282.csv\"\n",
      "[1] \"../../../v1_1/data/RIbench//Data/LACT/2499_LACT_seed_158.csv\"\n",
      "[1] \"../../../v1_1/data/RIbench//Data/FT4/1416_FT4_seed_86.csv\"\n",
      "[1] \"../../../v1_1/data/RIbench//Data/GGT/3229_GGT_seed_14.csv\"\n",
      "[1] \"../../../v1_1/data/RIbench//Data/GGT/3360_GGT_seed_14.csv\"\n",
      "[1] \"../../../v1_1/data/RIbench//Data/IgE/4076_IgE_seed_267.csv\"\n",
      "[1] \"../../../v1_1/data/RIbench//Data/AST/1784_AST_seed_265.csv\"\n"
     ]
    },
    {
     "name": "stderr",
     "output_type": "stream",
     "text": [
      " Data has small sample size (N < 1000). Evaluate results carefully.\n",
      "\n"
     ]
    },
    {
     "name": "stdout",
     "output_type": "stream",
     "text": [
      "[1] \"../../../v1_1/data/RIbench//Data/Ca/885_Ca_seed_236.csv\"\n",
      "[1] \"../../../v1_1/data/RIbench//Data/TSH/3556_TSH_seed_282.csv\"\n"
     ]
    },
    {
     "name": "stderr",
     "output_type": "stream",
     "text": [
      " Data has small sample size (N < 1000). Evaluate results carefully.\n",
      "\n"
     ]
    },
    {
     "name": "stdout",
     "output_type": "stream",
     "text": [
      "[1] \"../../../v1_1/data/RIbench//Data/TSH/3947_TSH_seed_282.csv\"\n",
      "[1] \"../../../v1_1/data/RIbench//Data/LACT/2844_LACT_seed_158.csv\"\n",
      "[1] \"../../../v1_1/data/RIbench//Data/Ca/799_Ca_seed_236.csv\"\n",
      "[1] \"../../../v1_1/data/RIbench//Data/TSH/3999_TSH_seed_282.csv\"\n",
      "[1] \"../../../v1_1/data/RIbench//Data/Ca/1059_Ca_seed_236.csv\"\n",
      "[1] \"../../../v1_1/data/RIbench//Data/Ca/711_Ca_seed_236.csv\"\n",
      "[1] \"../../../v1_1/data/RIbench//Data/Hb/53_Hb_seed_123.csv\"\n",
      "[1] \"../../../v1_1/data/RIbench//Data/TSH/3889_TSH_seed_282.csv\"\n",
      "[1] \"../../../v1_1/data/RIbench//Data/AST/1848_AST_seed_265.csv\"\n"
     ]
    },
    {
     "name": "stderr",
     "output_type": "stream",
     "text": [
      " Data has small sample size (N < 1000). Evaluate results carefully.\n",
      "\n"
     ]
    },
    {
     "name": "stdout",
     "output_type": "stream",
     "text": [
      "[1] \"../../../v1_1/data/RIbench//Data/Hb/473_Hb_seed_123.csv\"\n",
      "[1] \"../../../v1_1/data/RIbench//Data/FT4/1334_FT4_seed_86.csv\"\n",
      "[1] \"../../../v1_1/data/RIbench//Data/AST/1892_AST_seed_265.csv\"\n",
      "[1] \"../../../v1_1/data/RIbench//Data/Ca/905_Ca_seed_236.csv\"\n",
      "[1] \"../../../v1_1/data/RIbench//Data/IgE/4218_IgE_seed_267.csv\"\n",
      "[1] \"../../../v1_1/data/RIbench//Data/Ca/608_Ca_seed_236.csv\"\n"
     ]
    },
    {
     "name": "stderr",
     "output_type": "stream",
     "text": [
      " Data has small sample size (N < 1000). Evaluate results carefully.\n",
      "\n"
     ]
    },
    {
     "name": "stdout",
     "output_type": "stream",
     "text": [
      "[1] \"../../../v1_1/data/RIbench//Data/TSH/3870_TSH_seed_282.csv\"\n",
      "[1] \"../../../v1_1/data/RIbench//Data/Hb/485_Hb_seed_123.csv\"\n",
      "[1] \"../../../v1_1/data/RIbench//Data/GGT/3202_GGT_seed_14.csv\"\n",
      "[1] \"../../../v1_1/data/RIbench//Data/AST/2037_AST_seed_265.csv\"\n",
      "[1] \"../../../v1_1/data/RIbench//Data/FT4/1210_FT4_seed_86.csv\"\n"
     ]
    },
    {
     "name": "stderr",
     "output_type": "stream",
     "text": [
      " Data has small sample size (N < 1000). Evaluate results carefully.\n",
      "\n"
     ]
    },
    {
     "name": "stdout",
     "output_type": "stream",
     "text": [
      "[1] \"../../../v1_1/data/RIbench//Data/Ca/859_Ca_seed_236.csv\"\n",
      "[1] \"../../../v1_1/data/RIbench//Data/Hb/57_Hb_seed_123.csv\"\n",
      "[1] \"../../../v1_1/data/RIbench//Data/Hb/461_Hb_seed_123.csv\"\n",
      "[1] \"../../../v1_1/data/RIbench//Data/AST/1985_AST_seed_265.csv\"\n",
      "[1] \"../../../v1_1/data/RIbench//Data/FT4/1559_FT4_seed_86.csv\"\n",
      "[1] \"../../../v1_1/data/RIbench//Data/GGT/3049_GGT_seed_14.csv\"\n",
      "[1] \"../../../v1_1/data/RIbench//Data/Ca/870_Ca_seed_236.csv\"\n",
      "[1] \"../../../v1_1/data/RIbench//Data/GGT/3135_GGT_seed_14.csv\"\n",
      "[1] \"../../../v1_1/data/RIbench//Data/FT4/1496_FT4_seed_86.csv\"\n",
      "[1] \"../../../v1_1/data/RIbench//Data/Hb/377_Hb_seed_123.csv\"\n",
      "[1] \"../../../v1_1/data/RIbench//Data/FT4/1256_FT4_seed_86.csv\"\n"
     ]
    },
    {
     "name": "stderr",
     "output_type": "stream",
     "text": [
      " Data has small sample size (N < 1000). Evaluate results carefully.\n",
      "\n"
     ]
    },
    {
     "name": "stdout",
     "output_type": "stream",
     "text": [
      "[1] \"../../../v1_1/data/RIbench//Data/GGT/3264_GGT_seed_14.csv\"\n",
      "[1] \"../../../v1_1/data/RIbench//Data/LACT/2702_LACT_seed_158.csv\"\n",
      "[1] \"../../../v1_1/data/RIbench//Data/GGT/3017_GGT_seed_14.csv\"\n",
      "[1] \"../../../v1_1/data/RIbench//Data/FT4/1593_FT4_seed_86.csv\"\n",
      "[1] \"../../../v1_1/data/RIbench//Data/Ca/763_Ca_seed_236.csv\"\n",
      "[1] \"../../../v1_1/data/RIbench//Data/Hb/489_Hb_seed_123.csv\"\n",
      "[1] \"../../../v1_1/data/RIbench//Data/AST/1731_AST_seed_265.csv\"\n",
      "[1] \"../../../v1_1/data/RIbench//Data/Hb/167_Hb_seed_123.csv\"\n",
      "[1] \"../../../v1_1/data/RIbench//Data/FT4/1253_FT4_seed_86.csv\"\n",
      "[1] \"../../../v1_1/data/RIbench//Data/AST/2205_AST_seed_265.csv\"\n",
      "[1] \"../../../v1_1/data/RIbench//Data/Ca/1101_Ca_seed_236.csv\"\n",
      "[1] \"../../../v1_1/data/RIbench//Data/TSH/3873_TSH_seed_282.csv\"\n",
      "[1] \"../../../v1_1/data/RIbench//Data/IgE/4168_IgE_seed_267.csv\"\n",
      "[1] \"../../../v1_1/data/RIbench//Data/IgE/4069_IgE_seed_267.csv\"\n",
      "[1] \"../../../v1_1/data/RIbench//Data/LACT/2387_LACT_seed_158.csv\"\n",
      "[1] \"../../../v1_1/data/RIbench//Data/LACT/2444_LACT_seed_158.csv\"\n",
      "[1] \"../../../v1_1/data/RIbench//Data/Ca/967_Ca_seed_236.csv\"\n",
      "[1] \"../../../v1_1/data/RIbench//Data/FT4/1468_FT4_seed_86.csv\"\n",
      "[1] \"../../../v1_1/data/RIbench//Data/FT4/1216_FT4_seed_86.csv\"\n",
      "[1] \"../../../v1_1/data/RIbench//Data/AST/2213_AST_seed_265.csv\"\n",
      "[1] \"../../../v1_1/data/RIbench//Data/AST/2282_AST_seed_265.csv\"\n",
      "[1] \"../../../v1_1/data/RIbench//Data/Ca/996_Ca_seed_236.csv\"\n",
      "[1] \"../../../v1_1/data/RIbench//Data/AST/2162_AST_seed_265.csv\"\n",
      "[1] \"../../../v1_1/data/RIbench//Data/Hb/94_Hb_seed_123.csv\"\n",
      "[1] \"../../../v1_1/data/RIbench//Data/AST/2200_AST_seed_265.csv\"\n",
      "[1] \"../../../v1_1/data/RIbench//Data/IgE/4054_IgE_seed_267.csv\"\n",
      "[1] \"../../../v1_1/data/RIbench//Data/Ca/817_Ca_seed_236.csv\"\n",
      "[1] \"../../../v1_1/data/RIbench//Data/Ca/883_Ca_seed_236.csv\"\n",
      "[1] \"../../../v1_1/data/RIbench//Data/GGT/3296_GGT_seed_14.csv\"\n",
      "[1] \"../../../v1_1/data/RIbench//Data/Hb/202_Hb_seed_123.csv\"\n",
      "[1] \"../../../v1_1/data/RIbench//Data/FT4/1244_FT4_seed_86.csv\"\n"
     ]
    },
    {
     "name": "stderr",
     "output_type": "stream",
     "text": [
      " Data has small sample size (N < 1000). Evaluate results carefully.\n",
      "\n"
     ]
    },
    {
     "name": "stdout",
     "output_type": "stream",
     "text": [
      "[1] \"../../../v1_1/data/RIbench//Data/AST/1929_AST_seed_265.csv\"\n",
      "[1] \"../../../v1_1/data/RIbench//Data/AST/2082_AST_seed_265.csv\"\n",
      "[1] \"../../../v1_1/data/RIbench//Data/Hb/438_Hb_seed_123.csv\"\n",
      "[1] \"../../../v1_1/data/RIbench//Data/GGT/3364_GGT_seed_14.csv\"\n",
      "[1] \"../../../v1_1/data/RIbench//Data/FT4/1350_FT4_seed_86.csv\"\n",
      "[1] \"../../../v1_1/data/RIbench//Data/TSH/3706_TSH_seed_282.csv\"\n",
      "[1] \"../../../v1_1/data/RIbench//Data/FT4/1284_FT4_seed_86.csv\"\n"
     ]
    },
    {
     "name": "stderr",
     "output_type": "stream",
     "text": [
      " Data has small sample size (N < 1000). Evaluate results carefully.\n",
      "\n"
     ]
    },
    {
     "name": "stdout",
     "output_type": "stream",
     "text": [
      "[1] \"../../../v1_1/data/RIbench//Data/IgE/4560_IgE_seed_267.csv\"\n",
      "[1] \"../../../v1_1/data/RIbench//Data/TSH/3654_TSH_seed_282.csv\"\n",
      "[1] \"../../../v1_1/data/RIbench//Data/AST/1861_AST_seed_265.csv\"\n",
      "[1] \"../../../v1_1/data/RIbench//Data/Ca/985_Ca_seed_236.csv\"\n",
      "[1] \"../../../v1_1/data/RIbench//Data/IgE/4046_IgE_seed_267.csv\"\n",
      "[1] \"../../../v1_1/data/RIbench//Data/IgE/4590_IgE_seed_267.csv\"\n",
      "[1] \"../../../v1_1/data/RIbench//Data/TSH/3703_TSH_seed_282.csv\"\n",
      "[1] \"../../../v1_1/data/RIbench//Data/IgE/4378_IgE_seed_267.csv\"\n",
      "[1] \"../../../v1_1/data/RIbench//Data/Ca/638_Ca_seed_236.csv\"\n"
     ]
    },
    {
     "name": "stderr",
     "output_type": "stream",
     "text": [
      " Data has small sample size (N < 1000). Evaluate results carefully.\n",
      "\n"
     ]
    },
    {
     "name": "stdout",
     "output_type": "stream",
     "text": [
      "[1] \"../../../v1_1/data/RIbench//Data/IgE/4283_IgE_seed_267.csv\"\n",
      "[1] \"../../../v1_1/data/RIbench//Data/IgE/4070_IgE_seed_267.csv\"\n",
      "[1] \"../../../v1_1/data/RIbench//Data/GGT/3408_GGT_seed_14.csv\"\n",
      "[1] \"../../../v1_1/data/RIbench//Data/Hb/375_Hb_seed_123.csv\"\n",
      "[1] \"../../../v1_1/data/RIbench//Data/AST/2155_AST_seed_265.csv\"\n",
      "[1] \"../../../v1_1/data/RIbench//Data/GGT/3117_GGT_seed_14.csv\"\n",
      "[1] \"../../../v1_1/data/RIbench//Data/IgE/4419_IgE_seed_267.csv\"\n",
      "[1] \"../../../v1_1/data/RIbench//Data/AST/2061_AST_seed_265.csv\"\n",
      "[1] \"../../../v1_1/data/RIbench//Data/GGT/3404_GGT_seed_14.csv\"\n",
      "[1] \"../../../v1_1/data/RIbench//Data/AST/2263_AST_seed_265.csv\"\n",
      "[1] \"../../../v1_1/data/RIbench//Data/IgE/4393_IgE_seed_267.csv\"\n",
      "[1] \"../../../v1_1/data/RIbench//Data/Ca/1031_Ca_seed_236.csv\"\n",
      "[1] \"../../../v1_1/data/RIbench//Data/IgE/4040_IgE_seed_267.csv\"\n",
      "[1] \"../../../v1_1/data/RIbench//Data/LACT/2856_LACT_seed_158.csv\"\n",
      "[1] \"../../../v1_1/data/RIbench//Data/LACT/2813_LACT_seed_158.csv\"\n",
      "[1] \"../../../v1_1/data/RIbench//Data/Hb/399_Hb_seed_123.csv\"\n",
      "[1] \"../../../v1_1/data/RIbench//Data/GGT/3037_GGT_seed_14.csv\"\n",
      "[1] \"../../../v1_1/data/RIbench//Data/Ca/658_Ca_seed_236.csv\"\n",
      "[1] \"../../../v1_1/data/RIbench//Data/LACT/2860_LACT_seed_158.csv\"\n",
      "[1] \"../../../v1_1/data/RIbench//Data/GGT/3368_GGT_seed_14.csv\"\n",
      "[1] \"../../../v1_1/data/RIbench//Data/Ca/945_Ca_seed_236.csv\"\n",
      "[1] \"../../../v1_1/data/RIbench//Data/AST/1859_AST_seed_265.csv\"\n",
      "[1] \"../../../v1_1/data/RIbench//Data/GGT/3340_GGT_seed_14.csv\"\n",
      "[1] \"../../../v1_1/data/RIbench//Data/Ca/655_Ca_seed_236.csv\"\n",
      "[1] \"../../../v1_1/data/RIbench//Data/FT4/1523_FT4_seed_86.csv\"\n",
      "[1] \"../../../v1_1/data/RIbench//Data/GGT/3407_GGT_seed_14.csv\"\n",
      "[1] \"../../../v1_1/data/RIbench//Data/GGT/2929_GGT_seed_14.csv\"\n",
      "[1] \"../../../v1_1/data/RIbench//Data/Hb/33_Hb_seed_123.csv\"\n",
      "[1] \"../../../v1_1/data/RIbench//Data/LACT/2361_LACT_seed_158.csv\"\n",
      "[1] \"../../../v1_1/data/RIbench//Data/TSH/3880_TSH_seed_282.csv\"\n",
      "[1] \"../../../v1_1/data/RIbench//Data/Ca/1145_Ca_seed_236.csv\"\n",
      "[1] \"../../../v1_1/data/RIbench//Data/IgE/4428_IgE_seed_267.csv\"\n",
      "[1] \"../../../v1_1/data/RIbench//Data/LACT/2701_LACT_seed_158.csv\"\n",
      "[1] \"../../../v1_1/data/RIbench//Data/GGT/3261_GGT_seed_14.csv\"\n",
      "[1] \"../../../v1_1/data/RIbench//Data/LACT/2792_LACT_seed_158.csv\"\n",
      "[1] \"../../../v1_1/data/RIbench//Data/Hb/202_Hb_seed_123.csv\"\n",
      "[1] \"../../../v1_1/data/RIbench//Data/Ca/670_Ca_seed_236.csv\"\n"
     ]
    },
    {
     "name": "stderr",
     "output_type": "stream",
     "text": [
      " Data has small sample size (N < 1000). Evaluate results carefully.\n",
      "\n"
     ]
    },
    {
     "name": "stdout",
     "output_type": "stream",
     "text": [
      "[1] \"../../../v1_1/data/RIbench//Data/IgE/4075_IgE_seed_267.csv\"\n",
      "[1] \"../../../v1_1/data/RIbench//Data/IgE/4046_IgE_seed_267.csv\"\n",
      "[1] \"../../../v1_1/data/RIbench//Data/GGT/3146_GGT_seed_14.csv\"\n",
      "[1] \"../../../v1_1/data/RIbench//Data/TSH/3646_TSH_seed_282.csv\"\n",
      "[1] \"../../../v1_1/data/RIbench//Data/Hb/73_Hb_seed_123.csv\"\n",
      "[1] \"../../../v1_1/data/RIbench//Data/FT4/1316_FT4_seed_86.csv\"\n",
      "[1] \"../../../v1_1/data/RIbench//Data/LACT/2418_LACT_seed_158.csv\"\n",
      "[1] \"../../../v1_1/data/RIbench//Data/AST/2074_AST_seed_265.csv\"\n",
      "[1] \"../../../v1_1/data/RIbench//Data/Hb/403_Hb_seed_123.csv\"\n",
      "[1] \"../../../v1_1/data/RIbench//Data/TSH/3941_TSH_seed_282.csv\"\n",
      "[1] \"../../../v1_1/data/RIbench//Data/TSH/3613_TSH_seed_282.csv\"\n",
      "[1] \"../../../v1_1/data/RIbench//Data/FT4/1424_FT4_seed_86.csv\"\n",
      "[1] \"../../../v1_1/data/RIbench//Data/Ca/972_Ca_seed_236.csv\"\n",
      "[1] \"../../../v1_1/data/RIbench//Data/TSH/3509_TSH_seed_282.csv\"\n",
      "[1] \"../../../v1_1/data/RIbench//Data/TSH/3716_TSH_seed_282.csv\"\n",
      "[1] \"../../../v1_1/data/RIbench//Data/FT4/1458_FT4_seed_86.csv\"\n",
      "[1] \"../../../v1_1/data/RIbench//Data/AST/2280_AST_seed_265.csv\"\n",
      "[1] \"../../../v1_1/data/RIbench//Data/AST/2141_AST_seed_265.csv\"\n",
      "[1] \"../../../v1_1/data/RIbench//Data/GGT/3417_GGT_seed_14.csv\"\n",
      "[1] \"../../../v1_1/data/RIbench//Data/TSH/3544_TSH_seed_282.csv\"\n",
      "[1] \"../../../v1_1/data/RIbench//Data/TSH/3464_TSH_seed_282.csv\"\n",
      "[1] \"../../../v1_1/data/RIbench//Data/AST/2126_AST_seed_265.csv\"\n",
      "[1] \"../../../v1_1/data/RIbench//Data/IgE/4182_IgE_seed_267.csv\"\n",
      "[1] \"../../../v1_1/data/RIbench//Data/AST/2203_AST_seed_265.csv\"\n",
      "[1] \"../../../v1_1/data/RIbench//Data/Hb/140_Hb_seed_123.csv\"\n",
      "[1] \"../../../v1_1/data/RIbench//Data/IgE/4574_IgE_seed_267.csv\"\n",
      "[1] \"../../../v1_1/data/RIbench//Data/Hb/419_Hb_seed_123.csv\"\n",
      "[1] \"../../../v1_1/data/RIbench//Data/LACT/2491_LACT_seed_158.csv\"\n",
      "[1] \"../../../v1_1/data/RIbench//Data/FT4/1389_FT4_seed_86.csv\"\n",
      "[1] \"../../../v1_1/data/RIbench//Data/Ca/903_Ca_seed_236.csv\"\n",
      "[1] \"../../../v1_1/data/RIbench//Data/GGT/3007_GGT_seed_14.csv\"\n",
      "[1] \"../../../v1_1/data/RIbench//Data/TSH/3639_TSH_seed_282.csv\"\n",
      "[1] \"../../../v1_1/data/RIbench//Data/GGT/3358_GGT_seed_14.csv\"\n",
      "[1] \"../../../v1_1/data/RIbench//Data/TSH/3502_TSH_seed_282.csv\"\n",
      "[1] \"../../../v1_1/data/RIbench//Data/FT4/1303_FT4_seed_86.csv\"\n",
      "[1] \"../../../v1_1/data/RIbench//Data/TSH/3773_TSH_seed_282.csv\"\n",
      "[1] \"../../../v1_1/data/RIbench//Data/LACT/2749_LACT_seed_158.csv\"\n",
      "[1] \"../../../v1_1/data/RIbench//Data/FT4/1382_FT4_seed_86.csv\"\n",
      "[1] \"../../../v1_1/data/RIbench//Data/TSH/3581_TSH_seed_282.csv\"\n",
      "[1] \"../../../v1_1/data/RIbench//Data/AST/1949_AST_seed_265.csv\"\n",
      "[1] \"../../../v1_1/data/RIbench//Data/TSH/3947_TSH_seed_282.csv\"\n",
      "[1] \"../../../v1_1/data/RIbench//Data/LACT/2525_LACT_seed_158.csv\"\n",
      "[1] \"../../../v1_1/data/RIbench//Data/TSH/3946_TSH_seed_282.csv\"\n",
      "[1] \"../../../v1_1/data/RIbench//Data/Hb/305_Hb_seed_123.csv\"\n",
      "[1] \"../../../v1_1/data/RIbench//Data/GGT/3449_GGT_seed_14.csv\"\n",
      "[1] \"../../../v1_1/data/RIbench//Data/IgE/4411_IgE_seed_267.csv\"\n",
      "[1] \"../../../v1_1/data/RIbench//Data/IgE/4129_IgE_seed_267.csv\"\n",
      "[1] \"../../../v1_1/data/RIbench//Data/Hb/58_Hb_seed_123.csv\"\n"
     ]
    },
    {
     "name": "stderr",
     "output_type": "stream",
     "text": [
      " Data has small sample size (N < 1000). Evaluate results carefully.\n",
      "\n"
     ]
    },
    {
     "name": "stdout",
     "output_type": "stream",
     "text": [
      "[1] \"../../../v1_1/data/RIbench//Data/GGT/2897_GGT_seed_14.csv\"\n",
      "[1] \"../../../v1_1/data/RIbench//Data/TSH/3758_TSH_seed_282.csv\"\n",
      "[1] \"../../../v1_1/data/RIbench//Data/Hb/400_Hb_seed_123.csv\"\n",
      "[1] \"../../../v1_1/data/RIbench//Data/Hb/161_Hb_seed_123.csv\"\n",
      "[1] \"../../../v1_1/data/RIbench//Data/AST/2132_AST_seed_265.csv\"\n",
      "[1] \"../../../v1_1/data/RIbench//Data/Ca/588_Ca_seed_236.csv\"\n"
     ]
    },
    {
     "name": "stderr",
     "output_type": "stream",
     "text": [
      " Data has small sample size (N < 1000). Evaluate results carefully.\n",
      "\n"
     ]
    },
    {
     "name": "stdout",
     "output_type": "stream",
     "text": [
      "[1] \"../../../v1_1/data/RIbench//Data/IgE/4039_IgE_seed_267.csv\"\n",
      "[1] \"../../../v1_1/data/RIbench//Data/TSH/4020_TSH_seed_282.csv\"\n",
      "[1] \"../../../v1_1/data/RIbench//Data/TSH/3795_TSH_seed_282.csv\"\n",
      "[1] \"../../../v1_1/data/RIbench//Data/GGT/3078_GGT_seed_14.csv\"\n",
      "[1] \"../../../v1_1/data/RIbench//Data/LACT/2438_LACT_seed_158.csv\"\n",
      "[1] \"../../../v1_1/data/RIbench//Data/FT4/1541_FT4_seed_86.csv\"\n",
      "[1] \"../../../v1_1/data/RIbench//Data/Ca/710_Ca_seed_236.csv\"\n"
     ]
    },
    {
     "name": "stderr",
     "output_type": "stream",
     "text": [
      " Data has small sample size (N < 1000). Evaluate results carefully.\n",
      "\n"
     ]
    },
    {
     "name": "stdout",
     "output_type": "stream",
     "text": [
      "[1] \"../../../v1_1/data/RIbench//Data/LACT/2337_LACT_seed_158.csv\"\n",
      "[1] \"../../../v1_1/data/RIbench//Data/GGT/3227_GGT_seed_14.csv\"\n",
      "[1] \"../../../v1_1/data/RIbench//Data/Ca/929_Ca_seed_236.csv\"\n",
      "[1] \"../../../v1_1/data/RIbench//Data/TSH/3661_TSH_seed_282.csv\"\n",
      "[1] \"../../../v1_1/data/RIbench//Data/LACT/2666_LACT_seed_158.csv\"\n",
      "[1] \"../../../v1_1/data/RIbench//Data/GGT/3030_GGT_seed_14.csv\"\n",
      "[1] \"../../../v1_1/data/RIbench//Data/IgE/4134_IgE_seed_267.csv\"\n",
      "[1] \"../../../v1_1/data/RIbench//Data/TSH/3477_TSH_seed_282.csv\"\n",
      "[1] \"../../../v1_1/data/RIbench//Data/Ca/806_Ca_seed_236.csv\"\n",
      "[1] \"../../../v1_1/data/RIbench//Data/TSH/3556_TSH_seed_282.csv\"\n",
      "[1] \"../../../v1_1/data/RIbench//Data/LACT/2479_LACT_seed_158.csv\"\n",
      "[1] \"../../../v1_1/data/RIbench//Data/LACT/2501_LACT_seed_158.csv\"\n",
      "[1] \"../../../v1_1/data/RIbench//Data/AST/2040_AST_seed_265.csv\"\n",
      "[1] \"../../../v1_1/data/RIbench//Data/TSH/3630_TSH_seed_282.csv\"\n",
      "[1] \"../../../v1_1/data/RIbench//Data/Ca/896_Ca_seed_236.csv\"\n",
      "[1] \"../../../v1_1/data/RIbench//Data/FT4/1203_FT4_seed_86.csv\"\n",
      "[1] \"../../../v1_1/data/RIbench//Data/TSH/3993_TSH_seed_282.csv\"\n",
      "[1] \"../../../v1_1/data/RIbench//Data/AST/2201_AST_seed_265.csv\"\n",
      "[1] \"../../../v1_1/data/RIbench//Data/LACT/2717_LACT_seed_158.csv\"\n",
      "[1] \"../../../v1_1/data/RIbench//Data/Ca/1093_Ca_seed_236.csv\"\n",
      "[1] \"../../../v1_1/data/RIbench//Data/Hb/333_Hb_seed_123.csv\"\n",
      "[1] \"../../../v1_1/data/RIbench//Data/IgE/4550_IgE_seed_267.csv\"\n",
      "[1] \"../../../v1_1/data/RIbench//Data/LACT/2807_LACT_seed_158.csv\"\n",
      "[1] \"../../../v1_1/data/RIbench//Data/AST/1777_AST_seed_265.csv\"\n",
      "[1] \"../../../v1_1/data/RIbench//Data/Ca/946_Ca_seed_236.csv\"\n",
      "[1] \"../../../v1_1/data/RIbench//Data/AST/1933_AST_seed_265.csv\"\n",
      "[1] \"../../../v1_1/data/RIbench//Data/Hb/77_Hb_seed_123.csv\"\n",
      "[1] \"../../../v1_1/data/RIbench//Data/TSH/3771_TSH_seed_282.csv\"\n",
      "[1] \"../../../v1_1/data/RIbench//Data/AST/2072_AST_seed_265.csv\"\n",
      "[1] \"../../../v1_1/data/RIbench//Data/GGT/2953_GGT_seed_14.csv\"\n",
      "[1] \"../../../v1_1/data/RIbench//Data/Hb/510_Hb_seed_123.csv\"\n",
      "[1] \"../../../v1_1/data/RIbench//Data/Ca/694_Ca_seed_236.csv\"\n"
     ]
    },
    {
     "name": "stderr",
     "output_type": "stream",
     "text": [
      " Data has small sample size (N < 1000). Evaluate results carefully.\n",
      "\n"
     ]
    },
    {
     "name": "stdout",
     "output_type": "stream",
     "text": [
      "[1] \"../../../v1_1/data/RIbench//Data/LACT/2567_LACT_seed_158.csv\"\n",
      "[1] \"../../../v1_1/data/RIbench//Data/Hb/24_Hb_seed_123.csv\"\n",
      "[1] \"../../../v1_1/data/RIbench//Data/FT4/1605_FT4_seed_86.csv\"\n",
      "[1] \"../../../v1_1/data/RIbench//Data/LACT/2432_LACT_seed_158.csv\"\n"
     ]
    },
    {
     "name": "stderr",
     "output_type": "stream",
     "text": [
      " Data has small sample size (N < 1000). Evaluate results carefully.\n",
      "\n"
     ]
    },
    {
     "name": "stdout",
     "output_type": "stream",
     "text": [
      "[1] \"../../../v1_1/data/RIbench//Data/TSH/3741_TSH_seed_282.csv\"\n",
      "[1] \"../../../v1_1/data/RIbench//Data/Ca/962_Ca_seed_236.csv\"\n",
      "[1] \"../../../v1_1/data/RIbench//Data/LACT/2657_LACT_seed_158.csv\"\n",
      "[1] \"../../../v1_1/data/RIbench//Data/FT4/1254_FT4_seed_86.csv\"\n"
     ]
    },
    {
     "name": "stderr",
     "output_type": "stream",
     "text": [
      " Data has small sample size (N < 1000). Evaluate results carefully.\n",
      "\n"
     ]
    },
    {
     "name": "stdout",
     "output_type": "stream",
     "text": [
      "[1] \"../../../v1_1/data/RIbench//Data/LACT/2548_LACT_seed_158.csv\"\n",
      "[1] \"../../../v1_1/data/RIbench//Data/LACT/2499_LACT_seed_158.csv\"\n",
      "[1] \"../../../v1_1/data/RIbench//Data/TSH/3633_TSH_seed_282.csv\"\n",
      "[1] \"../../../v1_1/data/RIbench//Data/LACT/2410_LACT_seed_158.csv\"\n",
      "[1] \"../../../v1_1/data/RIbench//Data/GGT/3196_GGT_seed_14.csv\"\n",
      "[1] \"../../../v1_1/data/RIbench//Data/IgE/4582_IgE_seed_267.csv\"\n",
      "[1] \"../../../v1_1/data/RIbench//Data/Hb/419_Hb_seed_123.csv\"\n",
      "[1] \"../../../v1_1/data/RIbench//Data/IgE/4325_IgE_seed_267.csv\"\n",
      "[1] \"../../../v1_1/data/RIbench//Data/AST/2194_AST_seed_265.csv\"\n",
      "[1] \"../../../v1_1/data/RIbench//Data/Ca/748_Ca_seed_236.csv\"\n",
      "[1] \"../../../v1_1/data/RIbench//Data/Hb/256_Hb_seed_123.csv\"\n",
      "[1] \"../../../v1_1/data/RIbench//Data/IgE/4150_IgE_seed_267.csv\"\n",
      "[1] \"../../../v1_1/data/RIbench//Data/GGT/2923_GGT_seed_14.csv\"\n",
      "[1] \"../../../v1_1/data/RIbench//Data/LACT/2524_LACT_seed_158.csv\"\n",
      "[1] \"../../../v1_1/data/RIbench//Data/LACT/2532_LACT_seed_158.csv\"\n",
      "[1] \"../../../v1_1/data/RIbench//Data/TSH/3718_TSH_seed_282.csv\"\n",
      "[1] \"../../../v1_1/data/RIbench//Data/LACT/2664_LACT_seed_158.csv\"\n",
      "[1] \"../../../v1_1/data/RIbench//Data/Ca/904_Ca_seed_236.csv\"\n",
      "[1] \"../../../v1_1/data/RIbench//Data/AST/1776_AST_seed_265.csv\"\n",
      "[1] \"../../../v1_1/data/RIbench//Data/IgE/4400_IgE_seed_267.csv\"\n",
      "[1] \"../../../v1_1/data/RIbench//Data/Ca/1046_Ca_seed_236.csv\"\n",
      "[1] \"../../../v1_1/data/RIbench//Data/IgE/4534_IgE_seed_267.csv\"\n",
      "[1] \"../../../v1_1/data/RIbench//Data/Hb/519_Hb_seed_123.csv\"\n",
      "[1] \"../../../v1_1/data/RIbench//Data/GGT/2949_GGT_seed_14.csv\"\n",
      "[1] \"../../../v1_1/data/RIbench//Data/GGT/3174_GGT_seed_14.csv\"\n",
      "[1] \"../../../v1_1/data/RIbench//Data/TSH/3778_TSH_seed_282.csv\"\n",
      "[1] \"../../../v1_1/data/RIbench//Data/FT4/1709_FT4_seed_86.csv\"\n",
      "[1] \"../../../v1_1/data/RIbench//Data/GGT/2959_GGT_seed_14.csv\"\n",
      "[1] \"../../../v1_1/data/RIbench//Data/FT4/1300_FT4_seed_86.csv\"\n",
      "[1] \"../../../v1_1/data/RIbench//Data/TSH/3471_TSH_seed_282.csv\"\n",
      "[1] \"../../../v1_1/data/RIbench//Data/Hb/290_Hb_seed_123.csv\"\n",
      "[1] \"../../../v1_1/data/RIbench//Data/Hb/423_Hb_seed_123.csv\"\n",
      "[1] \"../../../v1_1/data/RIbench//Data/IgE/4564_IgE_seed_267.csv\"\n",
      "[1] \"../../../v1_1/data/RIbench//Data/TSH/3987_TSH_seed_282.csv\"\n",
      "[1] \"../../../v1_1/data/RIbench//Data/Hb/542_Hb_seed_123.csv\"\n",
      "[1] \"../../../v1_1/data/RIbench//Data/GGT/3412_GGT_seed_14.csv\"\n",
      "[1] \"../../../v1_1/data/RIbench//Data/Ca/601_Ca_seed_236.csv\"\n",
      "[1] \"../../../v1_1/data/RIbench//Data/IgE/4128_IgE_seed_267.csv\"\n"
     ]
    },
    {
     "name": "stderr",
     "output_type": "stream",
     "text": [
      " Data has small sample size (N < 1000). Evaluate results carefully.\n",
      "\n"
     ]
    },
    {
     "name": "stdout",
     "output_type": "stream",
     "text": [
      "[1] \"../../../v1_1/data/RIbench//Data/LACT/2430_LACT_seed_158.csv\"\n",
      "[1] \"../../../v1_1/data/RIbench//Data/AST/2111_AST_seed_265.csv\"\n",
      "[1] \"../../../v1_1/data/RIbench//Data/LACT/2417_LACT_seed_158.csv\"\n",
      "[1] \"../../../v1_1/data/RIbench//Data/Hb/152_Hb_seed_123.csv\"\n",
      "[1] \"../../../v1_1/data/RIbench//Data/Ca/861_Ca_seed_236.csv\"\n",
      "[1] \"../../../v1_1/data/RIbench//Data/TSH/3911_TSH_seed_282.csv\"\n",
      "[1] \"../../../v1_1/data/RIbench//Data/IgE/4373_IgE_seed_267.csv\"\n",
      "[1] \"../../../v1_1/data/RIbench//Data/Hb/85_Hb_seed_123.csv\"\n",
      "[1] \"../../../v1_1/data/RIbench//Data/FT4/1535_FT4_seed_86.csv\"\n",
      "[1] \"../../../v1_1/data/RIbench//Data/GGT/2972_GGT_seed_14.csv\"\n",
      "[1] \"../../../v1_1/data/RIbench//Data/FT4/1256_FT4_seed_86.csv\"\n",
      "[1] \"../../../v1_1/data/RIbench//Data/FT4/1420_FT4_seed_86.csv\"\n",
      "[1] \"../../../v1_1/data/RIbench//Data/TSH/3533_TSH_seed_282.csv\"\n",
      "[1] \"../../../v1_1/data/RIbench//Data/LACT/2691_LACT_seed_158.csv\"\n",
      "[1] \"../../../v1_1/data/RIbench//Data/LACT/2644_LACT_seed_158.csv\"\n",
      "[1] \"../../../v1_1/data/RIbench//Data/AST/2124_AST_seed_265.csv\"\n",
      "[1] \"../../../v1_1/data/RIbench//Data/TSH/3752_TSH_seed_282.csv\"\n",
      "[1] \"../../../v1_1/data/RIbench//Data/LACT/2630_LACT_seed_158.csv\"\n",
      "[1] \"../../../v1_1/data/RIbench//Data/TSH/4030_TSH_seed_282.csv\"\n",
      "[1] \"../../../v1_1/data/RIbench//Data/Ca/939_Ca_seed_236.csv\"\n",
      "[1] \"../../../v1_1/data/RIbench//Data/IgE/4495_IgE_seed_267.csv\"\n",
      "[1] \"../../../v1_1/data/RIbench//Data/LACT/2662_LACT_seed_158.csv\"\n",
      "[1] \"../../../v1_1/data/RIbench//Data/FT4/1266_FT4_seed_86.csv\"\n",
      "[1] \"../../../v1_1/data/RIbench//Data/LACT/2554_LACT_seed_158.csv\"\n",
      "[1] \"../../../v1_1/data/RIbench//Data/GGT/3059_GGT_seed_14.csv\"\n",
      "[1] \"../../../v1_1/data/RIbench//Data/GGT/3021_GGT_seed_14.csv\"\n",
      "[1] \"../../../v1_1/data/RIbench//Data/GGT/3399_GGT_seed_14.csv\"\n",
      "[1] \"../../../v1_1/data/RIbench//Data/LACT/2806_LACT_seed_158.csv\"\n",
      "[1] \"../../../v1_1/data/RIbench//Data/AST/2025_AST_seed_265.csv\"\n",
      "[1] \"../../../v1_1/data/RIbench//Data/FT4/1171_FT4_seed_86.csv\"\n",
      "[1] \"../../../v1_1/data/RIbench//Data/Ca/1103_Ca_seed_236.csv\"\n",
      "[1] \"../../../v1_1/data/RIbench//Data/AST/2111_AST_seed_265.csv\"\n",
      "[1] \"../../../v1_1/data/RIbench//Data/LACT/2559_LACT_seed_158.csv\"\n",
      "[1] \"../../../v1_1/data/RIbench//Data/Hb/182_Hb_seed_123.csv\"\n",
      "[1] \"../../../v1_1/data/RIbench//Data/TSH/3838_TSH_seed_282.csv\"\n",
      "[1] \"../../../v1_1/data/RIbench//Data/Ca/1091_Ca_seed_236.csv\"\n",
      "[1] \"../../../v1_1/data/RIbench//Data/Hb/447_Hb_seed_123.csv\"\n",
      "[1] \"../../../v1_1/data/RIbench//Data/IgE/4043_IgE_seed_267.csv\"\n",
      "[1] \"../../../v1_1/data/RIbench//Data/Hb/215_Hb_seed_123.csv\"\n",
      "[1] \"../../../v1_1/data/RIbench//Data/LACT/2461_LACT_seed_158.csv\"\n",
      "[1] \"../../../v1_1/data/RIbench//Data/Ca/1021_Ca_seed_236.csv\"\n",
      "[1] \"../../../v1_1/data/RIbench//Data/TSH/3674_TSH_seed_282.csv\"\n",
      "[1] \"../../../v1_1/data/RIbench//Data/Ca/752_Ca_seed_236.csv\"\n",
      "[1] \"../../../v1_1/data/RIbench//Data/Hb/293_Hb_seed_123.csv\"\n",
      "[1] \"../../../v1_1/data/RIbench//Data/Hb/539_Hb_seed_123.csv\"\n",
      "[1] \"../../../v1_1/data/RIbench//Data/LACT/2354_LACT_seed_158.csv\"\n",
      "[1] \"../../../v1_1/data/RIbench//Data/GGT/3025_GGT_seed_14.csv\"\n",
      "[1] \"../../../v1_1/data/RIbench//Data/GGT/3107_GGT_seed_14.csv\"\n",
      "[1] \"../../../v1_1/data/RIbench//Data/FT4/1625_FT4_seed_86.csv\"\n",
      "[1] \"../../../v1_1/data/RIbench//Data/IgE/4095_IgE_seed_267.csv\"\n",
      "[1] \"../../../v1_1/data/RIbench//Data/FT4/1242_FT4_seed_86.csv\"\n"
     ]
    },
    {
     "name": "stderr",
     "output_type": "stream",
     "text": [
      " Data has small sample size (N < 1000). Evaluate results carefully.\n",
      "\n"
     ]
    },
    {
     "name": "stdout",
     "output_type": "stream",
     "text": [
      "[1] \"../../../v1_1/data/RIbench//Data/AST/2140_AST_seed_265.csv\"\n",
      "[1] \"../../../v1_1/data/RIbench//Data/IgE/4059_IgE_seed_267.csv\"\n",
      "[1] \"../../../v1_1/data/RIbench//Data/Ca/916_Ca_seed_236.csv\"\n",
      "[1] \"../../../v1_1/data/RIbench//Data/TSH/3797_TSH_seed_282.csv\"\n",
      "[1] \"../../../v1_1/data/RIbench//Data/Ca/900_Ca_seed_236.csv\"\n",
      "[1] \"../../../v1_1/data/RIbench//Data/Hb/177_Hb_seed_123.csv\"\n",
      "[1] \"../../../v1_1/data/RIbench//Data/LACT/2745_LACT_seed_158.csv\"\n",
      "[1] \"../../../v1_1/data/RIbench//Data/GGT/3430_GGT_seed_14.csv\"\n",
      "[1] \"../../../v1_1/data/RIbench//Data/Ca/941_Ca_seed_236.csv\"\n",
      "[1] \"../../../v1_1/data/RIbench//Data/GGT/3052_GGT_seed_14.csv\"\n",
      "[1] \"../../../v1_1/data/RIbench//Data/Ca/1050_Ca_seed_236.csv\"\n",
      "[1] \"../../../v1_1/data/RIbench//Data/Hb/235_Hb_seed_123.csv\"\n",
      "[1] \"../../../v1_1/data/RIbench//Data/IgE/4175_IgE_seed_267.csv\"\n",
      "[1] \"../../../v1_1/data/RIbench//Data/GGT/3052_GGT_seed_14.csv\"\n",
      "[1] \"../../../v1_1/data/RIbench//Data/AST/1988_AST_seed_265.csv\"\n",
      "[1] \"../../../v1_1/data/RIbench//Data/GGT/3105_GGT_seed_14.csv\"\n",
      "[1] \"../../../v1_1/data/RIbench//Data/GGT/3088_GGT_seed_14.csv\"\n",
      "[1] \"../../../v1_1/data/RIbench//Data/AST/2286_AST_seed_265.csv\"\n",
      "[1] \"../../../v1_1/data/RIbench//Data/LACT/2387_LACT_seed_158.csv\"\n",
      "[1] \"../../../v1_1/data/RIbench//Data/GGT/3402_GGT_seed_14.csv\"\n",
      "[1] \"../../../v1_1/data/RIbench//Data/FT4/1366_FT4_seed_86.csv\"\n",
      "[1] \"../../../v1_1/data/RIbench//Data/TSH/3643_TSH_seed_282.csv\"\n",
      "[1] \"../../../v1_1/data/RIbench//Data/AST/2130_AST_seed_265.csv\"\n",
      "[1] \"../../../v1_1/data/RIbench//Data/Ca/678_Ca_seed_236.csv\"\n"
     ]
    },
    {
     "name": "stderr",
     "output_type": "stream",
     "text": [
      " Data has small sample size (N < 1000). Evaluate results carefully.\n",
      "\n"
     ]
    },
    {
     "name": "stdout",
     "output_type": "stream",
     "text": [
      "[1] \"../../../v1_1/data/RIbench//Data/IgE/4049_IgE_seed_267.csv\"\n",
      "[1] \"../../../v1_1/data/RIbench//Data/LACT/2740_LACT_seed_158.csv\"\n",
      "[1] \"../../../v1_1/data/RIbench//Data/AST/2301_AST_seed_265.csv\"\n",
      "[1] \"../../../v1_1/data/RIbench//Data/FT4/1555_FT4_seed_86.csv\"\n",
      "[1] \"../../../v1_1/data/RIbench//Data/GGT/3308_GGT_seed_14.csv\"\n",
      "[1] \"../../../v1_1/data/RIbench//Data/Hb/521_Hb_seed_123.csv\"\n",
      "[1] \"../../../v1_1/data/RIbench//Data/IgE/4042_IgE_seed_267.csv\"\n"
     ]
    },
    {
     "name": "stderr",
     "output_type": "stream",
     "text": [
      " Data has small sample size (N < 1000). Evaluate results carefully.\n",
      "\n"
     ]
    },
    {
     "name": "stdout",
     "output_type": "stream",
     "text": [
      "[1] \"../../../v1_1/data/RIbench//Data/IgE/4321_IgE_seed_267.csv\"\n",
      "[1] \"../../../v1_1/data/RIbench//Data/AST/1978_AST_seed_265.csv\"\n",
      "[1] \"../../../v1_1/data/RIbench//Data/TSH/3623_TSH_seed_282.csv\"\n",
      "[1] \"../../../v1_1/data/RIbench//Data/GGT/3180_GGT_seed_14.csv\"\n",
      "[1] \"../../../v1_1/data/RIbench//Data/TSH/3885_TSH_seed_282.csv\"\n",
      "[1] \"../../../v1_1/data/RIbench//Data/AST/1998_AST_seed_265.csv\"\n",
      "[1] \"../../../v1_1/data/RIbench//Data/IgE/4232_IgE_seed_267.csv\"\n",
      "[1] \"../../../v1_1/data/RIbench//Data/AST/2201_AST_seed_265.csv\"\n",
      "[1] \"../../../v1_1/data/RIbench//Data/FT4/1272_FT4_seed_86.csv\"\n"
     ]
    },
    {
     "name": "stderr",
     "output_type": "stream",
     "text": [
      " Data has small sample size (N < 1000). Evaluate results carefully.\n",
      "\n"
     ]
    },
    {
     "name": "stdout",
     "output_type": "stream",
     "text": [
      "[1] \"../../../v1_1/data/RIbench//Data/Hb/408_Hb_seed_123.csv\"\n",
      "[1] \"../../../v1_1/data/RIbench//Data/LACT/2593_LACT_seed_158.csv\"\n",
      "[1] \"../../../v1_1/data/RIbench//Data/Hb/475_Hb_seed_123.csv\"\n",
      "[1] \"../../../v1_1/data/RIbench//Data/Hb/494_Hb_seed_123.csv\"\n",
      "[1] \"../../../v1_1/data/RIbench//Data/Ca/663_Ca_seed_236.csv\"\n",
      "[1] \"../../../v1_1/data/RIbench//Data/Hb/45_Hb_seed_123.csv\"\n",
      "[1] \"../../../v1_1/data/RIbench//Data/AST/1781_AST_seed_265.csv\"\n",
      "[1] \"../../../v1_1/data/RIbench//Data/Ca/699_Ca_seed_236.csv\"\n",
      "[1] \"../../../v1_1/data/RIbench//Data/AST/2188_AST_seed_265.csv\"\n",
      "[1] \"../../../v1_1/data/RIbench//Data/AST/1976_AST_seed_265.csv\"\n",
      "[1] \"../../../v1_1/data/RIbench//Data/LACT/2383_LACT_seed_158.csv\"\n",
      "[1] \"../../../v1_1/data/RIbench//Data/FT4/1198_FT4_seed_86.csv\"\n"
     ]
    },
    {
     "name": "stderr",
     "output_type": "stream",
     "text": [
      " Data has small sample size (N < 1000). Evaluate results carefully.\n",
      "\n"
     ]
    },
    {
     "name": "stdout",
     "output_type": "stream",
     "text": [
      "[1] \"../../../v1_1/data/RIbench//Data/TSH/3708_TSH_seed_282.csv\"\n",
      "[1] \"../../../v1_1/data/RIbench//Data/IgE/4325_IgE_seed_267.csv\"\n",
      "[1] \"../../../v1_1/data/RIbench//Data/Ca/582_Ca_seed_236.csv\"\n"
     ]
    },
    {
     "name": "stderr",
     "output_type": "stream",
     "text": [
      " Data has small sample size (N < 1000). Evaluate results carefully.\n",
      "\n"
     ]
    },
    {
     "name": "stdout",
     "output_type": "stream",
     "text": [
      "[1] \"../../../v1_1/data/RIbench//Data/Hb/118_Hb_seed_123.csv\"\n",
      "[1] \"../../../v1_1/data/RIbench//Data/FT4/1662_FT4_seed_86.csv\"\n",
      "[1] \"../../../v1_1/data/RIbench//Data/IgE/4225_IgE_seed_267.csv\"\n",
      "[1] \"../../../v1_1/data/RIbench//Data/IgE/4047_IgE_seed_267.csv\"\n",
      "[1] \"../../../v1_1/data/RIbench//Data/AST/2073_AST_seed_265.csv\"\n",
      "[1] \"../../../v1_1/data/RIbench//Data/AST/1826_AST_seed_265.csv\"\n",
      "[1] \"../../../v1_1/data/RIbench//Data/AST/2026_AST_seed_265.csv\"\n",
      "[1] \"../../../v1_1/data/RIbench//Data/FT4/1629_FT4_seed_86.csv\"\n",
      "[1] \"../../../v1_1/data/RIbench//Data/Ca/912_Ca_seed_236.csv\"\n",
      "[1] \"../../../v1_1/data/RIbench//Data/Hb/304_Hb_seed_123.csv\"\n",
      "[1] \"../../../v1_1/data/RIbench//Data/Hb/178_Hb_seed_123.csv\"\n",
      "[1] \"../../../v1_1/data/RIbench//Data/LACT/2505_LACT_seed_158.csv\"\n",
      "[1] \"../../../v1_1/data/RIbench//Data/AST/2236_AST_seed_265.csv\"\n",
      "[1] \"../../../v1_1/data/RIbench//Data/AST/1884_AST_seed_265.csv\"\n",
      "[1] \"../../../v1_1/data/RIbench//Data/IgE/4043_IgE_seed_267.csv\"\n",
      "[1] \"../../../v1_1/data/RIbench//Data/LACT/2604_LACT_seed_158.csv\"\n",
      "[1] \"../../../v1_1/data/RIbench//Data/FT4/1710_FT4_seed_86.csv\"\n",
      "[1] \"../../../v1_1/data/RIbench//Data/LACT/2719_LACT_seed_158.csv\"\n",
      "[1] \"../../../v1_1/data/RIbench//Data/AST/2268_AST_seed_265.csv\"\n",
      "[1] \"../../../v1_1/data/RIbench//Data/LACT/2873_LACT_seed_158.csv\"\n",
      "[1] \"../../../v1_1/data/RIbench//Data/GGT/2996_GGT_seed_14.csv\"\n"
     ]
    },
    {
     "name": "stderr",
     "output_type": "stream",
     "text": [
      " Data has small sample size (N < 1000). Evaluate results carefully.\n",
      "\n"
     ]
    },
    {
     "name": "stdout",
     "output_type": "stream",
     "text": [
      "[1] \"../../../v1_1/data/RIbench//Data/Hb/372_Hb_seed_123.csv\"\n",
      "[1] \"../../../v1_1/data/RIbench//Data/Hb/244_Hb_seed_123.csv\"\n",
      "[1] \"../../../v1_1/data/RIbench//Data/TSH/3773_TSH_seed_282.csv\"\n",
      "[1] \"../../../v1_1/data/RIbench//Data/Ca/608_Ca_seed_236.csv\"\n",
      "[1] \"../../../v1_1/data/RIbench//Data/LACT/2440_LACT_seed_158.csv\"\n",
      "[1] \"../../../v1_1/data/RIbench//Data/AST/1795_AST_seed_265.csv\"\n",
      "[1] \"../../../v1_1/data/RIbench//Data/AST/2216_AST_seed_265.csv\"\n",
      "[1] \"../../../v1_1/data/RIbench//Data/IgE/4106_IgE_seed_267.csv\"\n"
     ]
    },
    {
     "name": "stderr",
     "output_type": "stream",
     "text": [
      " Data has small sample size (N < 1000). Evaluate results carefully.\n",
      "\n"
     ]
    },
    {
     "name": "stdout",
     "output_type": "stream",
     "text": [
      "[1] \"../../../v1_1/data/RIbench//Data/Ca/850_Ca_seed_236.csv\"\n",
      "[1] \"../../../v1_1/data/RIbench//Data/Hb/362_Hb_seed_123.csv\"\n",
      "[1] \"../../../v1_1/data/RIbench//Data/LACT/2566_LACT_seed_158.csv\"\n",
      "[1] \"../../../v1_1/data/RIbench//Data/Ca/1136_Ca_seed_236.csv\"\n",
      "[1] \"../../../v1_1/data/RIbench//Data/Ca/1119_Ca_seed_236.csv\"\n",
      "[1] \"../../../v1_1/data/RIbench//Data/GGT/3398_GGT_seed_14.csv\"\n",
      "[1] \"../../../v1_1/data/RIbench//Data/IgE/4452_IgE_seed_267.csv\"\n",
      "[1] \"../../../v1_1/data/RIbench//Data/AST/2254_AST_seed_265.csv\"\n",
      "[1] \"../../../v1_1/data/RIbench//Data/LACT/2739_LACT_seed_158.csv\"\n",
      "[1] \"../../../v1_1/data/RIbench//Data/AST/1883_AST_seed_265.csv\"\n",
      "[1] \"../../../v1_1/data/RIbench//Data/TSH/3573_TSH_seed_282.csv\"\n",
      "[1] \"../../../v1_1/data/RIbench//Data/Hb/340_Hb_seed_123.csv\"\n",
      "[1] \"../../../v1_1/data/RIbench//Data/IgE/4211_IgE_seed_267.csv\"\n",
      "[1] \"../../../v1_1/data/RIbench//Data/TSH/3710_TSH_seed_282.csv\"\n",
      "[1] \"../../../v1_1/data/RIbench//Data/TSH/3580_TSH_seed_282.csv\"\n",
      "[1] \"../../../v1_1/data/RIbench//Data/LACT/2415_LACT_seed_158.csv\"\n",
      "[1] \"../../../v1_1/data/RIbench//Data/GGT/3225_GGT_seed_14.csv\"\n",
      "[1] \"../../../v1_1/data/RIbench//Data/GGT/3327_GGT_seed_14.csv\"\n",
      "[1] \"../../../v1_1/data/RIbench//Data/IgE/4220_IgE_seed_267.csv\"\n",
      "[1] \"../../../v1_1/data/RIbench//Data/TSH/3661_TSH_seed_282.csv\"\n",
      "[1] \"../../../v1_1/data/RIbench//Data/IgE/4143_IgE_seed_267.csv\"\n",
      "[1] \"../../../v1_1/data/RIbench//Data/Ca/626_Ca_seed_236.csv\"\n",
      "[1] \"../../../v1_1/data/RIbench//Data/LACT/2512_LACT_seed_158.csv\"\n",
      "[1] \"../../../v1_1/data/RIbench//Data/FT4/1360_FT4_seed_86.csv\"\n",
      "[1] \"../../../v1_1/data/RIbench//Data/IgE/4253_IgE_seed_267.csv\"\n",
      "[1] \"../../../v1_1/data/RIbench//Data/IgE/4317_IgE_seed_267.csv\"\n",
      "[1] \"../../../v1_1/data/RIbench//Data/LACT/2695_LACT_seed_158.csv\"\n",
      "[1] \"../../../v1_1/data/RIbench//Data/FT4/1303_FT4_seed_86.csv\"\n",
      "[1] \"../../../v1_1/data/RIbench//Data/Ca/1133_Ca_seed_236.csv\"\n",
      "[1] \"../../../v1_1/data/RIbench//Data/IgE/4401_IgE_seed_267.csv\"\n",
      "[1] \"../../../v1_1/data/RIbench//Data/IgE/4361_IgE_seed_267.csv\"\n"
     ]
    }
   ],
   "source": [
    "cat('Predicting\\n')\n",
    "\n",
    "# generate refineR predictions\n",
    "for (file in files_test) {\n",
    "    print(file)\n",
    "    \n",
    "    # format file name\n",
    "    split_string <- strsplit(file, \"/\")[[1]]\n",
    "    outfile <- tail(split_string, 1)\n",
    "    \n",
    "     # if the file doesn't already exist\n",
    "     if (!file.exists(paste0(outdr, outfile))) {\n",
    "    \n",
    "         data <- read.csv(file, header=FALSE)$V1 # read simulated values\n",
    "         fit <- findRI(data) # use refineR to get model fit\n",
    "         result <- getRI(fit, Scale='original') # get RI estimate from model\n",
    "\n",
    "         write.csv(result, paste0(outdr, outfile))\n",
    "        \n",
    "     }\n",
    "}\n"
   ]
  },
  {
   "cell_type": "code",
   "execution_count": null,
   "id": "9dac0385",
   "metadata": {},
   "outputs": [],
   "source": []
  }
 ],
 "metadata": {
  "kernelspec": {
   "display_name": "R",
   "language": "R",
   "name": "ir"
  },
  "language_info": {
   "codemirror_mode": "r",
   "file_extension": ".r",
   "mimetype": "text/x-r-source",
   "name": "R",
   "pygments_lexer": "r",
   "version": "4.3.3"
  }
 },
 "nbformat": 4,
 "nbformat_minor": 5
}
