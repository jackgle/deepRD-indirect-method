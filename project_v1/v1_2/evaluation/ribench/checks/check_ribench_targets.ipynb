{
 "cells": [
  {
   "cell_type": "code",
   "execution_count": 1,
   "id": "df2dfdfe",
   "metadata": {},
   "outputs": [],
   "source": [
    "import numpy as np\n",
    "import pandas as pd\n",
    "from scipy.stats import norm\n",
    "from scipy.special import inv_boxcox\n",
    "\n",
    "params = pd.read_csv('../../../v1_1/data/RIbench/BMTestSets_meta.csv')\n",
    "params = params[(params.Analyte!='CRP') & (params.Analyte!='LDH')]\n",
    "\n"
   ]
  },
  {
   "cell_type": "code",
   "execution_count": 2,
   "id": "30758ad7",
   "metadata": {},
   "outputs": [],
   "source": [
    "ribench_targets = []\n",
    "new_targets = []\n",
    "for i in params.iterrows():\n",
    "    \n",
    "    ribench_targets.append([i[1]['GT_LRL'], i[1]['GT_URL']])\n",
    "    \n",
    "    target = norm(loc=i[1]['nonp_mu'], scale=i[1]['nonp_sigma'])\n",
    "    target = np.array([target.ppf(0.025), target.ppf(0.975)])\n",
    "    target = inv_boxcox(target, i[1]['nonp_lambda'])\n",
    "    \n",
    "    new_targets.append(target)\n",
    "    \n",
    "del target\n",
    "ribench_targets = np.array(ribench_targets)\n",
    "new_targets = np.array(new_targets)\n",
    "    "
   ]
  },
  {
   "cell_type": "code",
   "execution_count": 3,
   "id": "22d9b3a8",
   "metadata": {},
   "outputs": [],
   "source": [
    "errors = np.abs(ribench_targets-new_targets).flatten()\n"
   ]
  },
  {
   "cell_type": "code",
   "execution_count": 4,
   "id": "03a4156f",
   "metadata": {},
   "outputs": [
    {
     "data": {
      "text/plain": [
       "0.000900040799516777"
      ]
     },
     "execution_count": 4,
     "metadata": {},
     "output_type": "execute_result"
    }
   ],
   "source": [
    "errors.max()\n"
   ]
  },
  {
   "cell_type": "code",
   "execution_count": 5,
   "id": "a6c3a2ae",
   "metadata": {},
   "outputs": [],
   "source": [
    "params = pd.read_csv('../../../v1_1/data/RIbench/BMTestSets_meta.csv', index_col=0)\n",
    "params = params[params.Analyte=='CRP']\n"
   ]
  },
  {
   "cell_type": "code",
   "execution_count": 6,
   "id": "946027ff",
   "metadata": {},
   "outputs": [],
   "source": [
    "ribench_targets = []\n",
    "new_targets = []\n",
    "for i in params.iterrows():\n",
    "    \n",
    "    ribench_targets.append(i[1]['GT_URL'])\n",
    "    \n",
    "    target = norm(loc=i[1]['nonp_mu'], scale=i[1]['nonp_sigma'])\n",
    "    target = np.array(target.ppf(0.975))\n",
    "    target = inv_boxcox(target, i[1]['nonp_lambda'])\n",
    "    \n",
    "    new_targets.append(target)\n",
    "    \n",
    "del target\n",
    "ribench_targets = np.array(ribench_targets)\n",
    "new_targets = np.array(new_targets)\n",
    "    "
   ]
  },
  {
   "cell_type": "code",
   "execution_count": 7,
   "id": "b7dba655",
   "metadata": {},
   "outputs": [
    {
     "name": "stderr",
     "output_type": "stream",
     "text": [
      "Matplotlib is building the font cache; this may take a moment.\n"
     ]
    },
    {
     "data": {
      "image/png": "[encoded data removed]",
      "text/plain": [
       "<Figure size 640x480 with 1 Axes>"
      ]
     },
     "metadata": {},
     "output_type": "display_data"
    }
   ],
   "source": [
    "import matplotlib.pyplot as plt\n",
    "sample = np.random.normal(i[1]['nonp_mu'], i[1]['nonp_sigma'], 10000)\n",
    "plt.hist(sample, np.linspace(-10, 10, 100));\n"
   ]
  },
  {
   "cell_type": "code",
   "execution_count": null,
   "id": "1d0eb26f",
   "metadata": {},
   "outputs": [],
   "source": []
  }
 ],
 "metadata": {
  "kernelspec": {
   "display_name": "conda_tensorflow2_p310",
   "language": "python",
   "name": "conda_tensorflow2_p310"
  },
  "language_info": {
   "codemirror_mode": {
    "name": "ipython",
    "version": 3
   },
   "file_extension": ".py",
   "mimetype": "text/x-python",
   "name": "python",
   "nbconvert_exporter": "python",
   "pygments_lexer": "ipython3",
   "version": "3.10.14"
  }
 },
 "nbformat": 4,
 "nbformat_minor": 5
}
