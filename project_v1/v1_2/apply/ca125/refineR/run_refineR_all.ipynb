{
 "cells": [
  {
   "cell_type": "code",
   "execution_count": 1,
   "id": "50e9d338",
   "metadata": {},
   "outputs": [],
   "source": [
    "# install.packages('refineR')"
   ]
  },
  {
   "cell_type": "code",
   "execution_count": 2,
   "id": "a4e78225",
   "metadata": {},
   "outputs": [],
   "source": [
    "library('refineR')\n",
    "\n",
    "# path to a directory holding CSVs with CA-125 values for each age group\n",
    "file_path = '../preprocessed_data.csv'\n"
   ]
  },
  {
   "cell_type": "code",
   "execution_count": 4,
   "id": "31d4530e",
   "metadata": {},
   "outputs": [],
   "source": [
    "# for holding predicted CSV files, lower limits, and upper limits\n",
    "execution_times <- numeric()\n",
    "  \n",
    "data <- read.csv(file_path)$value # read simulated values\n",
    "\n",
    "for (percentile in c(0.99)) {\n",
    "    start_time <- Sys.time()\n",
    "\n",
    "    fit <- findRI(data, NBootstrap=200, model='BoxCox') # fit the refineR model\n",
    "    result <- getRI(fit, RIperc = c(0, percentile), CIprop=0.95, Scale='original')\n",
    "\n",
    "    end_time <- Sys.time()\n",
    "    iteration_time <- end_time - start_time # check processing time\n",
    "\n",
    "    # write results\n",
    "    write.csv(result, file=paste0('all_',percentile,'.csv'), row.names=FALSE)\n",
    "}\n",
    "                                  \n",
    "cat(execution_times)\n"
   ]
  },
  {
   "cell_type": "code",
   "execution_count": null,
   "id": "fb0a28eb",
   "metadata": {},
   "outputs": [],
   "source": []
  }
 ],
 "metadata": {
  "kernelspec": {
   "display_name": "R",
   "language": "R",
   "name": "ir"
  },
  "language_info": {
   "codemirror_mode": "r",
   "file_extension": ".r",
   "mimetype": "text/x-r-source",
   "name": "R",
   "pygments_lexer": "r",
   "version": "4.3.3"
  }
 },
 "nbformat": 4,
 "nbformat_minor": 5
}
