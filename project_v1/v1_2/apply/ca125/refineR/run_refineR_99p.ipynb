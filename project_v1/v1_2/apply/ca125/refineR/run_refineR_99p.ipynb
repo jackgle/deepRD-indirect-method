{
 "cells": [
  {
   "cell_type": "code",
   "execution_count": 1,
   "id": "50e9d338",
   "metadata": {},
   "outputs": [],
   "source": [
    "# install.packages('refineR')"
   ]
  },
  {
   "cell_type": "code",
   "execution_count": 2,
   "id": "a4e78225",
   "metadata": {},
   "outputs": [
    {
     "name": "stdout",
     "output_type": "stream",
     "text": [
      " [1] \"../data/age_binned//data_18.csv\" \"../data/age_binned//data_25.csv\"\n",
      " [3] \"../data/age_binned//data_30.csv\" \"../data/age_binned//data_35.csv\"\n",
      " [5] \"../data/age_binned//data_40.csv\" \"../data/age_binned//data_45.csv\"\n",
      " [7] \"../data/age_binned//data_50.csv\" \"../data/age_binned//data_55.csv\"\n",
      " [9] \"../data/age_binned//data_60.csv\" \"../data/age_binned//data_65.csv\"\n",
      "[11] \"../data/age_binned//data_70.csv\" \"../data/age_binned//data_75.csv\"\n",
      "[13] \"../data/age_binned//data_80.csv\" \"../data/age_binned//data_85.csv\"\n"
     ]
    }
   ],
   "source": [
    "library('refineR')\n",
    "\n",
    "# path to a directory holding CSVs with CA-125 values for each age group\n",
    "dir <- '../data/age_binned/'\n",
    "file_list <- list.files(path = dir)\n",
    "file_list <- file.path(dir, file_list)\n",
    "\n",
    "# check file list\n",
    "print(file_list)\n"
   ]
  },
  {
   "cell_type": "code",
   "execution_count": 3,
   "id": "31d4530e",
   "metadata": {},
   "outputs": [
    {
     "name": "stdout",
     "output_type": "stream",
     "text": [
      "../data/age_binned//data_18.csv \n",
      "3015  values\n",
      "0 43.65976 \n",
      "max value:  140.9 \n",
      "\n",
      "iteration time:  3.46289../data/age_binned//data_25.csv \n",
      "2446  values\n",
      "0 43.4103 \n",
      "max value:  126.1 \n",
      "\n",
      "iteration time:  3.546556../data/age_binned//data_30.csv \n",
      "2728  values\n",
      "0 48.22432 \n",
      "max value:  137.6 \n",
      "\n",
      "iteration time:  3.505222../data/age_binned//data_35.csv \n",
      "3224  values\n",
      "3.346995e-153 41.92052 \n",
      "max value:  136 \n",
      "\n",
      "iteration time:  3.215402../data/age_binned//data_40.csv \n",
      "4187  values\n",
      "0 49.03958 \n",
      "max value:  138.2 \n",
      "\n",
      "iteration time:  2.966628../data/age_binned//data_45.csv \n",
      "4404  values\n",
      "0 37.93246 \n",
      "max value:  136.1 \n",
      "\n",
      "iteration time:  3.062442../data/age_binned//data_50.csv \n",
      "4055  values\n",
      "0 33.5243 \n",
      "max value:  135.8 \n",
      "\n",
      "iteration time:  3.014552../data/age_binned//data_55.csv \n",
      "3311  values\n",
      "0 29.85936 \n",
      "max value:  141 \n",
      "\n",
      "iteration time:  3.112689../data/age_binned//data_60.csv \n",
      "2958  values\n",
      "0 27.67604 \n",
      "max value:  140.5 \n",
      "\n",
      "iteration time:  3.219714../data/age_binned//data_65.csv \n",
      "1857  values\n",
      "0 28.42058 \n",
      "max value:  141 \n",
      "\n",
      "iteration time:  5.281908../data/age_binned//data_70.csv \n",
      "1411  values\n",
      "0 32.75319 \n",
      "max value:  140.6 \n",
      "\n",
      "iteration time:  6.958786../data/age_binned//data_75.csv \n",
      "1032  values\n",
      "0 37.9302 \n",
      "max value:  128 \n",
      "\n",
      "iteration time:  5.446416"
     ]
    },
    {
     "name": "stderr",
     "output_type": "stream",
     "text": [
      " Data has small sample size (N < 1000). Evaluate results carefully.\n",
      "\n"
     ]
    },
    {
     "name": "stdout",
     "output_type": "stream",
     "text": [
      "../data/age_binned//data_80.csv \n",
      "569  values\n",
      "2.536967e-73 32.81338 \n",
      "max value:  140.9 \n",
      "\n",
      "iteration time:  8.677935"
     ]
    },
    {
     "name": "stderr",
     "output_type": "stream",
     "text": [
      " Data has small sample size (N < 1000). Evaluate results carefully.\n",
      "\n"
     ]
    },
    {
     "name": "stdout",
     "output_type": "stream",
     "text": [
      "../data/age_binned//data_85.csv \n",
      "415  values\n",
      "2.1024e-46 35.26406 \n",
      "max value:  140 \n",
      "\n",
      "iteration time:  6.791713"
     ]
    }
   ],
   "source": [
    "# for holding predicted CSV files, lower limits, and upper limits\n",
    "execution_times <- numeric()\n",
    "\n",
    "bins_5 <- c(18, 25, 30, 35, 40, 45, 50, 55, 60, 65, 70, 75, 80, 85)\n",
    "c <- 1\n",
    "for (file in sort(file_list)) { # loop file list\n",
    "    \n",
    "    data <- read.csv(file)$value # read simulated values\n",
    "    \n",
    "    if (length(data)<=10) {\n",
    "        next\n",
    "    }\n",
    "    \n",
    "    start_time <- Sys.time()\n",
    "\n",
    "    fit <- findRI(data, NBootstrap=200, model='BoxCox') # fit the refineR model\n",
    "    result <- getRI(fit, RIperc = c(0, 0.99), CIprop=0.95, Scale='original')\n",
    "\n",
    "    end_time <- Sys.time()\n",
    "    iteration_time <- end_time - start_time # check processing time\n",
    "\n",
    "    cat(file,'\\n') # print data stats\n",
    "    cat(length(data), \" values\\n\")\n",
    "    cat(result$PointEst,'\\n') # print estimated RI\n",
    "    cat('max value: ', max(data), '\\n\\n') # print max data value\n",
    "    cat('iteration time: ',iteration_time) # print processing time\n",
    "\n",
    "    # write results\n",
    "    write.csv(result, file=paste0('data_', bins_5[c], '_99p'), row.names=FALSE)\n",
    "    c <- c+1\n",
    "\n",
    "}\n",
    "\n",
    "cat(execution_times)\n"
   ]
  },
  {
   "cell_type": "code",
   "execution_count": null,
   "id": "fb0a28eb",
   "metadata": {},
   "outputs": [],
   "source": []
  }
 ],
 "metadata": {
  "kernelspec": {
   "display_name": "R",
   "language": "R",
   "name": "ir"
  },
  "language_info": {
   "codemirror_mode": "r",
   "file_extension": ".r",
   "mimetype": "text/x-r-source",
   "name": "R",
   "pygments_lexer": "r",
   "version": "4.3.3"
  }
 },
 "nbformat": 4,
 "nbformat_minor": 5
}
