{
 "cells": [
  {
   "cell_type": "code",
   "execution_count": 1,
   "id": "50e9d338",
   "metadata": {},
   "outputs": [
    {
     "name": "stderr",
     "output_type": "stream",
     "text": [
      "also installing the dependency ‘ash’\n",
      "\n",
      "\n",
      "Updating HTML index of packages in '.Library'\n",
      "\n",
      "Making 'packages.html' ...\n",
      " done\n",
      "\n"
     ]
    }
   ],
   "source": [
    "install.packages('refineR')"
   ]
  },
  {
   "cell_type": "code",
   "execution_count": 2,
   "id": "a4e78225",
   "metadata": {},
   "outputs": [
    {
     "name": "stdout",
     "output_type": "stream",
     "text": [
      " [1] \"../data/age_binned//data_18.csv\" \"../data/age_binned//data_25.csv\"\n",
      " [3] \"../data/age_binned//data_30.csv\" \"../data/age_binned//data_35.csv\"\n",
      " [5] \"../data/age_binned//data_40.csv\" \"../data/age_binned//data_45.csv\"\n",
      " [7] \"../data/age_binned//data_50.csv\" \"../data/age_binned//data_55.csv\"\n",
      " [9] \"../data/age_binned//data_60.csv\" \"../data/age_binned//data_65.csv\"\n",
      "[11] \"../data/age_binned//data_70.csv\" \"../data/age_binned//data_75.csv\"\n",
      "[13] \"../data/age_binned//data_80.csv\" \"../data/age_binned//data_85.csv\"\n"
     ]
    }
   ],
   "source": [
    "library('refineR')\n",
    "\n",
    "# path to a directory holding CSVs with CA-125 values for each age group\n",
    "dir <- '../data/age_binned/'\n",
    "file_list <- list.files(path = dir)\n",
    "file_list <- file.path(dir, file_list)\n",
    "\n",
    "# check file list\n",
    "print(file_list)\n"
   ]
  },
  {
   "cell_type": "code",
   "execution_count": null,
   "id": "31d4530e",
   "metadata": {},
   "outputs": [],
   "source": [
    "# for holding predicted CSV files, lower limits, and upper limits\n",
    "execution_times <- numeric()\n",
    "\n",
    "for (file in sort(file_list)) { # loop file list\n",
    "  \n",
    "    data <- read.csv(file)$value # read simulated values\n",
    "    \n",
    "    if (length(data)<=10) {\n",
    "        next\n",
    "    }\n",
    "    \n",
    "    start_time <- Sys.time()\n",
    "\n",
    "    fit <- findRI(data, NBootstrap=200, model='BoxCox') # fit the refineR model\n",
    "    result <- getRI(fit, RIperc = c(0, 0.95), CIprop=0.95, Scale='original')\n",
    "\n",
    "    end_time <- Sys.time()\n",
    "    iteration_time <- end_time - start_time # check processing time\n",
    "\n",
    "    cat(file,'\\n') # print data stats\n",
    "    cat(length(data), \" values\\n\")\n",
    "    cat(result$PointEst,'\\n') # print estimated RI\n",
    "    cat('max value: ', max(data), '\\n\\n') # print max data value\n",
    "    cat('iteration time: ',iteration_time) # print processing time\n",
    "\n",
    "    # write results\n",
    "    write.csv(result, file=sapply(strsplit(file, \"/\"), function(x) x[length(x)]), row.names=FALSE)\n",
    "\n",
    "}\n",
    "\n",
    "cat(execution_times)\n"
   ]
  },
  {
   "cell_type": "code",
   "execution_count": null,
   "id": "fb0a28eb",
   "metadata": {},
   "outputs": [],
   "source": []
  }
 ],
 "metadata": {
  "kernelspec": {
   "display_name": "R",
   "language": "R",
   "name": "ir"
  },
  "language_info": {
   "codemirror_mode": "r",
   "file_extension": ".r",
   "mimetype": "text/x-r-source",
   "name": "R",
   "pygments_lexer": "r",
   "version": "4.3.3"
  }
 },
 "nbformat": 4,
 "nbformat_minor": 5
}
