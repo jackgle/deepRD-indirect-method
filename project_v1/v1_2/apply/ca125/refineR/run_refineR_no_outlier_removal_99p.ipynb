{
 "cells": [
  {
   "cell_type": "code",
   "execution_count": 1,
   "id": "50e9d338",
   "metadata": {},
   "outputs": [
    {
     "name": "stderr",
     "output_type": "stream",
     "text": [
      "Updating HTML index of packages in '.Library'\n",
      "\n",
      "Making 'packages.html' ...\n",
      " done\n",
      "\n"
     ]
    }
   ],
   "source": [
    "install.packages('refineR')"
   ]
  },
  {
   "cell_type": "code",
   "execution_count": 2,
   "id": "a4e78225",
   "metadata": {},
   "outputs": [
    {
     "name": "stdout",
     "output_type": "stream",
     "text": [
      " [1] \"../data/age_binned_no_outlier_removal//data_18.csv\"\n",
      " [2] \"../data/age_binned_no_outlier_removal//data_25.csv\"\n",
      " [3] \"../data/age_binned_no_outlier_removal//data_30.csv\"\n",
      " [4] \"../data/age_binned_no_outlier_removal//data_35.csv\"\n",
      " [5] \"../data/age_binned_no_outlier_removal//data_40.csv\"\n",
      " [6] \"../data/age_binned_no_outlier_removal//data_45.csv\"\n",
      " [7] \"../data/age_binned_no_outlier_removal//data_50.csv\"\n",
      " [8] \"../data/age_binned_no_outlier_removal//data_55.csv\"\n",
      " [9] \"../data/age_binned_no_outlier_removal//data_60.csv\"\n",
      "[10] \"../data/age_binned_no_outlier_removal//data_65.csv\"\n",
      "[11] \"../data/age_binned_no_outlier_removal//data_70.csv\"\n",
      "[12] \"../data/age_binned_no_outlier_removal//data_75.csv\"\n",
      "[13] \"../data/age_binned_no_outlier_removal//data_80.csv\"\n",
      "[14] \"../data/age_binned_no_outlier_removal//data_85.csv\"\n"
     ]
    }
   ],
   "source": [
    "library('refineR')\n",
    "\n",
    "# path to a directory holding CSVs with CA-125 values for each age group\n",
    "dir <- '../data/age_binned_no_outlier_removal/'\n",
    "file_list <- list.files(path = dir)\n",
    "file_list <- file.path(dir, file_list)\n",
    "\n",
    "# check file list\n",
    "print(file_list)\n"
   ]
  },
  {
   "cell_type": "code",
   "execution_count": null,
   "id": "31d4530e",
   "metadata": {},
   "outputs": [
    {
     "name": "stdout",
     "output_type": "stream",
     "text": [
      "../data/age_binned_no_outlier_removal//data_18.csv \n",
      "3031  values\n",
      "0 44.21893 \n",
      "max value:  741 \n",
      "\n",
      "iteration time:  3.493033../data/age_binned_no_outlier_removal//data_25.csv \n",
      "2461  values\n",
      "0 41.73627 \n",
      "max value:  918 \n",
      "\n",
      "iteration time:  4.041349../data/age_binned_no_outlier_removal//data_30.csv \n",
      "2749  values\n",
      "0 49.06152 \n",
      "max value:  1331.4 \n",
      "\n",
      "iteration time:  4.104595../data/age_binned_no_outlier_removal//data_35.csv \n",
      "3261  values\n",
      "0 51.54689 \n",
      "max value:  10000 \n",
      "\n",
      "iteration time:  6.257548../data/age_binned_no_outlier_removal//data_40.csv \n",
      "4227  values\n",
      "0 47.4281 \n",
      "max value:  10000 \n",
      "\n",
      "iteration time:  3.735437../data/age_binned_no_outlier_removal//data_45.csv \n",
      "4436  values\n",
      "0 41.28838 \n",
      "max value:  11269 \n",
      "\n",
      "iteration time:  3.980272../data/age_binned_no_outlier_removal//data_50.csv \n",
      "4097  values\n",
      "0 35.87068 \n",
      "max value:  260720 \n",
      "\n",
      "iteration time:  11.83001../data/age_binned_no_outlier_removal//data_55.csv \n",
      "3368  values\n",
      "0 31.17751 \n",
      "max value:  10000 \n",
      "\n",
      "iteration time:  11.14896../data/age_binned_no_outlier_removal//data_60.csv \n",
      "3015  values\n",
      "0 30.34032 \n",
      "max value:  14285 \n",
      "\n",
      "iteration time:  9.410736../data/age_binned_no_outlier_removal//data_65.csv \n",
      "1921  values\n",
      "0 29.57266 \n",
      "max value:  10000 \n",
      "\n",
      "iteration time:  9.376578../data/age_binned_no_outlier_removal//data_70.csv \n",
      "1466  values\n",
      "0 33.95291 \n",
      "max value:  15000 \n",
      "\n",
      "iteration time:  9.186614../data/age_binned_no_outlier_removal//data_75.csv \n",
      "1084  values\n",
      "0 34.87521 \n",
      "max value:  10000 \n",
      "\n",
      "iteration time:  8.724844"
     ]
    },
    {
     "name": "stderr",
     "output_type": "stream",
     "text": [
      " Data has small sample size (N < 1000). Evaluate results carefully.\n",
      "\n"
     ]
    },
    {
     "name": "stdout",
     "output_type": "stream",
     "text": [
      "../data/age_binned_no_outlier_removal//data_85.csv \n",
      "448  values\n",
      "3.867941e-190 54.10454 \n",
      "max value:  2573.6 \n",
      "\n",
      "iteration time:  6.912882"
     ]
    }
   ],
   "source": [
    "# for holding predicted CSV files, lower limits, and upper limits\n",
    "execution_times <- numeric()\n",
    "\n",
    "bins_5 <- c(18, 25, 30, 35, 40, 45, 50, 55, 60, 65, 70, 75, 80, 85)\n",
    "c <- 1\n",
    "for (file in sort(file_list)) { # loop file list\n",
    "    \n",
    "    data <- read.csv(file)$value # read simulated values\n",
    "    \n",
    "    if (length(data)<=10) {\n",
    "        next\n",
    "    }\n",
    "    \n",
    "    start_time <- Sys.time()\n",
    "\n",
    "    fit <- findRI(data, NBootstrap=200, model='BoxCox') # fit the refineR model\n",
    "    result <- getRI(fit, RIperc = c(0, 0.99), CIprop=0.95, Scale='original')\n",
    "\n",
    "    end_time <- Sys.time()\n",
    "    iteration_time <- end_time - start_time # check processing time\n",
    "\n",
    "    cat(file,'\\n') # print data stats\n",
    "    cat(length(data), \" values\\n\")\n",
    "    cat(result$PointEst,'\\n') # print estimated RI\n",
    "    cat('max value: ', max(data), '\\n\\n') # print max data value\n",
    "    cat('iteration time: ',iteration_time) # print processing time\n",
    "\n",
    "    # write results\n",
    "    write.csv(result, file=paste0('data_', bins_5[c], '_no_outlier_removal_99p'), row.names=FALSE)\n",
    "    c <- c+1\n",
    "\n",
    "}\n",
    "\n",
    "cat(execution_times)\n"
   ]
  },
  {
   "cell_type": "code",
   "execution_count": null,
   "id": "fb0a28eb",
   "metadata": {},
   "outputs": [],
   "source": []
  }
 ],
 "metadata": {
  "kernelspec": {
   "display_name": "R",
   "language": "R",
   "name": "ir"
  },
  "language_info": {
   "codemirror_mode": "r",
   "file_extension": ".r",
   "mimetype": "text/x-r-source",
   "name": "R",
   "pygments_lexer": "r",
   "version": "4.3.3"
  }
 },
 "nbformat": 4,
 "nbformat_minor": 5
}
