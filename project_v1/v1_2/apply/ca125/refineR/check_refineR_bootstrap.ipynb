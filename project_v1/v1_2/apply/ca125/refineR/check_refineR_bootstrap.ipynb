{
 "cells": [
  {
   "cell_type": "code",
   "execution_count": 1,
   "id": "0910232f",
   "metadata": {},
   "outputs": [],
   "source": [
    "# install.packages('refineR')\n"
   ]
  },
  {
   "cell_type": "code",
   "execution_count": 2,
   "id": "8170d1cb",
   "metadata": {},
   "outputs": [],
   "source": [
    "library(refineR)\n"
   ]
  },
  {
   "cell_type": "code",
   "execution_count": 3,
   "id": "9dac0385",
   "metadata": {},
   "outputs": [],
   "source": [
    "file = '../data/age_binned/data_85.csv'\n",
    "data <- read.csv(file)$value # read simulated values\n"
   ]
  },
  {
   "cell_type": "code",
   "execution_count": 4,
   "id": "b0028dec",
   "metadata": {},
   "outputs": [
    {
     "data": {
      "text/html": [
       "415"
      ],
      "text/latex": [
       "415"
      ],
      "text/markdown": [
       "415"
      ],
      "text/plain": [
       "[1] 415"
      ]
     },
     "metadata": {},
     "output_type": "display_data"
    }
   ],
   "source": [
    "length(data)\n"
   ]
  },
  {
   "cell_type": "code",
   "execution_count": 5,
   "id": "1805f5a9",
   "metadata": {},
   "outputs": [
    {
     "name": "stderr",
     "output_type": "stream",
     "text": [
      " Data has small sample size (N < 1000). Evaluate results carefully.\n",
      "\n"
     ]
    }
   ],
   "source": [
    "fit <- findRI(data, model='BoxCox') # use refineR to get model fit\n"
   ]
  },
  {
   "cell_type": "code",
   "execution_count": 6,
   "id": "4b23397e",
   "metadata": {},
   "outputs": [
    {
     "data": {
      "text/plain": [
       "\n",
       "Reference Intervals\n",
       "------------------------------------------------\n",
       "lower limit [ 2.5% perc]: 3.6\n",
       "upper limit [97.5% perc]: 30.7\n",
       "\n",
       "Model Parameters\n",
       "------------------------------------------------\n",
       "     method: refineR (v1.6.1)\n",
       "      model: BoxCox\n",
       "     N data: 415\n",
       "    rounded: yes (base: 0.01)\n",
       "  point est: fullDataEst\n",
       "     lambda: 0.339\n",
       "         mu: 4.03\n",
       "      sigma: 1.24\n",
       "      shift: 0\n",
       "       cost: -8.94\n",
       "NP fraction: 0.821"
      ]
     },
     "metadata": {},
     "output_type": "display_data"
    }
   ],
   "source": [
    "fit\n"
   ]
  },
  {
   "cell_type": "code",
   "execution_count": 9,
   "id": "a5e05389",
   "metadata": {},
   "outputs": [
    {
     "name": "stderr",
     "output_type": "stream",
     "text": [
      " Data has small sample size (N < 1000). Evaluate results carefully.\n",
      "\n"
     ]
    }
   ],
   "source": [
    "fit <- findRI(data, NBootstrap=3, model='BoxCox') # use refineR to get model fit\n"
   ]
  },
  {
   "cell_type": "code",
   "execution_count": 10,
   "id": "9ff33e1a",
   "metadata": {},
   "outputs": [
    {
     "data": {
      "text/plain": [
       "\n",
       "Reference Intervals\n",
       "------------------------------------------------\n",
       "lower limit [ 2.5% perc]: 3.6 (3.77; 4.49)\n",
       "upper limit [97.5% perc]: 30.7 (37; 49.3)\n",
       "\n",
       "Model Parameters\n",
       "------------------------------------------------\n",
       "     method: refineR (v1.6.1)\n",
       "      model: BoxCox\n",
       "     N data: 415\n",
       "N bootstrap: 3\n",
       "    rounded: yes (base: 0.01)\n",
       "  point est: fullDataEst\n",
       "     lambda: 0.339\n",
       "         mu: 4.03\n",
       "      sigma: 1.24\n",
       "      shift: 0\n",
       "       cost: -8.94\n",
       "NP fraction: 0.821"
      ]
     },
     "metadata": {},
     "output_type": "display_data"
    }
   ],
   "source": [
    "fit\n"
   ]
  },
  {
   "cell_type": "code",
   "execution_count": null,
   "id": "a88cdc56",
   "metadata": {},
   "outputs": [],
   "source": []
  }
 ],
 "metadata": {
  "kernelspec": {
   "display_name": "R",
   "language": "R",
   "name": "ir"
  },
  "language_info": {
   "codemirror_mode": "r",
   "file_extension": ".r",
   "mimetype": "text/x-r-source",
   "name": "R",
   "pygments_lexer": "r",
   "version": "4.3.3"
  }
 },
 "nbformat": 4,
 "nbformat_minor": 5
}
