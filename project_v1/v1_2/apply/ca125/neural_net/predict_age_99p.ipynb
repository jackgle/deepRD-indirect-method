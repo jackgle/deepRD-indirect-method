{
 "cells": [
  {
   "cell_type": "code",
   "execution_count": 1,
   "id": "8dad153b",
   "metadata": {},
   "outputs": [],
   "source": [
    "import os\n",
    "os.environ['TF_CPP_MIN_LOG_LEVEL'] = '3' \n",
    "import pickle\n",
    "import pandas as pd\n",
    "import numpy as np\n",
    "import tensorflow as tf\n",
    "import matplotlib.pyplot as plt\n",
    "\n",
    "data_path = '../data/age_binned/'\n",
    "model_path = '../../../modeling/v5_2/model/'\n"
   ]
  },
  {
   "cell_type": "code",
   "execution_count": 2,
   "id": "b5eb9bc6",
   "metadata": {},
   "outputs": [],
   "source": [
    "# load model\n",
    "model = tf.keras.models.load_model(model_path+'/model_checkpoint')\n",
    "scalery = pickle.load(open(model_path+'/model_y_scaler.pkl', 'rb'))\n",
    "\n",
    "def extract_features(data):\n",
    "\n",
    "    features = np.histogram(data, np.linspace(-4, 4, 101), density=True)[0]\n",
    "    features = (features - features.min())/(features.max() - features.min())\n",
    "    \n",
    "    return features.reshape(-1, 1)\n"
   ]
  },
  {
   "cell_type": "code",
   "execution_count": 3,
   "id": "01b75061",
   "metadata": {},
   "outputs": [],
   "source": [
    "def predict_df(path, nbootstrap=200):\n",
    "\n",
    "    df = pd.read_csv(path)\n",
    "    \n",
    "    ps = []\n",
    "    for i in range(nbootstrap):\n",
    "    \n",
    "        if i==0:\n",
    "            data = df.value.values\n",
    "        else:\n",
    "            data = np.random.choice(df.value.values, len(df.value.values), replace=True)\n",
    "\n",
    "        # standardize\n",
    "        mean = data.mean()\n",
    "        std = data.std()\n",
    "        data = (data - mean)/std\n",
    "\n",
    "        # feature extraction\n",
    "        features = extract_features(data)\n",
    "\n",
    "        # predict\n",
    "        p = model.predict(features[np.newaxis,...], verbose=0)\n",
    "        p = scalery.inverse_transform(p)[0]\n",
    "        p = p[-2] # retrieve the elements corresponding to 0.95 quantile\n",
    "        # convert back to original scale\n",
    "        p *= std\n",
    "        p += mean\n",
    "        ps.append(p)\n",
    "    \n",
    "    ps = np.array(ps)\n",
    "    \n",
    "    return ps.mean(axis=0), np.quantile(ps, 0.025, axis=0), np.quantile(ps, 0.975, axis=0)\n",
    "    "
   ]
  },
  {
   "cell_type": "code",
   "execution_count": 4,
   "id": "4cbb970a",
   "metadata": {},
   "outputs": [
    {
     "name": "stdout",
     "output_type": "stream",
     "text": [
      "data_18.csv\n",
      "data_25.csv\n",
      "data_30.csv\n",
      "data_35.csv\n",
      "data_40.csv\n",
      "data_45.csv\n",
      "data_50.csv\n",
      "data_55.csv\n",
      "data_60.csv\n",
      "data_65.csv\n",
      "data_70.csv\n",
      "data_75.csv\n",
      "data_80.csv\n",
      "data_85.csv\n"
     ]
    }
   ],
   "source": [
    "predictions = {}\n",
    "for i in sorted(os.listdir(data_path)):\n",
    "    print(i)\n",
    "    p = predict_df(data_path+'/'+i)\n",
    "    predictions[i] = p\n",
    "    "
   ]
  },
  {
   "cell_type": "code",
   "execution_count": 5,
   "id": "d0c219d9",
   "metadata": {},
   "outputs": [],
   "source": [
    "with open('./predictions_age_99p.pkl', 'wb') as f:\n",
    "    pickle.dump(predictions, f)\n"
   ]
  },
  {
   "cell_type": "code",
   "execution_count": null,
   "id": "47942e95",
   "metadata": {},
   "outputs": [],
   "source": []
  },
  {
   "cell_type": "code",
   "execution_count": null,
   "id": "027b33c5",
   "metadata": {},
   "outputs": [],
   "source": []
  }
 ],
 "metadata": {
  "kernelspec": {
   "display_name": "conda_tensorflow2_p310",
   "language": "python",
   "name": "conda_tensorflow2_p310"
  },
  "language_info": {
   "codemirror_mode": {
    "name": "ipython",
    "version": 3
   },
   "file_extension": ".py",
   "mimetype": "text/x-python",
   "name": "python",
   "nbconvert_exporter": "python",
   "pygments_lexer": "ipython3",
   "version": "3.10.14"
  }
 },
 "nbformat": 4,
 "nbformat_minor": 5
}
