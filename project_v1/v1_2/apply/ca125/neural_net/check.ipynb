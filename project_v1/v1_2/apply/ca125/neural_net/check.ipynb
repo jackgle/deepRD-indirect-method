{
 "cells": [
  {
   "cell_type": "code",
   "execution_count": 1,
   "id": "8dad153b",
   "metadata": {},
   "outputs": [],
   "source": [
    "import os\n",
    "os.environ['TF_CPP_MIN_LOG_LEVEL'] = '3' \n",
    "import pickle\n",
    "import pandas as pd\n",
    "import numpy as np\n",
    "import tensorflow as tf\n",
    "import matplotlib.pyplot as plt\n",
    "\n",
    "data_path = '../data/age_binned/'\n",
    "model_path = '../../../modeling/v5/model/'\n"
   ]
  },
  {
   "cell_type": "code",
   "execution_count": 2,
   "id": "b5eb9bc6",
   "metadata": {},
   "outputs": [],
   "source": [
    "# load model\n",
    "model = tf.keras.models.load_model(model_path+'/model_checkpoint')\n",
    "scalery = pickle.load(open(model_path+'/model_y_scaler.pkl', 'rb'))\n",
    "\n",
    "def extract_features(data):\n",
    "\n",
    "    features = np.histogram(data, np.linspace(-4, 4, 101), density=True)[0]\n",
    "    features = (features - features.min())/(features.max() - features.min())\n",
    "    \n",
    "    return features.reshape(-1, 1)\n"
   ]
  },
  {
   "cell_type": "code",
   "execution_count": 17,
   "id": "01b75061",
   "metadata": {},
   "outputs": [],
   "source": [
    "def predict_df(path, nbootstrap=1):\n",
    "\n",
    "    df = pd.read_csv(path)\n",
    "    \n",
    "    ps = []\n",
    "    for i in range(nbootstrap):\n",
    "    \n",
    "        if i==0:\n",
    "            data = df.value.values\n",
    "        else:\n",
    "            data = np.random.choice(df.value.values, len(df.value.values), replace=True)\n",
    "\n",
    "        # standardize\n",
    "        mean = data.mean()\n",
    "        std = data.std()\n",
    "        data = (data - mean)/std\n",
    "\n",
    "        # feature extraction\n",
    "        features = extract_features(data)\n",
    "\n",
    "        # predict\n",
    "        p = model.predict(features[np.newaxis,...], verbose=0)\n",
    "        p = scalery.inverse_transform(p)[0]\n",
    "#         p = p[[1, -3]] # retrieve the elements corresponding to 0.025 and 0.975 quantiles\n",
    "        # convert back to original scale\n",
    "        p[:-1] *= std\n",
    "        p[:-1] += mean\n",
    "        ps.append(p)\n",
    "    \n",
    "    ps = np.array(ps)\n",
    "    \n",
    "    return ps[0]\n",
    "    "
   ]
  },
  {
   "cell_type": "code",
   "execution_count": 36,
   "id": "4f514a4f",
   "metadata": {},
   "outputs": [],
   "source": [
    "from scipy.interpolate import interp1d\n",
    "\n",
    "def plot_pdf_from_quantiles(values, weight, num_points=1000):\n",
    "    \"\"\"\n",
    "    Plots the PDF of a distribution from given quantiles and corresponding values.\n",
    "    \n",
    "    Parameters:\n",
    "    - quantiles: array-like, quantile values (e.g., [0.05, 0.25, 0.50, 0.75, 0.95])\n",
    "    - values: array-like, corresponding values for the quantiles (e.g., [-1.64, -0.67, 0.0, 0.67, 1.64])\n",
    "    - num_points: int, number of points to use for plotting (default: 1000)\n",
    "    \"\"\"\n",
    "    \n",
    "    quantiles = [0.01, 0.025, 0.05, 0.10, 0.20, 0.30, 0.40, 0.50, 0.60, 0.70, 0.80, 0.90, 0.95, 0.975, 0.99]\n",
    "\n",
    "    # Ensure input is numpy array\n",
    "    quantiles = np.array(quantiles)\n",
    "    values = np.array(values)\n",
    "    \n",
    "    # Create an interpolation of the CDF\n",
    "    cdf = interp1d(values, quantiles, kind='cubic', fill_value=\"extrapolate\")\n",
    "    \n",
    "    # Generate a range of values for plotting\n",
    "    x = np.linspace(min(values), max(values), num_points)\n",
    "    y_cdf = cdf(x)\n",
    "        \n",
    "    # Estimate the PDF by differentiating the CDF\n",
    "    pdf = np.gradient(y_cdf, x)\n",
    "    \n",
    "    # Plot the PDF\n",
    "    plt.plot(x, pdf*weight, label='Estimated PDF')\n"
   ]
  },
  {
   "cell_type": "code",
   "execution_count": 37,
   "id": "47942e95",
   "metadata": {},
   "outputs": [],
   "source": [
    "path = '../data/age_binned/data_85.csv'\n",
    "data = pd.read_csv(path).value\n",
    "result = predict_df(path)\n"
   ]
  },
  {
   "cell_type": "code",
   "execution_count": 39,
   "id": "027b33c5",
   "metadata": {},
   "outputs": [
    {
     "data": {
      "text/plain": [
       "<matplotlib.lines.Line2D at 0x7f4638357850>"
      ]
     },
     "execution_count": 39,
     "metadata": {},
     "output_type": "execute_result"
    },
    {
     "data": {
      "image/png": "[encoded data removed]",
      "text/plain": [
       "<Figure size 640x480 with 1 Axes>"
      ]
     },
     "metadata": {},
     "output_type": "display_data"
    }
   ],
   "source": [
    "plt.hist(data, 50, edgecolor='k', density=True, alpha=0.5);\n",
    "plot_pdf_from_quantiles(result[:-1], result[-1])\n",
    "plt.axvline(result[-4], c='k', linestyle=':')\n"
   ]
  },
  {
   "cell_type": "code",
   "execution_count": null,
   "id": "39f98e9d",
   "metadata": {},
   "outputs": [],
   "source": []
  }
 ],
 "metadata": {
  "kernelspec": {
   "display_name": "conda_tensorflow2_p310",
   "language": "python",
   "name": "conda_tensorflow2_p310"
  },
  "language_info": {
   "codemirror_mode": {
    "name": "ipython",
    "version": 3
   },
   "file_extension": ".py",
   "mimetype": "text/x-python",
   "name": "python",
   "nbconvert_exporter": "python",
   "pygments_lexer": "ipython3",
   "version": "3.10.14"
  }
 },
 "nbformat": 4,
 "nbformat_minor": 5
}
