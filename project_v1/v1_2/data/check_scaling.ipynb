{
 "cells": [
  {
   "cell_type": "code",
   "execution_count": null,
   "id": "40446339",
   "metadata": {},
   "outputs": [],
   "source": [
    "# for this project, the simulated data is not scaled until the training script:\n"
   ]
  },
  {
   "cell_type": "code",
   "execution_count": 9,
   "id": "a2276783",
   "metadata": {},
   "outputs": [],
   "source": [
    "import pickle\n",
    "import matplotlib.pyplot as plt\n",
    "import numpy as np\n"
   ]
  },
  {
   "cell_type": "code",
   "execution_count": 2,
   "id": "5dbe581f",
   "metadata": {},
   "outputs": [],
   "source": [
    "data = pickle.load(open('./data_v2/x_train.pkl', 'rb'))\n"
   ]
  },
  {
   "cell_type": "code",
   "execution_count": 3,
   "id": "e982a2e2",
   "metadata": {},
   "outputs": [
    {
     "data": {
      "text/plain": [
       "9000"
      ]
     },
     "execution_count": 3,
     "metadata": {},
     "output_type": "execute_result"
    }
   ],
   "source": [
    "len(data)\n"
   ]
  },
  {
   "cell_type": "code",
   "execution_count": 22,
   "id": "6b09a3b6",
   "metadata": {},
   "outputs": [
    {
     "name": "stdout",
     "output_type": "stream",
     "text": [
      "-0.31689168916891686\n",
      "1.8075952089485852\n"
     ]
    }
   ],
   "source": [
    "idx = np.random.choice(len(data))\n",
    "print(np.array(data[idx]).mean())\n",
    "print(np.array(data[idx]).std())\n"
   ]
  },
  {
   "cell_type": "code",
   "execution_count": null,
   "id": "731b6651",
   "metadata": {},
   "outputs": [],
   "source": []
  }
 ],
 "metadata": {
  "kernelspec": {
   "display_name": "conda_tensorflow2_p310",
   "language": "python",
   "name": "conda_tensorflow2_p310"
  },
  "language_info": {
   "codemirror_mode": {
    "name": "ipython",
    "version": 3
   },
   "file_extension": ".py",
   "mimetype": "text/x-python",
   "name": "python",
   "nbconvert_exporter": "python",
   "pygments_lexer": "ipython3",
   "version": "3.10.14"
  }
 },
 "nbformat": 4,
 "nbformat_minor": 5
}
