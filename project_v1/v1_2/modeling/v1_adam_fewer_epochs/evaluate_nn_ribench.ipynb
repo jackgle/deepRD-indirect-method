{
 "cells": [
  {
   "cell_type": "code",
   "execution_count": 23,
   "id": "4982f835",
   "metadata": {},
   "outputs": [],
   "source": [
    "import os\n",
    "os.environ['TF_CPP_MIN_LOG_LEVEL'] = '3' \n",
    "import pickle\n",
    "import pandas as pd\n",
    "import numpy as np\n",
    "import tensorflow as tf\n",
    "import scipy.stats\n",
    "from scipy.stats import iqr\n",
    "import matplotlib.pyplot as plt\n",
    "\n",
    "data_path = '../../evaluation/ribench/ribench_sample/'\n",
    "model_path = './model/'\n",
    "\n",
    "def norm_err(y_test, p_test):\n",
    "    \"\"\"\n",
    "    Calculates the normalized error between a true and predicted reference interval as proposed in CA-125 paper submitted to Sci. Reports\n",
    "    \n",
    "    Arguments:\n",
    "        y_test:   true RI\n",
    "        p_test:   predicted RI\n",
    "        \n",
    "    Returns:\n",
    "        normalized error\n",
    "    \"\"\"\n",
    "    return np.mean([np.abs(i-j) for i,j in zip([-1, 1], (p_test-y_test.mean())/y_test.std())])\n"
   ]
  },
  {
   "cell_type": "code",
   "execution_count": 24,
   "id": "689bb857",
   "metadata": {},
   "outputs": [],
   "source": [
    "def extract_features(data):\n",
    "\n",
    "    features = np.histogram(data, np.linspace(-4, 4, 101), density=True)[0]\n",
    "    features = (features - features.min())/(features.max() - features.min())\n",
    "    \n",
    "    return features.reshape(-1, 1)\n"
   ]
  },
  {
   "cell_type": "code",
   "execution_count": 25,
   "id": "83ca7758",
   "metadata": {},
   "outputs": [],
   "source": [
    "# load data\n",
    "test_x = pickle.load(open(data_path+'x.pkl', 'rb'))\n",
    "test_y = pickle.load(open(data_path+'y.pkl', 'rb'))\n",
    "test_files = pickle.load(open(data_path+'files.pkl', 'rb'))\n",
    "test_analytes = np.array([i.split('/')[-2] for i in test_files])\n",
    "idx_remove = np.where(test_analytes!='CRP')[0]\n",
    "test_x = [test_x[i] for i in idx_remove]\n",
    "test_y = [test_y[i] for i in idx_remove]\n",
    "test_files = [test_files[i] for i in idx_remove]\n",
    "test_analytes = np.array([test_analytes[i] for i in idx_remove])\n",
    "idx_remove = np.where(test_analytes!='LDH')[0]\n",
    "test_x = [test_x[i] for i in idx_remove]\n",
    "test_y = [test_y[i] for i in idx_remove]\n",
    "test_files = [test_files[i] for i in idx_remove]\n",
    "test_analytes = [test_analytes[i] for i in idx_remove]\n"
   ]
  },
  {
   "cell_type": "code",
   "execution_count": 26,
   "id": "6fcfbce3",
   "metadata": {},
   "outputs": [],
   "source": [
    "# scale data\n",
    "\n",
    "data_means = [i.mean() for i in test_x]\n",
    "data_std = [i.std() for i in test_x]\n",
    "data_scaled = [(i-i.mean())/i.std() for i in test_x]\n"
   ]
  },
  {
   "cell_type": "code",
   "execution_count": 27,
   "id": "d6b952fa",
   "metadata": {},
   "outputs": [],
   "source": [
    "# load model\n",
    "model = tf.keras.models.load_model(model_path+'/model_checkpoint')\n",
    "scalery = pickle.load(open(model_path+'/model_y_scaler.pkl', 'rb'))\n"
   ]
  },
  {
   "cell_type": "code",
   "execution_count": 28,
   "id": "9f71da58",
   "metadata": {},
   "outputs": [
    {
     "data": {
      "text/plain": [
       "(791, 100, 1)"
      ]
     },
     "execution_count": 28,
     "metadata": {},
     "output_type": "execute_result"
    }
   ],
   "source": [
    "# extract features\n",
    "features = np.array([extract_features(i) for i in data_scaled])\n",
    "features.shape\n"
   ]
  },
  {
   "cell_type": "code",
   "execution_count": 29,
   "id": "c10fc8b9",
   "metadata": {},
   "outputs": [
    {
     "name": "stdout",
     "output_type": "stream",
     "text": [
      "25/25 [==============================] - 0s 6ms/step\n"
     ]
    }
   ],
   "source": [
    "# predict\n",
    "test_p = model.predict(features)\n",
    "test_p = scalery.inverse_transform(test_p)\n",
    "\n",
    "# for i in range(len(test_y)):\n",
    "#     if test_files[i].split('/')[-2]=='CRP':\n",
    "#         test_y[i][0] = 0\n",
    "#         test_p[i][0] = -data_means[i]/data_std[i]\n",
    "        "
   ]
  },
  {
   "cell_type": "code",
   "execution_count": 30,
   "id": "65fd3fd1",
   "metadata": {},
   "outputs": [
    {
     "data": {
      "text/plain": [
       "0"
      ]
     },
     "execution_count": 30,
     "metadata": {},
     "output_type": "execute_result"
    }
   ],
   "source": [
    "len(np.where(np.isnan(test_p))[0])\n"
   ]
  },
  {
   "cell_type": "code",
   "execution_count": 31,
   "id": "67dd1fe4",
   "metadata": {},
   "outputs": [],
   "source": [
    "# test_p = [(i*j)+k for i,j,k in zip(test_p, data_std, data_means)]\n"
   ]
  },
  {
   "cell_type": "code",
   "execution_count": 32,
   "id": "a8267c13",
   "metadata": {},
   "outputs": [],
   "source": [
    "test_y_scaled = [(i-j)/k for i,j,k in zip(test_y, data_means, data_std)]\n"
   ]
  },
  {
   "cell_type": "code",
   "execution_count": 33,
   "id": "2bc7fd99",
   "metadata": {},
   "outputs": [],
   "source": [
    "test_p_ris = [i[[1, -3]] for i in test_p]\n"
   ]
  },
  {
   "cell_type": "code",
   "execution_count": 34,
   "id": "c95bec32",
   "metadata": {},
   "outputs": [],
   "source": [
    "errors = [norm_err(i, j) for i,j in zip(test_y_scaled, test_p_ris)]\n",
    "errors = np.array(errors)\n"
   ]
  },
  {
   "cell_type": "code",
   "execution_count": 35,
   "id": "662f6f4e",
   "metadata": {},
   "outputs": [
    {
     "data": {
      "text/plain": [
       "0.1335759105233831"
      ]
     },
     "execution_count": 35,
     "metadata": {},
     "output_type": "execute_result"
    }
   ],
   "source": [
    "np.mean(errors)\n"
   ]
  },
  {
   "cell_type": "code",
   "execution_count": 36,
   "id": "b8bcf2b0",
   "metadata": {},
   "outputs": [
    {
     "data": {
      "text/plain": [
       "0.0864541232585907"
      ]
     },
     "execution_count": 36,
     "metadata": {},
     "output_type": "execute_result"
    }
   ],
   "source": [
    "np.median(errors)\n"
   ]
  },
  {
   "cell_type": "code",
   "execution_count": 37,
   "id": "6ef4482d",
   "metadata": {},
   "outputs": [
    {
     "data": {
      "text/plain": [
       "0.8482932996207333"
      ]
     },
     "execution_count": 37,
     "metadata": {},
     "output_type": "execute_result"
    }
   ],
   "source": [
    "error_threshold = 0.2\n",
    "len(np.where(errors<=error_threshold)[0])/len(errors)\n"
   ]
  },
  {
   "cell_type": "code",
   "execution_count": 38,
   "id": "dbe5b2d4",
   "metadata": {},
   "outputs": [
    {
     "data": {
      "text/plain": [
       "0.5853350189633375"
      ]
     },
     "execution_count": 38,
     "metadata": {},
     "output_type": "execute_result"
    }
   ],
   "source": [
    "error_threshold = 0.1\n",
    "len(np.where(errors<=error_threshold)[0])/len(errors)\n"
   ]
  },
  {
   "cell_type": "code",
   "execution_count": 39,
   "id": "f23abc1d",
   "metadata": {},
   "outputs": [],
   "source": [
    "# plt.hist(errors, 100, alpha=0.5, edgecolor='k');\n"
   ]
  },
  {
   "cell_type": "code",
   "execution_count": 40,
   "id": "1b550a06",
   "metadata": {},
   "outputs": [],
   "source": [
    "test_analytes = np.array([i.split('/')[-2] for i in test_files])\n"
   ]
  },
  {
   "cell_type": "code",
   "execution_count": 41,
   "id": "6a2aea29",
   "metadata": {},
   "outputs": [
    {
     "data": {
      "text/html": [
       "<div>\n",
       "<style scoped>\n",
       "    .dataframe tbody tr th:only-of-type {\n",
       "        vertical-align: middle;\n",
       "    }\n",
       "\n",
       "    .dataframe tbody tr th {\n",
       "        vertical-align: top;\n",
       "    }\n",
       "\n",
       "    .dataframe thead th {\n",
       "        text-align: right;\n",
       "    }\n",
       "</style>\n",
       "<table border=\"1\" class=\"dataframe\">\n",
       "  <thead>\n",
       "    <tr style=\"text-align: right;\">\n",
       "      <th></th>\n",
       "      <th>Mean Err</th>\n",
       "      <th>Median Err</th>\n",
       "      <th>Accuracy</th>\n",
       "    </tr>\n",
       "  </thead>\n",
       "  <tbody>\n",
       "    <tr>\n",
       "      <th>Hb</th>\n",
       "      <td>0.154878</td>\n",
       "      <td>0.081003</td>\n",
       "      <td>0.857143</td>\n",
       "    </tr>\n",
       "    <tr>\n",
       "      <th>Ca</th>\n",
       "      <td>0.243890</td>\n",
       "      <td>0.080995</td>\n",
       "      <td>0.730337</td>\n",
       "    </tr>\n",
       "    <tr>\n",
       "      <th>FT4</th>\n",
       "      <td>0.096216</td>\n",
       "      <td>0.068316</td>\n",
       "      <td>0.921348</td>\n",
       "    </tr>\n",
       "    <tr>\n",
       "      <th>AST</th>\n",
       "      <td>0.111010</td>\n",
       "      <td>0.088528</td>\n",
       "      <td>0.912621</td>\n",
       "    </tr>\n",
       "    <tr>\n",
       "      <th>LACT</th>\n",
       "      <td>0.102125</td>\n",
       "      <td>0.075753</td>\n",
       "      <td>0.900000</td>\n",
       "    </tr>\n",
       "    <tr>\n",
       "      <th>GGT</th>\n",
       "      <td>0.120182</td>\n",
       "      <td>0.100548</td>\n",
       "      <td>0.891304</td>\n",
       "    </tr>\n",
       "    <tr>\n",
       "      <th>TSH</th>\n",
       "      <td>0.139687</td>\n",
       "      <td>0.111834</td>\n",
       "      <td>0.752381</td>\n",
       "    </tr>\n",
       "    <tr>\n",
       "      <th>IgE</th>\n",
       "      <td>0.105667</td>\n",
       "      <td>0.087030</td>\n",
       "      <td>0.821782</td>\n",
       "    </tr>\n",
       "  </tbody>\n",
       "</table>\n",
       "</div>"
      ],
      "text/plain": [
       "      Mean Err  Median Err  Accuracy\n",
       "Hb    0.154878    0.081003  0.857143\n",
       "Ca    0.243890    0.080995  0.730337\n",
       "FT4   0.096216    0.068316  0.921348\n",
       "AST   0.111010    0.088528  0.912621\n",
       "LACT  0.102125    0.075753  0.900000\n",
       "GGT   0.120182    0.100548  0.891304\n",
       "TSH   0.139687    0.111834  0.752381\n",
       "IgE   0.105667    0.087030  0.821782"
      ]
     },
     "execution_count": 41,
     "metadata": {},
     "output_type": "execute_result"
    }
   ],
   "source": [
    "analyte_order = ['Hb','Ca','FT4','AST','LACT','GGT','TSH','IgE']\n",
    "df = pd.DataFrame({\n",
    "    'Mean Err': [np.mean(errors[np.where(test_analytes==i)[0]]) for i in analyte_order],\n",
    "    'Median Err': [np.median(errors[np.where(test_analytes==i)[0]]) for i in analyte_order],\n",
    "    'Accuracy': [len(np.where(errors[np.where(test_analytes==i)[0]]<=0.2)[0])/len(np.where(test_analytes==i)[0]) for i in analyte_order]\n",
    "}, index=analyte_order)\n",
    "\n",
    "df\n"
   ]
  },
  {
   "cell_type": "code",
   "execution_count": 42,
   "id": "cdca98ee",
   "metadata": {},
   "outputs": [],
   "source": [
    "import numpy as np\n",
    "import matplotlib.pyplot as plt\n",
    "from scipy.interpolate import interp1d\n",
    "\n",
    "def plot_pdf_from_quantiles(values, weight, num_points=1000):\n",
    "    \"\"\"\n",
    "    Plots the PDF of a distribution from given quantiles and corresponding values.\n",
    "    \n",
    "    Parameters:\n",
    "    - quantiles: array-like, quantile values (e.g., [0.05, 0.25, 0.50, 0.75, 0.95])\n",
    "    - values: array-like, corresponding values for the quantiles (e.g., [-1.64, -0.67, 0.0, 0.67, 1.64])\n",
    "    - num_points: int, number of points to use for plotting (default: 1000)\n",
    "    \"\"\"\n",
    "    \n",
    "    quantiles = [0.01, 0.025, 0.05, 0.10, 0.20, 0.30, 0.40, 0.50, 0.60, 0.70, 0.80, 0.90, 0.95, 0.975, 0.99]\n",
    "\n",
    "    # Ensure input is numpy array\n",
    "    quantiles = np.array(quantiles)\n",
    "    values = np.array(values)\n",
    "    \n",
    "    # Create an interpolation of the CDF\n",
    "    cdf = interp1d(values, quantiles, kind='cubic', fill_value=\"extrapolate\")\n",
    "    \n",
    "    # Generate a range of values for plotting\n",
    "    x = np.linspace(min(values), max(values), num_points)\n",
    "    y_cdf = cdf(x)\n",
    "        \n",
    "    # Estimate the PDF by differentiating the CDF\n",
    "    pdf = np.gradient(y_cdf, x)\n",
    "    \n",
    "    # Plot the PDF\n",
    "    plt.plot(x, pdf*weight, label='Estimated PDF')\n"
   ]
  },
  {
   "cell_type": "code",
   "execution_count": 43,
   "id": "569e3175",
   "metadata": {},
   "outputs": [],
   "source": [
    "test_analytes = np.array(test_analytes)\n"
   ]
  },
  {
   "cell_type": "code",
   "execution_count": 44,
   "id": "40fde8d2",
   "metadata": {},
   "outputs": [
    {
     "data": {
      "image/png": "[encoded data removed]",
      "text/plain": [
       "<Figure size 800x800 with 16 Axes>"
      ]
     },
     "metadata": {},
     "output_type": "display_data"
    },
    {
     "data": {
      "image/png": "[encoded data removed]",
      "text/plain": [
       "<Figure size 640x480 with 1 Axes>"
      ]
     },
     "metadata": {},
     "output_type": "display_data"
    }
   ],
   "source": [
    "nr = 4\n",
    "nc = 4\n",
    "# idx = np.random.choice(len(test_x), nr*nc)\n",
    "check_analyte = 'IgE'\n",
    "idx = np.where(test_analytes==check_analyte)[0]\n",
    "idx = np.random.choice(idx, nr*nc)\n",
    "# idx = np.random.choice(idx[np.where(errors[idx]>0.20)[0]], nr*nc)\n",
    "plt.figure(figsize=(8, 8))\n",
    "for c,i in enumerate(idx):\n",
    "    plt.subplot(nr, nc, c+1)\n",
    "    plt.hist(data_scaled[i], np.linspace(-4, 4, 101), density=True);\n",
    "    for j in test_p_ris[i]:\n",
    "        plt.axvline(j, c='b')\n",
    "    for j in test_y_scaled[i]:\n",
    "        plt.axvline(j, c='k', linestyle=':')\n",
    "    plt.yticks([])\n",
    "    plt.title(round(errors[i], 2))\n",
    "    plot_pdf_from_quantiles(test_p[i][:-1], test_p[i][-1])\n",
    "plt.tight_layout()\n",
    "plt.figure()\n",
    "plt.hist(errors[np.where(test_analytes==check_analyte)[0]], np.linspace(0, 2, 100), edgecolor='k', alpha=0.5);\n",
    "plt.yticks([])\n",
    "plt.title('Errors');\n"
   ]
  },
  {
   "cell_type": "code",
   "execution_count": null,
   "id": "a2c66007",
   "metadata": {},
   "outputs": [],
   "source": []
  }
 ],
 "metadata": {
  "kernelspec": {
   "display_name": "conda_tensorflow2_p310",
   "language": "python",
   "name": "conda_tensorflow2_p310"
  },
  "language_info": {
   "codemirror_mode": {
    "name": "ipython",
    "version": 3
   },
   "file_extension": ".py",
   "mimetype": "text/x-python",
   "name": "python",
   "nbconvert_exporter": "python",
   "pygments_lexer": "ipython3",
   "version": "3.10.14"
  }
 },
 "nbformat": 4,
 "nbformat_minor": 5
}
