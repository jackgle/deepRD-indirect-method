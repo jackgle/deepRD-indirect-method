{
 "cells": [
  {
   "cell_type": "code",
   "execution_count": 1,
   "metadata": {},
   "outputs": [],
   "source": [
    "import os\n",
    "os.sys.path.append('../neural_net/lib/')\n",
    "import sys\n",
    "import numpy as np\n",
    "import pandas as pd\n",
    "import matplotlib.pyplot as plt\n",
    "import sklearn.metrics\n",
    "import evaluate\n",
    "\n",
    "test_set_meta = pd.read_csv('../data/RIbench/BMTestSets_meta.csv', index_col=0)\n",
    "\n",
    "def get_y(file):\n",
    "    fileid = int(file.split('/')[-1].split('_')[0])\n",
    "    target = (\n",
    "        test_set_meta[test_set_meta.Index==fileid].GT_LRL.values[0],\n",
    "        test_set_meta[test_set_meta.Index==fileid].GT_URL.values[0],\n",
    "        test_set_meta[test_set_meta.Index==fileid].nonp_mu.values[0],\n",
    "        test_set_meta[test_set_meta.Index==fileid].nonp_sigma.values[0],\n",
    "        test_set_meta[test_set_meta.Index==fileid].nonp_lambda.values[0],\n",
    "        test_set_meta[test_set_meta.Index==fileid].nonp_shift.values[0]        \n",
    "    )\n",
    "    return np.array(target)\n",
    "\n",
    "dr = './refineR_predictions/'\n",
    "\n",
    "def get_files_in_folder(folder_path):\n",
    "    file_list = []\n",
    "    for root, dirs, files in os.walk(folder_path):\n",
    "        for file_name in files:\n",
    "            file_path = os.path.join(root, file_name)\n",
    "            file_list.append(file_path)\n",
    "    return file_list\n",
    "files_test = get_files_in_folder(dr)\n"
   ]
  },
  {
   "cell_type": "code",
   "execution_count": 2,
   "metadata": {},
   "outputs": [],
   "source": [
    "# parse the refineR output CSV files and the RIbench metadata file\n",
    "# for predictions and ground truth values\n",
    "\n",
    "p_test = []\n",
    "y_test = []\n",
    "for i in files_test:\n",
    "    try:\n",
    "        p_test.append(pd.read_csv(dr+('/').join(i.split('/')[-2:]))['PointEst'].values)\n",
    "        y = get_y(i)\n",
    "    except:\n",
    "        p_test.append([np.nan, np.nan])\n",
    "        y = np.ones(6)*np.nan\n",
    "    if 'CRP' in i:\n",
    "        y[0]=0\n",
    "    y_test.append(y)\n",
    "p_test = np.vstack(p_test)\n",
    "y_test = np.vstack(y_test)\n"
   ]
  },
  {
   "cell_type": "code",
   "execution_count": 3,
   "metadata": {},
   "outputs": [
    {
     "data": {
      "image/png": "[encoded data removed]",
      "text/plain": [
       "<Figure size 1000x200 with 5 Axes>"
      ]
     },
     "metadata": {},
     "output_type": "display_data"
    },
    {
     "data": {
      "image/png": "[encoded data removed]",
      "text/plain": [
       "<Figure size 1000x200 with 5 Axes>"
      ]
     },
     "metadata": {},
     "output_type": "display_data"
    }
   ],
   "source": [
    "# this is for generating plots that demonstrates how the z-score deviation can be more misleading than\n",
    "# the proposed norm. error for highly skewed distributions\n",
    "\n",
    "def plot_examples(p_test, y_test, files_test, analyte='CRP'):\n",
    "    \n",
    "    ans_test = np.array([i.split('/')[-2] for i in files_test])\n",
    "\n",
    "    nr = 5\n",
    "    plt.figure(figsize=(10,2), dpi=100)\n",
    "    sample = np.where(ans_test==analyte)[0]\n",
    "    sample = np.random.choice(sample, len(sample), replace=0)\n",
    "    for c,i in enumerate(sample[:nr]):\n",
    "        plt.subplot(1, nr, c+1)\n",
    "        data = pd.read_csv(files_test[i].replace('./refineR_predictions/',\n",
    "                                                 '../data/RIbench/Data/'), \n",
    "                           header=None).values\n",
    "        data = data[(data>=np.quantile(data,0.01)) & (data<=np.quantile(data,0.99))]\n",
    "        y = y_test[i]\n",
    "        p = p_test[i] \n",
    "\n",
    "        if analyte=='CRP':\n",
    "            xt = evaluate.zscore_transform(p[1], y[2], y[3], y[4], y[5])\n",
    "            yt = evaluate.zscore_transform(y[1], y[2], y[3], y[4], y[5])\n",
    "            zs = np.abs(xt-yt)\n",
    "            normy, nrmp = evaluate.normp(y, p)\n",
    "            normerr = np.abs(normy[1]-nrmp[1])\n",
    "        else:\n",
    "            zs = evaluate.zscore_deviation(y, p)\n",
    "            normy, nrmp = evaluate.normp(y, p)\n",
    "            normerr = np.mean(np.abs(normy-nrmp))\n",
    "\n",
    "        plt.hist(data, 50, density=True);\n",
    "        if not analyte=='CRP':\n",
    "            plt.axvline(y[0], c='r')\n",
    "            plt.axvline(p[0], c='g')\n",
    "        plt.axvline(y[1], c='r', label='True')\n",
    "        plt.axvline(p[1], c='g', label='Predicted')\n",
    "        if c==0:\n",
    "            plt.legend(bbox_to_anchor=(-0.1,1))\n",
    "        plt.gca().set_yticks([])\n",
    "        plt.title(str(round(normerr,2))+' ('+str(round(zs,2))+')')\n",
    "\n",
    "    plt.gcf().patch.set_facecolor('white')\n",
    "    plt.gcf().tight_layout()\n",
    "    \n",
    "plot_examples(p_test, y_test, files_test, analyte='CRP')\n",
    "plot_examples(p_test, y_test, files_test, analyte='Ca')\n"
   ]
  },
  {
   "cell_type": "code",
   "execution_count": 4,
   "metadata": {},
   "outputs": [
    {
     "name": "stdout",
     "output_type": "stream",
     "text": [
      "LDH  -  0.045  z-score dev. nan's\n"
     ]
    },
    {
     "data": {
      "text/html": [
       "<div>\n",
       "<style scoped>\n",
       "    .dataframe tbody tr th:only-of-type {\n",
       "        vertical-align: middle;\n",
       "    }\n",
       "\n",
       "    .dataframe tbody tr th {\n",
       "        vertical-align: top;\n",
       "    }\n",
       "\n",
       "    .dataframe thead th {\n",
       "        text-align: right;\n",
       "    }\n",
       "</style>\n",
       "<table border=\"1\" class=\"dataframe\">\n",
       "  <thead>\n",
       "    <tr style=\"text-align: right;\">\n",
       "      <th></th>\n",
       "      <th>analyte</th>\n",
       "      <th>zscore_dev</th>\n",
       "      <th>norm_errors</th>\n",
       "    </tr>\n",
       "  </thead>\n",
       "  <tbody>\n",
       "    <tr>\n",
       "      <th>0</th>\n",
       "      <td>Hb</td>\n",
       "      <td>0.195802</td>\n",
       "      <td>0.099901</td>\n",
       "    </tr>\n",
       "    <tr>\n",
       "      <th>1</th>\n",
       "      <td>Ca</td>\n",
       "      <td>0.129852</td>\n",
       "      <td>0.066336</td>\n",
       "    </tr>\n",
       "    <tr>\n",
       "      <th>2</th>\n",
       "      <td>FT4</td>\n",
       "      <td>0.332486</td>\n",
       "      <td>0.149393</td>\n",
       "    </tr>\n",
       "    <tr>\n",
       "      <th>3</th>\n",
       "      <td>AST</td>\n",
       "      <td>0.169273</td>\n",
       "      <td>0.073552</td>\n",
       "    </tr>\n",
       "    <tr>\n",
       "      <th>4</th>\n",
       "      <td>LACT</td>\n",
       "      <td>0.335133</td>\n",
       "      <td>0.112392</td>\n",
       "    </tr>\n",
       "    <tr>\n",
       "      <th>5</th>\n",
       "      <td>GGT</td>\n",
       "      <td>0.400991</td>\n",
       "      <td>0.178434</td>\n",
       "    </tr>\n",
       "    <tr>\n",
       "      <th>6</th>\n",
       "      <td>TSH</td>\n",
       "      <td>0.245299</td>\n",
       "      <td>0.077877</td>\n",
       "    </tr>\n",
       "    <tr>\n",
       "      <th>7</th>\n",
       "      <td>IgE</td>\n",
       "      <td>0.223082</td>\n",
       "      <td>0.196535</td>\n",
       "    </tr>\n",
       "    <tr>\n",
       "      <th>8</th>\n",
       "      <td>CRP</td>\n",
       "      <td>0.289680</td>\n",
       "      <td>1.313918</td>\n",
       "    </tr>\n",
       "    <tr>\n",
       "      <th>9</th>\n",
       "      <td>LDH</td>\n",
       "      <td>0.583723</td>\n",
       "      <td>0.292876</td>\n",
       "    </tr>\n",
       "  </tbody>\n",
       "</table>\n",
       "</div>"
      ],
      "text/plain": [
       "  analyte  zscore_dev  norm_errors\n",
       "0      Hb    0.195802     0.099901\n",
       "1      Ca    0.129852     0.066336\n",
       "2     FT4    0.332486     0.149393\n",
       "3     AST    0.169273     0.073552\n",
       "4    LACT    0.335133     0.112392\n",
       "5     GGT    0.400991     0.178434\n",
       "6     TSH    0.245299     0.077877\n",
       "7     IgE    0.223082     0.196535\n",
       "8     CRP    0.289680     1.313918\n",
       "9     LDH    0.583723     0.292876"
      ]
     },
     "execution_count": 4,
     "metadata": {},
     "output_type": "execute_result"
    }
   ],
   "source": [
    "groups = ['Hb', 'Ca', 'FT4', 'AST', 'LACT', 'GGT', 'TSH', 'IgE', 'CRP', 'LDH']\n",
    "\n",
    "zscore_devs, norm_errors = evaluate.compute_scores(groups, p_test, y_test, files_test)\n",
    "\n",
    "df = pd.DataFrame({'analyte': groups,\n",
    "                   'zscore_dev': zscore_devs,\n",
    "                   'norm_errors': norm_errors})\n",
    "df\n"
   ]
  },
  {
   "cell_type": "code",
   "execution_count": 5,
   "metadata": {},
   "outputs": [
    {
     "name": "stdout",
     "output_type": "stream",
     "text": [
      "Average z-score deviation:\t 0.2905322534350736\n",
      "Average norm. error:\t\t 0.25612144405071186\n",
      "Average norm. error: (w/o CRP)\t\t 0.13858847673081204\n",
      "Average norm. error: (w/o CRP or LDH)\t\t 0.11930257166502564\n"
     ]
    }
   ],
   "source": [
    "print('Average z-score deviation:\\t', df.zscore_dev.mean())\n",
    "print('Average norm. error:\\t\\t', df.norm_errors.mean())\n",
    "print('Average norm. error: (w/o CRP)\\t\\t', df[df.analyte!='CRP'].norm_errors.mean())\n",
    "print('Average norm. error: (w/o CRP or LDH)\\t\\t', df[(df.analyte!='CRP') & (df.analyte!='LDH')].norm_errors.mean())\n"
   ]
  },
  {
   "cell_type": "code",
   "execution_count": 6,
   "metadata": {},
   "outputs": [
    {
     "name": "stdout",
     "output_type": "stream",
     "text": [
      "['LDH']  -  0.045  z-score dev. nan's\n"
     ]
    },
    {
     "data": {
      "text/html": [
       "<div>\n",
       "<style scoped>\n",
       "    .dataframe tbody tr th:only-of-type {\n",
       "        vertical-align: middle;\n",
       "    }\n",
       "\n",
       "    .dataframe tbody tr th {\n",
       "        vertical-align: top;\n",
       "    }\n",
       "\n",
       "    .dataframe thead th {\n",
       "        text-align: right;\n",
       "    }\n",
       "</style>\n",
       "<table border=\"1\" class=\"dataframe\">\n",
       "  <thead>\n",
       "    <tr style=\"text-align: right;\">\n",
       "      <th></th>\n",
       "      <th>analyte</th>\n",
       "      <th>zscore_dev</th>\n",
       "      <th>norm_errors</th>\n",
       "    </tr>\n",
       "  </thead>\n",
       "  <tbody>\n",
       "    <tr>\n",
       "      <th>0</th>\n",
       "      <td>[Hb, Ca, FT4]</td>\n",
       "      <td>0.222261</td>\n",
       "      <td>0.106119</td>\n",
       "    </tr>\n",
       "    <tr>\n",
       "      <th>1</th>\n",
       "      <td>[AST, LACT, GGT]</td>\n",
       "      <td>0.302841</td>\n",
       "      <td>0.121176</td>\n",
       "    </tr>\n",
       "    <tr>\n",
       "      <th>2</th>\n",
       "      <td>[TSH, IgE]</td>\n",
       "      <td>0.234191</td>\n",
       "      <td>0.137206</td>\n",
       "    </tr>\n",
       "    <tr>\n",
       "      <th>3</th>\n",
       "      <td>[LDH]</td>\n",
       "      <td>0.583723</td>\n",
       "      <td>0.292876</td>\n",
       "    </tr>\n",
       "  </tbody>\n",
       "</table>\n",
       "</div>"
      ],
      "text/plain": [
       "            analyte  zscore_dev  norm_errors\n",
       "0     [Hb, Ca, FT4]    0.222261     0.106119\n",
       "1  [AST, LACT, GGT]    0.302841     0.121176\n",
       "2        [TSH, IgE]    0.234191     0.137206\n",
       "3             [LDH]    0.583723     0.292876"
      ]
     },
     "execution_count": 6,
     "metadata": {},
     "output_type": "execute_result"
    }
   ],
   "source": [
    "# error by skew group\n",
    "groups = [['Hb', 'Ca', 'FT4'], ['AST', 'LACT', 'GGT'], ['TSH', 'IgE'], ['LDH']]\n",
    "\n",
    "zscore_devs, norm_errors = evaluate.compute_scores(groups, p_test, y_test, files_test)\n",
    "\n",
    "df = pd.DataFrame({'analyte': groups,\n",
    "                   'zscore_dev': zscore_devs,\n",
    "                   'norm_errors': norm_errors})\n",
    "df\n"
   ]
  },
  {
   "cell_type": "code",
   "execution_count": null,
   "metadata": {},
   "outputs": [],
   "source": []
  }
 ],
 "metadata": {
  "kernelspec": {
   "display_name": "conda_tensorflow2_p310",
   "language": "python",
   "name": "conda_tensorflow2_p310"
  },
  "language_info": {
   "codemirror_mode": {
    "name": "ipython",
    "version": 3
   },
   "file_extension": ".py",
   "mimetype": "text/x-python",
   "name": "python",
   "nbconvert_exporter": "python",
   "pygments_lexer": "ipython3",
   "version": "3.10.14"
  }
 },
 "nbformat": 4,
 "nbformat_minor": 4
}
