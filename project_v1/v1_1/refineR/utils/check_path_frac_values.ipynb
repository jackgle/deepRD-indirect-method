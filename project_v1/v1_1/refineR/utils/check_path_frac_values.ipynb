{
 "cells": [
  {
   "cell_type": "code",
   "execution_count": 1,
   "metadata": {},
   "outputs": [],
   "source": [
    "import pandas as pd\n",
    "\n",
    "test_set_meta = pd.read_csv('../dataprep/data/RIbench/BMTestSets_meta.csv', index_col=0)\n"
   ]
  },
  {
   "cell_type": "code",
   "execution_count": 3,
   "metadata": {},
   "outputs": [
    {
     "data": {
      "text/plain": [
       "Index(['Index', 'Analyte', 'startSeed', 'Distribution', 'N', 'Scenario',\n",
       "       'fractionPathol', 'overlapPatholLeft', 'overlapPatholRight',\n",
       "       'nonp_lambda', 'nonp_mu', 'nonp_sigma', 'nonp_shift', 'bg_min',\n",
       "       'bg_max', 'bg_fraction', 'left_xOv', 'left_mu', 'left_sigma',\n",
       "       'right_xOv', 'right_mu', 'right_sigma', 'left_ratio', 'right_ratio',\n",
       "       'ratio_sum', 'decimals', 'GT_LRL', 'GT_URL', 'Unit', 'left_Ov',\n",
       "       'left_OvFreq', 'right_Ov', 'right_OvFreq', 'Ov', 'OvFreq', 'RuntimeSet',\n",
       "       'HashCode', 'HashCodeNotRounded'],\n",
       "      dtype='object')"
      ]
     },
     "execution_count": 3,
     "metadata": {},
     "output_type": "execute_result"
    }
   ],
   "source": [
    "test_set_meta.columns\n"
   ]
  },
  {
   "cell_type": "code",
   "execution_count": 4,
   "metadata": {},
   "outputs": [
    {
     "data": {
      "text/plain": [
       "{0.0, 0.05, 0.1, 0.2, 0.3, 0.4, 0.5, 0.6}"
      ]
     },
     "execution_count": 4,
     "metadata": {},
     "output_type": "execute_result"
    }
   ],
   "source": [
    "set(test_set_meta.fractionPathol)\n"
   ]
  },
  {
   "cell_type": "code",
   "execution_count": null,
   "metadata": {},
   "outputs": [],
   "source": []
  }
 ],
 "metadata": {
  "kernelspec": {
   "display_name": "Environment (conda_tensorflow2_latest_p37)",
   "language": "python",
   "name": "conda_tensorflow2_latest_p37"
  },
  "language_info": {
   "codemirror_mode": {
    "name": "ipython",
    "version": 3
   },
   "file_extension": ".py",
   "mimetype": "text/x-python",
   "name": "python",
   "nbconvert_exporter": "python",
   "pygments_lexer": "ipython3",
   "version": "3.7.6"
  }
 },
 "nbformat": 4,
 "nbformat_minor": 4
}
