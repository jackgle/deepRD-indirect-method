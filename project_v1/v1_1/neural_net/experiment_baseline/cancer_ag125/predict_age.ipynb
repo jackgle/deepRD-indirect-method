{
 "cells": [
  {
   "cell_type": "code",
   "execution_count": 13,
   "id": "8dad153b",
   "metadata": {},
   "outputs": [],
   "source": [
    "import tensorflow as tf\n",
    "import pickle\n",
    "import pandas as pd\n",
    "import numpy as np\n",
    "import matplotlib.pyplot as plt\n",
    "\n",
    "# load model\n",
    "with open('../nn_output/model.json', 'r') as json_file:\n",
    "    model_json = json_file.read()\n",
    "model = tf.keras.models.model_from_json(model_json) \n",
    "model.load_weights('../nn_output/model_checkpoint.h5')\n",
    "with open('../nn_output/feature_scaler.pickle', 'rb') as handle:\n",
    "    scalerx = pickle.load(handle)\n"
   ]
  },
  {
   "cell_type": "code",
   "execution_count": 14,
   "id": "30d76dbb",
   "metadata": {},
   "outputs": [
    {
     "data": {
      "text/plain": [
       "19625"
      ]
     },
     "execution_count": 14,
     "metadata": {},
     "output_type": "execute_result"
    }
   ],
   "source": [
    "# preprocess df BEFORE stratification\n",
    "df = pd.read_csv('./data/10334-1.csv')\n",
    "\n",
    "# preprocess\n",
    "df = df[df.gender=='F']\n",
    "df['date'] = pd.to_datetime(df.date)\n",
    "df = df.sort_values(by='date', ascending=True)\n",
    "df = df.drop_duplicates(subset='id', keep='last') # most recent record per patient\n",
    "df = df.dropna(inplace=False, subset='value')\n",
    "\n",
    "# outlier removal\n",
    "df = df[(df.value >= np.quantile(df.value, 0.01)) & (df.value <= np.quantile(df.value, 0.99))]\n",
    "\n",
    "len(df)\n"
   ]
  },
  {
   "cell_type": "code",
   "execution_count": 15,
   "id": "01b75061",
   "metadata": {},
   "outputs": [],
   "source": [
    "def predict_df(df, filename):\n",
    "    \n",
    "    inpt = np.array(df.value).astype(float)\n",
    "    \n",
    "    pd.DataFrame({'value': inpt}).to_csv(filename)\n",
    "    \n",
    "    # standardize\n",
    "    inpt_mean = inpt.mean()\n",
    "    inpt_std = inpt.std()\n",
    "    inpt = (inpt - inpt_mean)/inpt_std\n",
    "    \n",
    "    # feature extraction\n",
    "    inpt = np.quantile(inpt, np.linspace(0, 1, 500))\n",
    "    \n",
    "    # feature scaling\n",
    "    inpt = scalerx.transform(inpt.reshape(1, -1))[0]\n",
    "    \n",
    "    # predict\n",
    "    p = model.predict(inpt.reshape(1, -1))\n",
    "    p *= inpt_std\n",
    "    p += inpt_mean\n",
    "    \n",
    "    return p\n",
    "    "
   ]
  },
  {
   "cell_type": "code",
   "execution_count": 16,
   "id": "e2e386e9",
   "metadata": {},
   "outputs": [],
   "source": [
    "df['age_group_start'] = [int(i[1]['age-group'][:2]) if i[1]['age-group'][1]!='-' else 5 for i in df.iterrows()]\n"
   ]
  },
  {
   "cell_type": "code",
   "execution_count": 17,
   "id": "bc374438",
   "metadata": {},
   "outputs": [
    {
     "name": "stdout",
     "output_type": "stream",
     "text": [
      "5\n",
      "1/1 [==============================] - 0s 40ms/step\n",
      "10\n",
      "1/1 [==============================] - 0s 14ms/step\n",
      "15\n",
      "1/1 [==============================] - 0s 13ms/step\n",
      "20\n",
      "1/1 [==============================] - 0s 14ms/step\n",
      "25\n",
      "1/1 [==============================] - 0s 14ms/step\n",
      "30\n",
      "1/1 [==============================] - 0s 14ms/step\n",
      "35\n",
      "1/1 [==============================] - 0s 14ms/step\n",
      "40\n",
      "1/1 [==============================] - 0s 14ms/step\n",
      "45\n",
      "1/1 [==============================] - 0s 14ms/step\n",
      "50\n",
      "1/1 [==============================] - 0s 14ms/step\n",
      "55\n",
      "1/1 [==============================] - 0s 14ms/step\n",
      "60\n",
      "1/1 [==============================] - 0s 14ms/step\n",
      "65\n",
      "1/1 [==============================] - 0s 14ms/step\n",
      "70\n",
      "1/1 [==============================] - 0s 14ms/step\n",
      "75\n",
      "1/1 [==============================] - 0s 14ms/step\n",
      "80\n",
      "1/1 [==============================] - 0s 14ms/step\n",
      "85\n",
      "1/1 [==============================] - 0s 14ms/step\n"
     ]
    }
   ],
   "source": [
    "ages = []\n",
    "ris = []\n",
    "for i in sorted(list(set(df.age_group_start))):\n",
    "    print(i)\n",
    "    sub = df[df.age_group_start==i]\n",
    "    ris.append(predict_df(sub, './data/age_binned/value_'+str(i)+'.csv'))\n",
    "    ages.append(i)\n",
    "    "
   ]
  },
  {
   "cell_type": "code",
   "execution_count": 18,
   "id": "d0c219d9",
   "metadata": {},
   "outputs": [],
   "source": [
    "np.save('./predictions_by_age.npy', ris)\n",
    "np.save('./prediction_age_groups.npy', ages)\n"
   ]
  },
  {
   "cell_type": "markdown",
   "id": "41c2700e",
   "metadata": {},
   "source": [
    "After the CSVs are generated from the above step, refineR predictions can be made on the same data using `../../../refineR/cancer_ag125/predict_age.R`\n"
   ]
  },
  {
   "cell_type": "code",
   "execution_count": null,
   "id": "cf3a2ce8",
   "metadata": {},
   "outputs": [],
   "source": []
  },
  {
   "cell_type": "code",
   "execution_count": null,
   "id": "47942e95",
   "metadata": {},
   "outputs": [],
   "source": []
  },
  {
   "cell_type": "code",
   "execution_count": null,
   "id": "027b33c5",
   "metadata": {},
   "outputs": [],
   "source": []
  }
 ],
 "metadata": {
  "kernelspec": {
   "display_name": "conda_tensorflow2_p310",
   "language": "python",
   "name": "conda_tensorflow2_p310"
  },
  "language_info": {
   "codemirror_mode": {
    "name": "ipython",
    "version": 3
   },
   "file_extension": ".py",
   "mimetype": "text/x-python",
   "name": "python",
   "nbconvert_exporter": "python",
   "pygments_lexer": "ipython3",
   "version": "3.10.13"
  }
 },
 "nbformat": 4,
 "nbformat_minor": 5
}
