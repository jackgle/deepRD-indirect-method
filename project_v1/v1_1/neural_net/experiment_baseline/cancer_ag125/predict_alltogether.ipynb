{
 "cells": [
  {
   "cell_type": "code",
   "execution_count": 1,
   "id": "b96e2248",
   "metadata": {},
   "outputs": [
    {
     "name": "stderr",
     "output_type": "stream",
     "text": [
      "2023-09-06 11:04:03.244363: E tensorflow/compiler/xla/stream_executor/cuda/cuda_driver.cc:268] failed call to cuInit: CUDA_ERROR_NO_DEVICE: no CUDA-capable device is detected\n"
     ]
    }
   ],
   "source": [
    "import tensorflow as tf\n",
    "import pandas as pd\n",
    "import numpy as np\n",
    "import pickle\n",
    "import matplotlib.pyplot as plt\n",
    "\n",
    "file = '10334-1.csv'\n",
    "\n",
    "# load model\n",
    "with open('../nn_output/model.json', 'r') as json_file:\n",
    "    model_json = json_file.read()\n",
    "model = tf.keras.models.model_from_json(model_json) \n",
    "model.load_weights('../nn_output/model_checkpoint.h5')\n",
    "\n",
    "with open('../nn_output/feature_scaler.pickle', 'rb') as handle:\n",
    "    scalerx = pickle.load(handle)\n"
   ]
  },
  {
   "cell_type": "code",
   "execution_count": 2,
   "id": "c9cf87f4",
   "metadata": {},
   "outputs": [],
   "source": [
    "# read df\n",
    "df = pd.read_csv(file)\n",
    "\n",
    "# clean df\n",
    "df = df.drop_duplicates(subset='id', keep='last') # remove multiple patient records\n",
    "df = df.dropna(inplace=False, subset='value')\n",
    "\n",
    "# get raw values\n",
    "data = df.value.values\n",
    "\n",
    "# outlier removal\n",
    "data = data[(data >= np.quantile(data, 0.01)) & (data <= np.quantile(data, 0.99))]\n",
    "\n",
    "# standardize\n",
    "mn = data.mean()\n",
    "std = data.std()\n",
    "data = (data-mn)/std\n",
    "\n",
    "# feature extraction\n",
    "inpt = np.quantile(data, np.linspace(0, 1, 500))\n",
    "\n",
    "# feature scaling\n",
    "inpt = scalerx.transform(inpt.reshape(1, -1));\n"
   ]
  },
  {
   "cell_type": "code",
   "execution_count": 3,
   "id": "e87bae88",
   "metadata": {},
   "outputs": [
    {
     "data": {
      "image/png": "[encoded data removed]",
      "text/plain": [
       "<Figure size 640x480 with 1 Axes>"
      ]
     },
     "metadata": {},
     "output_type": "display_data"
    }
   ],
   "source": [
    "plt.hist(data, 50);\n"
   ]
  },
  {
   "cell_type": "code",
   "execution_count": 4,
   "id": "8a52e631",
   "metadata": {},
   "outputs": [
    {
     "name": "stdout",
     "output_type": "stream",
     "text": [
      "1/1 [==============================] - 0s 105ms/step\n"
     ]
    },
    {
     "data": {
      "text/plain": [
       "array([ 2.3841343, 30.169561 ], dtype=float32)"
      ]
     },
     "execution_count": 4,
     "metadata": {},
     "output_type": "execute_result"
    }
   ],
   "source": [
    "# predict\n",
    "p = model.predict(inpt)[0]\n",
    "p *= std\n",
    "p += mn\n",
    "p\n"
   ]
  },
  {
   "cell_type": "code",
   "execution_count": 5,
   "id": "d0b9772d",
   "metadata": {},
   "outputs": [
    {
     "data": {
      "image/png": "[encoded data removed]",
      "text/plain": [
       "<Figure size 500x300 with 1 Axes>"
      ]
     },
     "metadata": {},
     "output_type": "display_data"
    }
   ],
   "source": [
    "data_orig_scale = (data*std)+mn\n",
    "plt.figure(figsize=(5,3))\n",
    "plt.hist(data_orig_scale, 50, density=True);\n",
    "plt.axvline(p[0], c='g')\n",
    "plt.axvline(p[1], c='g')\n",
    "plt.gca().set_yticks([])\n",
    "    \n",
    "plt.gcf().patch.set_facecolor('white')\n",
    "plt.gcf().tight_layout()\n"
   ]
  },
  {
   "cell_type": "code",
   "execution_count": null,
   "id": "5002f95f",
   "metadata": {},
   "outputs": [],
   "source": []
  }
 ],
 "metadata": {
  "kernelspec": {
   "display_name": "conda_tensorflow2_p310",
   "language": "python",
   "name": "conda_tensorflow2_p310"
  },
  "language_info": {
   "codemirror_mode": {
    "name": "ipython",
    "version": 3
   },
   "file_extension": ".py",
   "mimetype": "text/x-python",
   "name": "python",
   "nbconvert_exporter": "python",
   "pygments_lexer": "ipython3",
   "version": "3.10.12"
  }
 },
 "nbformat": 4,
 "nbformat_minor": 5
}
