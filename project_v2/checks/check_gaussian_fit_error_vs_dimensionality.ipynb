{
 "cells": [
  {
   "cell_type": "code",
   "execution_count": 2,
   "id": "c063882f",
   "metadata": {},
   "outputs": [],
   "source": [
    "import numpy as np\n",
    "from scipy.stats import multivariate_normal as mvn\n",
    "\n",
    "def bhattacharyya_gaussian_distance(mu1, cov1, mu2, cov2):\n",
    "    \"\"\"\n",
    "    Compute the Bhattacharyya distance between two Gaussian distributions.\n",
    "\n",
    "    Parameters:\n",
    "    mu1 : array_like\n",
    "        Mean of the first Gaussian distribution.\n",
    "    cov1 : array_like\n",
    "        Covariance matrix of the first Gaussian distribution.\n",
    "    mu2 : array_like\n",
    "        Mean of the second Gaussian distribution.\n",
    "    cov2 : array_like\n",
    "        Covariance matrix of the second Gaussian distribution.\n",
    "\n",
    "    Returns:\n",
    "    float\n",
    "        Bhattacharyya distance between the two Gaussian distributions.\n",
    "    \"\"\"\n",
    "    \n",
    "    if cov1.shape==(2,2):\n",
    "        assert mu1.shape==(2,), 'Error: single value given for mean'\n",
    "\n",
    "    cov = (1 / 2) * (cov1 + cov2)\n",
    "\n",
    "    T1 = (1 / 8) * (\n",
    "        (mu1 - mu2) @ np.linalg.inv(cov) @ (mu1 - mu2).T\n",
    "    )\n",
    "    T2 = (1 / 2) * np.log(\n",
    "        np.linalg.det(cov) / np.sqrt(np.linalg.det(cov1) * np.linalg.det(cov2))\n",
    "    )\n",
    "\n",
    "    return T1 + T2\n"
   ]
  },
  {
   "cell_type": "code",
   "execution_count": 32,
   "id": "18b27093",
   "metadata": {},
   "outputs": [
    {
     "data": {
      "text/plain": [
       "0.001778057298948272"
      ]
     },
     "execution_count": 32,
     "metadata": {},
     "output_type": "execute_result"
    }
   ],
   "source": [
    "# 1d\n",
    "\n",
    "mean_y = np.array([0])\n",
    "cov_y = np.array([[1]])\n",
    "\n",
    "sample_size = 120\n",
    "\n",
    "sample = mvn(mean_y, cov_y).rvs(sample_size)[..., np.newaxis]\n",
    "\n",
    "mean_p = sample.mean(axis=0)\n",
    "cov_p = np.array([[np.cov(sample.T)]])\n",
    "\n",
    "bhattacharyya_gaussian_distance(mean_y, cov_y, mean_p, cov_p)\n"
   ]
  },
  {
   "cell_type": "code",
   "execution_count": 33,
   "id": "f1fc26ec",
   "metadata": {},
   "outputs": [
    {
     "data": {
      "text/plain": [
       "0.007379279257781038"
      ]
     },
     "execution_count": 33,
     "metadata": {},
     "output_type": "execute_result"
    }
   ],
   "source": [
    "# 2d\n",
    "\n",
    "mean_y = np.array([0, 0])\n",
    "cov_y = np.array([[1, 0.5], [0.5, 1]])\n",
    "\n",
    "sample_size = 120\n",
    "\n",
    "sample = mvn(mean_y, cov_y).rvs(sample_size)\n",
    "\n",
    "mean_p = sample.mean(axis=0)\n",
    "cov_p = np.cov(sample.T)\n",
    "\n",
    "bhattacharyya_gaussian_distance(mean_y, cov_y, mean_p, cov_p)\n"
   ]
  },
  {
   "cell_type": "code",
   "execution_count": null,
   "id": "9a343ad8",
   "metadata": {},
   "outputs": [],
   "source": []
  }
 ],
 "metadata": {
  "kernelspec": {
   "display_name": "conda_tensorflow2_p310",
   "language": "python",
   "name": "conda_tensorflow2_p310"
  },
  "language_info": {
   "codemirror_mode": {
    "name": "ipython",
    "version": 3
   },
   "file_extension": ".py",
   "mimetype": "text/x-python",
   "name": "python",
   "nbconvert_exporter": "python",
   "pygments_lexer": "ipython3",
   "version": "3.10.14"
  }
 },
 "nbformat": 4,
 "nbformat_minor": 5
}
