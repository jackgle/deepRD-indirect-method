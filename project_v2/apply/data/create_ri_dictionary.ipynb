{
 "cells": [
  {
   "cell_type": "code",
   "execution_count": 3,
   "id": "afa4a635",
   "metadata": {},
   "outputs": [],
   "source": [
    "import json\n",
    "\n",
    "\n",
    "# ris taken from American Board of Internal Medicine\n",
    "# https://www.abim.org/Media/bfijryql/laboratory-reference-ranges.pdf\n",
    "\n",
    "ris = {\n",
    "    \"alanine aminotransferase\": {\"unit\": \"U/L\", \"ri\": [10, 40]}, \n",
    "    \"albumin\": {\"unit\": \"g/dL\", \"ri\": [3.5, 5.5]}, \n",
    "    \"alkaline phosphatase\": {\"unit\": \"U/L\", \"ri\": [30, 120]}, \n",
    "    \"aspartate aminotransferase\": {\"unit\": \"U/L\", \"ri\": [10, 40]}, \n",
    "    \"bilirubin\": {\"unit\": \"mg/dL\", \"ri\": [0.3, 1.0]}, \n",
    "    \"creatinine\": {\"unit\": \"mg/dL\", \"ri\": {\"F\": [0.5, 1.1], \"M\": [0.7, 1.3]}}, \n",
    "    \"gamma-glutamyl transferase\": {\"unit\": \"U/L\", \"ri\": {\"F\": [8, 40], \"M\": [9, 50]}}, \n",
    "    \"globulin\": {\"unit\": \"g/dL\", \"ri\": [2.0, 3.5]}, \n",
    "    \"platelets\": {\"unit\": \"U/L\", \"ri\": [150, 450]}, \n",
    "    \"total protein\": {\"unit\": \"g/dL\", \"ri\": [5.5, 9.0]}\n",
    "}\n",
    "\n",
    "with open('./abim_ris.json', 'w') as f:\n",
    "    json.dump(ris, f)\n",
    "                   "
   ]
  },
  {
   "cell_type": "code",
   "execution_count": 4,
   "id": "40683a7b",
   "metadata": {},
   "outputs": [],
   "source": [
    "# https://www.leedsth.nhs.uk/wp-content/uploads/2023/09/Blood-Sciences-Reference-Range-Database_BSHC-REC-317-v3.pdf\n",
    "\n",
    "ris = {\n",
    "    'alanine aminotransferase': {'unit': 'U/L', 'ri': [0, 40]},\n",
    "    'albumin': {'unit': 'g/dL', 'ri': [3.5, 5.0]},\n",
    "    'alkaline phosphatase': {'unit': 'U/L', 'ri': [30, 130]},\n",
    "    'aspartate aminotransferase': {'unit': 'U/L', 'ri': [0, 40]},\n",
    "    'bilirubin': {'unit': 'mg/dL', 'ri': [0.1, 1.2]},\n",
    "    'creatinine': {'unit': 'mg/dL', 'ri': {'F': [0.55, 1.02], 'M': [0.72, 1.18]}},\n",
    "    'gamma-glutamyl transferase': {'unit': 'U/L', 'ri': {'F': [0, 50], 'M': [0, 90]}},\n",
    "    'globulin': {'unit': 'g/dL', 'ri': [2.0, 3.5]}, # none from \n",
    "    'platelets': {'unit': 'U/L', 'ri': [150, 400]},\n",
    "    'total protein': {'unit': 'g/dL', 'ri': [6.0, 8.0]},\n",
    "}\n",
    "\n",
    "with open('./leeds_ris.json', 'w') as f:\n",
    "    json.dump(ris, f)\n",
    "    "
   ]
  },
  {
   "cell_type": "code",
   "execution_count": null,
   "id": "cc848c15",
   "metadata": {},
   "outputs": [],
   "source": []
  }
 ],
 "metadata": {
  "kernelspec": {
   "display_name": "conda_tensorflow2_p310",
   "language": "python",
   "name": "conda_tensorflow2_p310"
  },
  "language_info": {
   "codemirror_mode": {
    "name": "ipython",
    "version": 3
   },
   "file_extension": ".py",
   "mimetype": "text/x-python",
   "name": "python",
   "nbconvert_exporter": "python",
   "pygments_lexer": "ipython3",
   "version": "3.10.14"
  }
 },
 "nbformat": 4,
 "nbformat_minor": 5
}
