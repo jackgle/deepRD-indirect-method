{
 "cells": [
  {
   "cell_type": "code",
   "execution_count": 1,
   "id": "6d256ab4",
   "metadata": {},
   "outputs": [],
   "source": [
    "import pandas as pd\n",
    "import numpy as np\n",
    "\n",
    "# we will combine the labels from the liver test datasets\n",
    "# from UCI and reflimR\n",
    "# reflimR changed the label from some blood donors to \"patient\" based on review by a physician\n",
    "\n",
    "# load datasets\n",
    "df1 = pd.read_csv('./original/hoffmann_hcvdat0.csv', index_col=0)\n",
    "df2 = pd.read_csv('./original/reflimr_liver.csv', index_col=0)\n",
    "\n",
    "# use same columns in each\n",
    "df1.drop(['ALP', 'CHOL'], axis=1, inplace=True)\n",
    "df1.dropna(inplace=True)\n",
    "\n",
    "# sort both by measurements for comparison of labels column\n",
    "df1 = df1.sort_values(list(df1.columns[1:])).reset_index(drop=True)\n",
    "df2 = df2.sort_values(list(df1.columns[1:])).reset_index(drop=True)\n"
   ]
  },
  {
   "cell_type": "code",
   "execution_count": 2,
   "id": "4762b4be",
   "metadata": {},
   "outputs": [
    {
     "data": {
      "text/html": [
       "<div>\n",
       "<style scoped>\n",
       "    .dataframe tbody tr th:only-of-type {\n",
       "        vertical-align: middle;\n",
       "    }\n",
       "\n",
       "    .dataframe tbody tr th {\n",
       "        vertical-align: top;\n",
       "    }\n",
       "\n",
       "    .dataframe thead th {\n",
       "        text-align: right;\n",
       "    }\n",
       "</style>\n",
       "<table border=\"1\" class=\"dataframe\">\n",
       "  <thead>\n",
       "    <tr style=\"text-align: right;\">\n",
       "      <th></th>\n",
       "      <th>Category</th>\n",
       "      <th>Age</th>\n",
       "      <th>Sex</th>\n",
       "      <th>ALB</th>\n",
       "      <th>ALT</th>\n",
       "      <th>AST</th>\n",
       "      <th>BIL</th>\n",
       "      <th>CHE</th>\n",
       "      <th>CREA</th>\n",
       "      <th>GGT</th>\n",
       "      <th>PROT</th>\n",
       "    </tr>\n",
       "  </thead>\n",
       "  <tbody>\n",
       "    <tr>\n",
       "      <th>0</th>\n",
       "      <td>1=Hepatitis</td>\n",
       "      <td>19</td>\n",
       "      <td>m</td>\n",
       "      <td>41.0</td>\n",
       "      <td>87.0</td>\n",
       "      <td>67.0</td>\n",
       "      <td>12.0</td>\n",
       "      <td>7.55</td>\n",
       "      <td>62.0</td>\n",
       "      <td>65.0</td>\n",
       "      <td>75.0</td>\n",
       "    </tr>\n",
       "    <tr>\n",
       "      <th>1</th>\n",
       "      <td>1=Hepatitis</td>\n",
       "      <td>23</td>\n",
       "      <td>m</td>\n",
       "      <td>47.0</td>\n",
       "      <td>38.9</td>\n",
       "      <td>164.2</td>\n",
       "      <td>17.0</td>\n",
       "      <td>7.09</td>\n",
       "      <td>79.3</td>\n",
       "      <td>90.4</td>\n",
       "      <td>70.1</td>\n",
       "    </tr>\n",
       "    <tr>\n",
       "      <th>2</th>\n",
       "      <td>1=Hepatitis</td>\n",
       "      <td>25</td>\n",
       "      <td>m</td>\n",
       "      <td>42.0</td>\n",
       "      <td>63.3</td>\n",
       "      <td>187.7</td>\n",
       "      <td>14.0</td>\n",
       "      <td>6.00</td>\n",
       "      <td>66.9</td>\n",
       "      <td>40.2</td>\n",
       "      <td>70.5</td>\n",
       "    </tr>\n",
       "    <tr>\n",
       "      <th>3</th>\n",
       "      <td>1=Hepatitis</td>\n",
       "      <td>27</td>\n",
       "      <td>m</td>\n",
       "      <td>45.0</td>\n",
       "      <td>10.5</td>\n",
       "      <td>37.8</td>\n",
       "      <td>10.0</td>\n",
       "      <td>8.77</td>\n",
       "      <td>55.2</td>\n",
       "      <td>35.9</td>\n",
       "      <td>74.5</td>\n",
       "    </tr>\n",
       "    <tr>\n",
       "      <th>4</th>\n",
       "      <td>2=Fibrosis</td>\n",
       "      <td>29</td>\n",
       "      <td>m</td>\n",
       "      <td>41.0</td>\n",
       "      <td>2.4</td>\n",
       "      <td>83.5</td>\n",
       "      <td>6.0</td>\n",
       "      <td>11.49</td>\n",
       "      <td>55.2</td>\n",
       "      <td>130.0</td>\n",
       "      <td>66.5</td>\n",
       "    </tr>\n",
       "  </tbody>\n",
       "</table>\n",
       "</div>"
      ],
      "text/plain": [
       "      Category  Age Sex   ALB   ALT    AST   BIL    CHE  CREA    GGT  PROT\n",
       "0  1=Hepatitis   19   m  41.0  87.0   67.0  12.0   7.55  62.0   65.0  75.0\n",
       "1  1=Hepatitis   23   m  47.0  38.9  164.2  17.0   7.09  79.3   90.4  70.1\n",
       "2  1=Hepatitis   25   m  42.0  63.3  187.7  14.0   6.00  66.9   40.2  70.5\n",
       "3  1=Hepatitis   27   m  45.0  10.5   37.8  10.0   8.77  55.2   35.9  74.5\n",
       "4   2=Fibrosis   29   m  41.0   2.4   83.5   6.0  11.49  55.2  130.0  66.5"
      ]
     },
     "execution_count": 2,
     "metadata": {},
     "output_type": "execute_result"
    }
   ],
   "source": [
    "df1.head()\n"
   ]
  },
  {
   "cell_type": "code",
   "execution_count": 3,
   "id": "e1a801e9",
   "metadata": {},
   "outputs": [
    {
     "data": {
      "text/html": [
       "<div>\n",
       "<style scoped>\n",
       "    .dataframe tbody tr th:only-of-type {\n",
       "        vertical-align: middle;\n",
       "    }\n",
       "\n",
       "    .dataframe tbody tr th {\n",
       "        vertical-align: top;\n",
       "    }\n",
       "\n",
       "    .dataframe thead th {\n",
       "        text-align: right;\n",
       "    }\n",
       "</style>\n",
       "<table border=\"1\" class=\"dataframe\">\n",
       "  <thead>\n",
       "    <tr style=\"text-align: right;\">\n",
       "      <th></th>\n",
       "      <th>Category</th>\n",
       "      <th>Age</th>\n",
       "      <th>Sex</th>\n",
       "      <th>ALB</th>\n",
       "      <th>ALT</th>\n",
       "      <th>AST</th>\n",
       "      <th>BIL</th>\n",
       "      <th>CHE</th>\n",
       "      <th>CREA</th>\n",
       "      <th>GGT</th>\n",
       "      <th>PROT</th>\n",
       "    </tr>\n",
       "  </thead>\n",
       "  <tbody>\n",
       "    <tr>\n",
       "      <th>0</th>\n",
       "      <td>patient</td>\n",
       "      <td>19</td>\n",
       "      <td>m</td>\n",
       "      <td>41.0</td>\n",
       "      <td>87.0</td>\n",
       "      <td>67.0</td>\n",
       "      <td>12.0</td>\n",
       "      <td>7.55</td>\n",
       "      <td>62.0</td>\n",
       "      <td>65.0</td>\n",
       "      <td>75.0</td>\n",
       "    </tr>\n",
       "    <tr>\n",
       "      <th>1</th>\n",
       "      <td>patient</td>\n",
       "      <td>23</td>\n",
       "      <td>m</td>\n",
       "      <td>47.0</td>\n",
       "      <td>38.9</td>\n",
       "      <td>164.2</td>\n",
       "      <td>17.0</td>\n",
       "      <td>7.09</td>\n",
       "      <td>79.3</td>\n",
       "      <td>90.4</td>\n",
       "      <td>70.1</td>\n",
       "    </tr>\n",
       "    <tr>\n",
       "      <th>2</th>\n",
       "      <td>patient</td>\n",
       "      <td>25</td>\n",
       "      <td>m</td>\n",
       "      <td>42.0</td>\n",
       "      <td>63.3</td>\n",
       "      <td>187.7</td>\n",
       "      <td>14.0</td>\n",
       "      <td>6.00</td>\n",
       "      <td>66.9</td>\n",
       "      <td>40.2</td>\n",
       "      <td>70.5</td>\n",
       "    </tr>\n",
       "    <tr>\n",
       "      <th>3</th>\n",
       "      <td>patient</td>\n",
       "      <td>27</td>\n",
       "      <td>m</td>\n",
       "      <td>45.0</td>\n",
       "      <td>10.5</td>\n",
       "      <td>37.8</td>\n",
       "      <td>10.0</td>\n",
       "      <td>8.77</td>\n",
       "      <td>55.2</td>\n",
       "      <td>35.9</td>\n",
       "      <td>74.5</td>\n",
       "    </tr>\n",
       "    <tr>\n",
       "      <th>4</th>\n",
       "      <td>patient</td>\n",
       "      <td>29</td>\n",
       "      <td>m</td>\n",
       "      <td>41.0</td>\n",
       "      <td>2.4</td>\n",
       "      <td>83.5</td>\n",
       "      <td>6.0</td>\n",
       "      <td>11.49</td>\n",
       "      <td>55.2</td>\n",
       "      <td>130.0</td>\n",
       "      <td>66.5</td>\n",
       "    </tr>\n",
       "  </tbody>\n",
       "</table>\n",
       "</div>"
      ],
      "text/plain": [
       "  Category  Age Sex   ALB   ALT    AST   BIL    CHE  CREA    GGT  PROT\n",
       "0  patient   19   m  41.0  87.0   67.0  12.0   7.55  62.0   65.0  75.0\n",
       "1  patient   23   m  47.0  38.9  164.2  17.0   7.09  79.3   90.4  70.1\n",
       "2  patient   25   m  42.0  63.3  187.7  14.0   6.00  66.9   40.2  70.5\n",
       "3  patient   27   m  45.0  10.5   37.8  10.0   8.77  55.2   35.9  74.5\n",
       "4  patient   29   m  41.0   2.4   83.5   6.0  11.49  55.2  130.0  66.5"
      ]
     },
     "execution_count": 3,
     "metadata": {},
     "output_type": "execute_result"
    }
   ],
   "source": [
    "df2.head()\n"
   ]
  },
  {
   "cell_type": "code",
   "execution_count": 4,
   "id": "f5d7d98d",
   "metadata": {},
   "outputs": [],
   "source": [
    "# make sure they are identical aside from label\n",
    "assert (df1.values[:,1:]==df2.values[:,1:]).all(), 'Error: dataset measurements are not identical'\n"
   ]
  },
  {
   "cell_type": "code",
   "execution_count": 5,
   "id": "d4b80796",
   "metadata": {},
   "outputs": [],
   "source": [
    "# boolean whether patient is reference in UCI dataset\n",
    "is_uci_reference = np.array([i[1]['Category'].startswith('0') for i in df1.iterrows()])\n",
    "\n",
    "# add UCI patient labels to reflimR data\n",
    "df2.loc[~is_uci_reference, 'Category'] = df1.loc[~is_uci_reference, 'Category']\n",
    "df = df2\n",
    "del df1, df2\n"
   ]
  },
  {
   "cell_type": "code",
   "execution_count": 8,
   "id": "1175fc3e",
   "metadata": {},
   "outputs": [
    {
     "data": {
      "text/plain": [
       "{'1=Hepatitis', '2=Fibrosis', '3=Cirrhosis', 'patient', 'reference'}"
      ]
     },
     "execution_count": 8,
     "metadata": {},
     "output_type": "execute_result"
    }
   ],
   "source": [
    "# resulting df contains \n",
    "set(df.Category)\n"
   ]
  },
  {
   "cell_type": "code",
   "execution_count": 9,
   "id": "eab1b0de",
   "metadata": {},
   "outputs": [],
   "source": [
    "first_columns = ['gender', 'age', 'label'] # what will be used as first 3 columns for formatted datasets\n",
    "label_dict = { # better label names\n",
    "    'reference': 'reference', # classified normal by Hoffmann\n",
    "    'patient': 'abnormal', # classified abnormal by Hoffmann\n",
    "    '1=Hepatitis': 'hepatitis', # confirmed hepatitis\n",
    "    '2=Fibrosis': 'fibrosis', # confirmed fibrosis\n",
    "    '3=Cirrhosis': 'cirrhosis' # confirmed cirrhosis\n",
    "}\n",
    "\n",
    "df.Category = [label_dict[i[1]['Category']] for i in df.iterrows()]\n"
   ]
  },
  {
   "cell_type": "code",
   "execution_count": 10,
   "id": "6b461707",
   "metadata": {},
   "outputs": [
    {
     "name": "stdout",
     "output_type": "stream",
     "text": [
      "No. records:  612\n",
      "Path. frac.:  0.2549019607843137\n"
     ]
    }
   ],
   "source": [
    "# reflimR\n",
    "\n",
    "# Lab tests\n",
    "df['label'] = df['Category'] # create label column\n",
    "df['gender'] = df.Sex.str.upper() # format gender\n",
    "df['age'] = df.Age\n",
    "df = df.drop(['Category', 'Sex', 'Age', 'CHE'], axis=1) # drop unused columns\n",
    "\n",
    "# format analyte names\n",
    "analyte_dict = {\n",
    "    'ALB': 'albumin',\n",
    "    'ALP': 'alkaline phosphatase',\n",
    "    'ALT': 'alanine aminotransferase',\n",
    "    'AST': 'aspartate aminotransferase',\n",
    "    'BIL': 'bilirubin',\n",
    "    'CREA': 'creatinine',\n",
    "    'GGT': 'gamma-glutamyl transferase',\n",
    "    'PROT': 'total protein'\n",
    "}\n",
    "df.columns = [analyte_dict[i] if i in analyte_dict.keys() else i for i in df.columns]\n",
    "# standardize units\n",
    "df['albumin'] /= 10 # g/L to g/dL\n",
    "df['total protein'] /= 10 # g/L to g/dL\n",
    "df['creatinine'] *= 0.01131 # umol/L to mg/dL\n",
    "df['bilirubin'] *= 0.05847 # umol/L to mg/dL\n",
    "\n",
    "# reset index\n",
    "df = df.reset_index(drop=True, inplace=False)\n",
    "\n",
    "# order columns\n",
    "df = df[first_columns+sorted([i for i in df.columns if i not in first_columns])]\n",
    "\n",
    "# save\n",
    "df.to_csv('./formatted/liver.csv')\n",
    "df.head()\n",
    "\n",
    "print('No. records: ', len(df))\n",
    "print('Path. frac.: ', len(df[df.label!='reference'])/len(df))\n",
    "\n"
   ]
  },
  {
   "cell_type": "code",
   "execution_count": 11,
   "id": "90e297c5",
   "metadata": {},
   "outputs": [
    {
     "data": {
      "text/plain": [
       "reference    456\n",
       "abnormal      84\n",
       "cirrhosis     28\n",
       "hepatitis     23\n",
       "fibrosis      21\n",
       "Name: label, dtype: int64"
      ]
     },
     "execution_count": 11,
     "metadata": {},
     "output_type": "execute_result"
    }
   ],
   "source": [
    "df.label.value_counts()\n"
   ]
  },
  {
   "cell_type": "code",
   "execution_count": 12,
   "id": "7b314900",
   "metadata": {},
   "outputs": [
    {
     "data": {
      "text/plain": [
       "72"
      ]
     },
     "execution_count": 12,
     "metadata": {},
     "output_type": "execute_result"
    }
   ],
   "source": [
    "28+23+21"
   ]
  },
  {
   "cell_type": "code",
   "execution_count": 10,
   "id": "caac0c27",
   "metadata": {},
   "outputs": [],
   "source": [
    "# # Abartys HBV\n",
    "\n",
    "# df = pd.read_csv('./original/abartys_metabolic_joined_hbv.csv') # read data\n",
    "\n",
    "# # remove multiple patient records\n",
    "# df = df.sort_values(by=['year', 'month'], ascending=True)\n",
    "# df = df.drop_duplicates(subset='id', keep='last') # keep most recent\n",
    "\n",
    "# df['label'] = [i[1]['combined']=='positive' for i in df.iterrows()] # create label column\n",
    "\n",
    "# df = df.drop(['id', 'year', 'month', 'ag', 'dna', 'combined'], axis=1) # drop unused columns\n",
    "\n",
    "# # format analyte names\n",
    "# analyte_dict = {\n",
    "#     '777-3': 'platelets',\n",
    "#     '1920-8': 'aspartate aminotransferase',\n",
    "#     '1742-6': 'alanine aminotransferase',\n",
    "#     '6768-6': 'alkaline phosphatase',\n",
    "#     '1751-7': 'albumin',\n",
    "#     '10834-0': 'globulin'\n",
    "# }\n",
    "# df.columns = [analyte_dict[i] if i in analyte_dict.keys() else i for i in df.columns]\n",
    "\n",
    "# # reset index\n",
    "# df = df.reset_index(drop=True, inplace=False)\n",
    "\n",
    "# # order columns\n",
    "# df = df[first_columns+sorted([i for i in df.columns if i not in first_columns])]\n",
    "\n",
    "# # save\n",
    "# df.to_csv('./formatted/abartys_hbv.csv')\n",
    "# df.head()\n"
   ]
  },
  {
   "cell_type": "code",
   "execution_count": null,
   "id": "3bfaf095",
   "metadata": {},
   "outputs": [],
   "source": []
  }
 ],
 "metadata": {
  "kernelspec": {
   "display_name": "conda_tensorflow2_p310",
   "language": "python",
   "name": "conda_tensorflow2_p310"
  },
  "language_info": {
   "codemirror_mode": {
    "name": "ipython",
    "version": 3
   },
   "file_extension": ".py",
   "mimetype": "text/x-python",
   "name": "python",
   "nbconvert_exporter": "python",
   "pygments_lexer": "ipython3",
   "version": "3.10.14"
  }
 },
 "nbformat": 4,
 "nbformat_minor": 5
}
