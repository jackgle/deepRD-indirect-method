{
 "cells": [
  {
   "cell_type": "code",
   "execution_count": 2,
   "id": "2e8e8f5d",
   "metadata": {},
   "outputs": [
    {
     "name": "stderr",
     "output_type": "stream",
     "text": [
      "Updating HTML index of packages in '.Library'\n",
      "\n",
      "Making 'packages.html' ...\n",
      " done\n",
      "\n"
     ]
    }
   ],
   "source": [
    "install.packages('reflimR')\n"
   ]
  },
  {
   "cell_type": "code",
   "execution_count": 3,
   "id": "01ebd2ec",
   "metadata": {},
   "outputs": [],
   "source": [
    "library(reflimR)\n"
   ]
  },
  {
   "cell_type": "code",
   "execution_count": 4,
   "id": "113cd5f4",
   "metadata": {},
   "outputs": [
    {
     "data": {
      "text/plain": [
       "\n",
       "  patient reference \n",
       "      156       456 "
      ]
     },
     "metadata": {},
     "output_type": "display_data"
    }
   ],
   "source": [
    "table(livertests$Category)\n"
   ]
  },
  {
   "cell_type": "code",
   "execution_count": 5,
   "id": "6d932a23",
   "metadata": {},
   "outputs": [],
   "source": [
    "write.csv(livertests, \"reflimr_liver.csv\")\n"
   ]
  },
  {
   "cell_type": "code",
   "execution_count": null,
   "id": "465fc43d",
   "metadata": {},
   "outputs": [],
   "source": []
  }
 ],
 "metadata": {
  "kernelspec": {
   "display_name": "R",
   "language": "R",
   "name": "ir"
  },
  "language_info": {
   "codemirror_mode": "r",
   "file_extension": ".r",
   "mimetype": "text/x-r-source",
   "name": "R",
   "pygments_lexer": "r",
   "version": "4.4.1"
  }
 },
 "nbformat": 4,
 "nbformat_minor": 5
}
