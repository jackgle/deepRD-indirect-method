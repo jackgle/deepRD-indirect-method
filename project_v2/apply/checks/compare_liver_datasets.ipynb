{
 "cells": [
  {
   "cell_type": "code",
   "execution_count": 1,
   "id": "dff41e66",
   "metadata": {},
   "outputs": [],
   "source": [
    "import pandas as pd\n",
    "import numpy as np\n",
    "\n",
    "df1 = pd.read_csv('./data/original/hoffmann_hcvdat0.csv', index_col=0)\n",
    "df2 = pd.read_csv('./data/original/reflimr_liver.csv', index_col=0)\n",
    "\n",
    "df1['label'] = 'reference'\n",
    "df1.loc[[int(i[1]['Category'][0])!=0 for i in df1.iterrows()], 'label'] = 'patient'\n",
    "df1.Category = df1.label\n",
    "df1.drop(['label', 'ALP', 'CHOL'], axis=1, inplace=True)\n",
    "df1.dropna(inplace=True)\n",
    "\n",
    "df1 = df1.sort_values(list(df1.columns[1:])).reset_index(drop=True)\n",
    "df2 = df2.sort_values(list(df1.columns[1:])).reset_index(drop=True)\n"
   ]
  },
  {
   "cell_type": "code",
   "execution_count": 2,
   "id": "6cc65a00",
   "metadata": {},
   "outputs": [
    {
     "data": {
      "text/html": [
       "<div>\n",
       "<style scoped>\n",
       "    .dataframe tbody tr th:only-of-type {\n",
       "        vertical-align: middle;\n",
       "    }\n",
       "\n",
       "    .dataframe tbody tr th {\n",
       "        vertical-align: top;\n",
       "    }\n",
       "\n",
       "    .dataframe thead th {\n",
       "        text-align: right;\n",
       "    }\n",
       "</style>\n",
       "<table border=\"1\" class=\"dataframe\">\n",
       "  <thead>\n",
       "    <tr style=\"text-align: right;\">\n",
       "      <th></th>\n",
       "      <th>Category</th>\n",
       "      <th>Age</th>\n",
       "      <th>Sex</th>\n",
       "      <th>ALB</th>\n",
       "      <th>ALT</th>\n",
       "      <th>AST</th>\n",
       "      <th>BIL</th>\n",
       "      <th>CHE</th>\n",
       "      <th>CREA</th>\n",
       "      <th>GGT</th>\n",
       "      <th>PROT</th>\n",
       "    </tr>\n",
       "  </thead>\n",
       "  <tbody>\n",
       "    <tr>\n",
       "      <th>0</th>\n",
       "      <td>patient</td>\n",
       "      <td>19</td>\n",
       "      <td>m</td>\n",
       "      <td>41.0</td>\n",
       "      <td>87.0</td>\n",
       "      <td>67.0</td>\n",
       "      <td>12.0</td>\n",
       "      <td>7.55</td>\n",
       "      <td>62.0</td>\n",
       "      <td>65.0</td>\n",
       "      <td>75.0</td>\n",
       "    </tr>\n",
       "    <tr>\n",
       "      <th>1</th>\n",
       "      <td>patient</td>\n",
       "      <td>23</td>\n",
       "      <td>m</td>\n",
       "      <td>47.0</td>\n",
       "      <td>38.9</td>\n",
       "      <td>164.2</td>\n",
       "      <td>17.0</td>\n",
       "      <td>7.09</td>\n",
       "      <td>79.3</td>\n",
       "      <td>90.4</td>\n",
       "      <td>70.1</td>\n",
       "    </tr>\n",
       "    <tr>\n",
       "      <th>2</th>\n",
       "      <td>patient</td>\n",
       "      <td>25</td>\n",
       "      <td>m</td>\n",
       "      <td>42.0</td>\n",
       "      <td>63.3</td>\n",
       "      <td>187.7</td>\n",
       "      <td>14.0</td>\n",
       "      <td>6.00</td>\n",
       "      <td>66.9</td>\n",
       "      <td>40.2</td>\n",
       "      <td>70.5</td>\n",
       "    </tr>\n",
       "    <tr>\n",
       "      <th>3</th>\n",
       "      <td>patient</td>\n",
       "      <td>27</td>\n",
       "      <td>m</td>\n",
       "      <td>45.0</td>\n",
       "      <td>10.5</td>\n",
       "      <td>37.8</td>\n",
       "      <td>10.0</td>\n",
       "      <td>8.77</td>\n",
       "      <td>55.2</td>\n",
       "      <td>35.9</td>\n",
       "      <td>74.5</td>\n",
       "    </tr>\n",
       "    <tr>\n",
       "      <th>4</th>\n",
       "      <td>patient</td>\n",
       "      <td>29</td>\n",
       "      <td>m</td>\n",
       "      <td>41.0</td>\n",
       "      <td>2.4</td>\n",
       "      <td>83.5</td>\n",
       "      <td>6.0</td>\n",
       "      <td>11.49</td>\n",
       "      <td>55.2</td>\n",
       "      <td>130.0</td>\n",
       "      <td>66.5</td>\n",
       "    </tr>\n",
       "  </tbody>\n",
       "</table>\n",
       "</div>"
      ],
      "text/plain": [
       "  Category  Age Sex   ALB   ALT    AST   BIL    CHE  CREA    GGT  PROT\n",
       "0  patient   19   m  41.0  87.0   67.0  12.0   7.55  62.0   65.0  75.0\n",
       "1  patient   23   m  47.0  38.9  164.2  17.0   7.09  79.3   90.4  70.1\n",
       "2  patient   25   m  42.0  63.3  187.7  14.0   6.00  66.9   40.2  70.5\n",
       "3  patient   27   m  45.0  10.5   37.8  10.0   8.77  55.2   35.9  74.5\n",
       "4  patient   29   m  41.0   2.4   83.5   6.0  11.49  55.2  130.0  66.5"
      ]
     },
     "execution_count": 2,
     "metadata": {},
     "output_type": "execute_result"
    }
   ],
   "source": [
    "df1.head()\n"
   ]
  },
  {
   "cell_type": "code",
   "execution_count": 3,
   "id": "48c64407",
   "metadata": {},
   "outputs": [
    {
     "data": {
      "text/html": [
       "<div>\n",
       "<style scoped>\n",
       "    .dataframe tbody tr th:only-of-type {\n",
       "        vertical-align: middle;\n",
       "    }\n",
       "\n",
       "    .dataframe tbody tr th {\n",
       "        vertical-align: top;\n",
       "    }\n",
       "\n",
       "    .dataframe thead th {\n",
       "        text-align: right;\n",
       "    }\n",
       "</style>\n",
       "<table border=\"1\" class=\"dataframe\">\n",
       "  <thead>\n",
       "    <tr style=\"text-align: right;\">\n",
       "      <th></th>\n",
       "      <th>Category</th>\n",
       "      <th>Age</th>\n",
       "      <th>Sex</th>\n",
       "      <th>ALB</th>\n",
       "      <th>ALT</th>\n",
       "      <th>AST</th>\n",
       "      <th>BIL</th>\n",
       "      <th>CHE</th>\n",
       "      <th>CREA</th>\n",
       "      <th>GGT</th>\n",
       "      <th>PROT</th>\n",
       "    </tr>\n",
       "  </thead>\n",
       "  <tbody>\n",
       "    <tr>\n",
       "      <th>0</th>\n",
       "      <td>patient</td>\n",
       "      <td>19</td>\n",
       "      <td>m</td>\n",
       "      <td>41.0</td>\n",
       "      <td>87.0</td>\n",
       "      <td>67.0</td>\n",
       "      <td>12.0</td>\n",
       "      <td>7.55</td>\n",
       "      <td>62.0</td>\n",
       "      <td>65.0</td>\n",
       "      <td>75.0</td>\n",
       "    </tr>\n",
       "    <tr>\n",
       "      <th>1</th>\n",
       "      <td>patient</td>\n",
       "      <td>23</td>\n",
       "      <td>m</td>\n",
       "      <td>47.0</td>\n",
       "      <td>38.9</td>\n",
       "      <td>164.2</td>\n",
       "      <td>17.0</td>\n",
       "      <td>7.09</td>\n",
       "      <td>79.3</td>\n",
       "      <td>90.4</td>\n",
       "      <td>70.1</td>\n",
       "    </tr>\n",
       "    <tr>\n",
       "      <th>2</th>\n",
       "      <td>patient</td>\n",
       "      <td>25</td>\n",
       "      <td>m</td>\n",
       "      <td>42.0</td>\n",
       "      <td>63.3</td>\n",
       "      <td>187.7</td>\n",
       "      <td>14.0</td>\n",
       "      <td>6.00</td>\n",
       "      <td>66.9</td>\n",
       "      <td>40.2</td>\n",
       "      <td>70.5</td>\n",
       "    </tr>\n",
       "    <tr>\n",
       "      <th>3</th>\n",
       "      <td>patient</td>\n",
       "      <td>27</td>\n",
       "      <td>m</td>\n",
       "      <td>45.0</td>\n",
       "      <td>10.5</td>\n",
       "      <td>37.8</td>\n",
       "      <td>10.0</td>\n",
       "      <td>8.77</td>\n",
       "      <td>55.2</td>\n",
       "      <td>35.9</td>\n",
       "      <td>74.5</td>\n",
       "    </tr>\n",
       "    <tr>\n",
       "      <th>4</th>\n",
       "      <td>patient</td>\n",
       "      <td>29</td>\n",
       "      <td>m</td>\n",
       "      <td>41.0</td>\n",
       "      <td>2.4</td>\n",
       "      <td>83.5</td>\n",
       "      <td>6.0</td>\n",
       "      <td>11.49</td>\n",
       "      <td>55.2</td>\n",
       "      <td>130.0</td>\n",
       "      <td>66.5</td>\n",
       "    </tr>\n",
       "  </tbody>\n",
       "</table>\n",
       "</div>"
      ],
      "text/plain": [
       "  Category  Age Sex   ALB   ALT    AST   BIL    CHE  CREA    GGT  PROT\n",
       "0  patient   19   m  41.0  87.0   67.0  12.0   7.55  62.0   65.0  75.0\n",
       "1  patient   23   m  47.0  38.9  164.2  17.0   7.09  79.3   90.4  70.1\n",
       "2  patient   25   m  42.0  63.3  187.7  14.0   6.00  66.9   40.2  70.5\n",
       "3  patient   27   m  45.0  10.5   37.8  10.0   8.77  55.2   35.9  74.5\n",
       "4  patient   29   m  41.0   2.4   83.5   6.0  11.49  55.2  130.0  66.5"
      ]
     },
     "execution_count": 3,
     "metadata": {},
     "output_type": "execute_result"
    }
   ],
   "source": [
    "df2.head()\n"
   ]
  },
  {
   "cell_type": "code",
   "execution_count": 4,
   "id": "20f77da9",
   "metadata": {},
   "outputs": [],
   "source": [
    "for i in df1.columns[1:]:\n",
    "    assert all(df1[i]==df2[i]), 'Error: unequal column: '+i\n",
    "    "
   ]
  },
  {
   "cell_type": "code",
   "execution_count": 5,
   "id": "0af43156",
   "metadata": {},
   "outputs": [
    {
     "data": {
      "text/plain": [
       "Category\n",
       "reference    540\n",
       "patient       72\n",
       "dtype: int64"
      ]
     },
     "execution_count": 5,
     "metadata": {},
     "output_type": "execute_result"
    }
   ],
   "source": [
    "df1.value_counts('Category')\n"
   ]
  },
  {
   "cell_type": "code",
   "execution_count": 6,
   "id": "fa4fc0b8",
   "metadata": {},
   "outputs": [
    {
     "data": {
      "text/plain": [
       "Category\n",
       "reference    456\n",
       "patient      156\n",
       "dtype: int64"
      ]
     },
     "execution_count": 6,
     "metadata": {},
     "output_type": "execute_result"
    }
   ],
   "source": [
    "df2.value_counts('Category')\n"
   ]
  },
  {
   "cell_type": "code",
   "execution_count": 7,
   "id": "4dd2be94",
   "metadata": {},
   "outputs": [
    {
     "data": {
      "text/plain": [
       "patient    72\n",
       "Name: Category, dtype: int64"
      ]
     },
     "execution_count": 7,
     "metadata": {},
     "output_type": "execute_result"
    }
   ],
   "source": [
    "# reflimR categories if UCI says \"patient\"\n",
    "# so as expected, reflimR doesn't change any patients-->reference, only reference-->patient\n",
    "df2[df1.Category=='patient'].Category.value_counts()\n"
   ]
  },
  {
   "cell_type": "code",
   "execution_count": 8,
   "id": "11b53d78",
   "metadata": {},
   "outputs": [
    {
     "data": {
      "text/plain": [
       "reference    456\n",
       "patient       84\n",
       "Name: Category, dtype: int64"
      ]
     },
     "execution_count": 8,
     "metadata": {},
     "output_type": "execute_result"
    }
   ],
   "source": [
    "# reflimR categories if UCI says \"reference\"\n",
    "df2[df1.Category=='reference'].Category.value_counts()\n"
   ]
  },
  {
   "cell_type": "code",
   "execution_count": 9,
   "id": "eaab826f",
   "metadata": {},
   "outputs": [
    {
     "data": {
      "text/plain": [
       "reference    84\n",
       "patient      72\n",
       "Name: Category, dtype: int64"
      ]
     },
     "execution_count": 9,
     "metadata": {},
     "output_type": "execute_result"
    }
   ],
   "source": [
    "# UCI categories if reflimR says \"patient\"\n",
    "df1[df2.Category=='patient'].Category.value_counts()\n"
   ]
  },
  {
   "cell_type": "code",
   "execution_count": 10,
   "id": "79edb7e6",
   "metadata": {},
   "outputs": [
    {
     "data": {
      "text/plain": [
       "reference    456\n",
       "Name: Category, dtype: int64"
      ]
     },
     "execution_count": 10,
     "metadata": {},
     "output_type": "execute_result"
    }
   ],
   "source": [
    "# UCI categories if reflimR says \"reference\"\n",
    "df1[df2.Category=='reference'].Category.value_counts()\n"
   ]
  },
  {
   "cell_type": "code",
   "execution_count": null,
   "id": "4c40b175",
   "metadata": {},
   "outputs": [],
   "source": []
  }
 ],
 "metadata": {
  "kernelspec": {
   "display_name": "conda_tensorflow2_p310",
   "language": "python",
   "name": "conda_tensorflow2_p310"
  },
  "language_info": {
   "codemirror_mode": {
    "name": "ipython",
    "version": 3
   },
   "file_extension": ".py",
   "mimetype": "text/x-python",
   "name": "python",
   "nbconvert_exporter": "python",
   "pygments_lexer": "ipython3",
   "version": "3.10.14"
  }
 },
 "nbformat": 4,
 "nbformat_minor": 5
}
