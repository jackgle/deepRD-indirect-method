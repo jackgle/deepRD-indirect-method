{
 "cells": [
  {
   "cell_type": "code",
   "execution_count": 3,
   "id": "9c1726f5",
   "metadata": {},
   "outputs": [
    {
     "name": "stdout",
     "output_type": "stream",
     "text": [
      "(5,)\n",
      "(5, 1)\n",
      "(5,)\n",
      "(5,)\n"
     ]
    }
   ],
   "source": [
    "import os\n",
    "os.environ['TF_CPP_MIN_LOG_LEVEL'] = '3' \n",
    "import tensorflow as tf\n",
    "import pickle\n",
    "os.sys.path.append('../../evaluation/')\n",
    "import metrics\n",
    "\n",
    "# load data\n",
    "input_path = '../../data/simulated_2d_demo/'\n",
    "dtype = tf.float32\n",
    "y_val = pickle.load(open(input_path+'/val/target_data.pkl', 'rb'))\n",
    "y_val = [metrics.output_to_stats_2d(i) for i in y_val]\n",
    "y_mean = tf.convert_to_tensor([i[0] for i in y_val], dtype=dtype)\n",
    "y_cov = tf.convert_to_tensor([i[1] for i in y_val], dtype=dtype)\n",
    "\n",
    "def kl_divergence(mean1, cov1, mean2, cov2):\n",
    "    # Ensure shapes are consistent\n",
    "    batch_size = tf.cast(tf.shape(mean1)[0], tf.float32)\n",
    "    num_features = tf.cast(tf.shape(mean1)[-1], tf.float32)\n",
    "\n",
    "    # Compute the inverse of cov2\n",
    "    inv_cov2 = tf.linalg.inv(cov2)\n",
    "\n",
    "    # Compute the trace term: trace(inv_cov2 @ cov1)\n",
    "    trace_term = tf.linalg.trace(tf.linalg.matmul(inv_cov2, cov1, transpose_a=False, transpose_b=True))\n",
    "\n",
    "    # Compute the Mahalanobis term\n",
    "    diff_mean = mean2 - mean1\n",
    "    diff_mean_expanded = tf.expand_dims(diff_mean, axis=-1)\n",
    "    mahalanobis_term = tf.reduce_sum(tf.linalg.matmul(inv_cov2, diff_mean_expanded) * diff_mean_expanded, axis=-2)\n",
    "\n",
    "    # Compute the log-determinants\n",
    "    log_det_cov1 = tf.linalg.logdet(cov1)\n",
    "    log_det_cov2 = tf.linalg.logdet(cov2)\n",
    "    \n",
    "    print(trace_term.shape)\n",
    "    print(mahalanobis_term.shape)\n",
    "    print(log_det_cov2.shape)\n",
    "    print(log_det_cov1.shape)\n",
    "\n",
    "    # KL divergence computation\n",
    "    kl = 0.5 * (trace_term + tf.squeeze(mahalanobis_term) - num_features + log_det_cov2 - log_det_cov1)\n",
    "    \n",
    "    # Return the average KL divergence over the batch dimension\n",
    "    return kl\n",
    "\n",
    "kl_loss = kl_divergence(y_mean, y_cov, y_mean+1, y_cov)\n"
   ]
  },
  {
   "cell_type": "code",
   "execution_count": 4,
   "id": "d9af475f",
   "metadata": {},
   "outputs": [
    {
     "data": {
      "text/plain": [
       "<tf.Tensor: shape=(5,), dtype=float32, numpy=\n",
       "array([2.1675751, 4.9288616, 1.5267398, 2.1787164, 1.3317399],\n",
       "      dtype=float32)>"
      ]
     },
     "execution_count": 4,
     "metadata": {},
     "output_type": "execute_result"
    }
   ],
   "source": [
    "kl_loss\n"
   ]
  },
  {
   "cell_type": "code",
   "execution_count": 8,
   "id": "cfd635ba",
   "metadata": {},
   "outputs": [
    {
     "name": "stdout",
     "output_type": "stream",
     "text": [
      "2.1675750647196237\n",
      "4.9288617090384115\n",
      "1.5267398630510578\n",
      "2.1787163020121043\n",
      "1.3317399449767944\n"
     ]
    }
   ],
   "source": [
    "import numpy as np\n",
    "from scipy.stats import multivariate_normal\n",
    "def kl_divergence_numerical(mu1, sigma1, mu2, sigma2, num_samples=10000):\n",
    "\n",
    "    # define grid for integrating densities\n",
    "    grid_size = 1000\n",
    "    grid_x = np.linspace(-10, 10, grid_size)\n",
    "    grid_y = np.linspace(-10, 10, grid_size)\n",
    "    grid_X, grid_Y = np.meshgrid(grid_x, grid_y)\n",
    "    positions = np.vstack([grid_X.ravel(), grid_Y.ravel()]).T\n",
    "    \n",
    "    # evaluate the densities of both Gaussians at the sampled points\n",
    "    p_x = multivariate_normal.pdf(positions, mean=mu1, cov=sigma1)\n",
    "    q_x = multivariate_normal.pdf(positions, mean=mu2, cov=sigma2)\n",
    "        \n",
    "    # compute the KL divergence\n",
    "    kl_div = np.sum(p_x * np.log(p_x / q_x)) * (grid_x[1] - grid_x[0]) * (grid_y[1] - grid_y[0])\n",
    "    \n",
    "    return kl_div\n",
    "\n",
    "for idx in range(5):\n",
    "    print(kl_divergence_numerical(y_mean[idx], y_cov[idx], y_mean[idx]+1, y_cov[idx]))\n"
   ]
  },
  {
   "cell_type": "code",
   "execution_count": null,
   "id": "f6cd8e0b",
   "metadata": {},
   "outputs": [],
   "source": []
  }
 ],
 "metadata": {
  "kernelspec": {
   "display_name": "conda_tensorflow2_p310",
   "language": "python",
   "name": "conda_tensorflow2_p310"
  },
  "language_info": {
   "codemirror_mode": {
    "name": "ipython",
    "version": 3
   },
   "file_extension": ".py",
   "mimetype": "text/x-python",
   "name": "python",
   "nbconvert_exporter": "python",
   "pygments_lexer": "ipython3",
   "version": "3.10.14"
  }
 },
 "nbformat": 4,
 "nbformat_minor": 5
}
