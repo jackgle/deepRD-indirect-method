{
 "cells": [
  {
   "cell_type": "markdown",
   "id": "9f5833f5",
   "metadata": {},
   "source": [
    "Defining KL divergence analytically and numerically and checking that results are approximately equal\n"
   ]
  },
  {
   "cell_type": "code",
   "execution_count": 69,
   "id": "1fa258f1",
   "metadata": {},
   "outputs": [],
   "source": [
    "import os\n",
    "os.environ['TF_CPP_MIN_LOG_LEVEL'] = '3' \n",
    "import numpy as np\n",
    "import tensorflow as tf\n",
    "import tensorflow_probability as tfp\n",
    "from scipy.stats import multivariate_normal\n",
    "\n",
    "def build_covariance_matrix(cov_params, dim, dtype=tf.float32):\n",
    "    chol = tfp.math.fill_triangular(cov_params)\n",
    "    cov_matrix = tf.matmul(chol, chol, transpose_b=True)  # Cholesky factor * Cholesky factor transpose\n",
    "    return cov_matrix\n",
    "\n",
    "def kl_divergence(mean1, cov1, mean2, cov2):\n",
    "    inv_cov2 = tf.linalg.inv(cov2)\n",
    "    trace_term = tf.linalg.trace(tf.matmul(inv_cov2, cov1))\n",
    "    diff_mean = mean2 - mean1\n",
    "    mahalanobis_term = tf.reduce_sum(tf.matmul(tf.transpose(diff_mean[:, tf.newaxis]), inv_cov2) * diff_mean[:, tf.newaxis], axis=-1)\n",
    "    log_det_cov1 = tf.linalg.logdet(cov1)\n",
    "    log_det_cov2 = tf.linalg.logdet(cov2)\n",
    "    kl = 0.5 * (trace_term + mahalanobis_term - tf.cast(tf.shape(mean1)[-1], dtype) + log_det_cov2 - log_det_cov1)\n",
    "    return tf.reduce_mean(kl)\n",
    "\n",
    "dtype = tf.float32\n",
    "dim = 2\n",
    "mean1 = mean2 = tf.constant([0.0, 0.0], dtype=dtype)\n",
    "cov_params1 = tf.constant([1, 0.5, 1], dtype=dtype)\n",
    "cov_params2 = tf.constant([2, 0.5, 2], dtype=dtype)\n",
    "cov1 = build_covariance_matrix(cov_params1, dim)\n",
    "cov2 = build_covariance_matrix(cov_params2, dim)\n"
   ]
  },
  {
   "cell_type": "code",
   "execution_count": 70,
   "id": "b9bbfe78",
   "metadata": {
    "scrolled": true
   },
   "outputs": [
    {
     "name": "stdout",
     "output_type": "stream",
     "text": [
      "CPU times: user 6.57 ms, sys: 437 μs, total: 7 ms\n",
      "Wall time: 4.83 ms\n"
     ]
    },
    {
     "data": {
      "text/plain": [
       "<tf.Tensor: shape=(), dtype=float32, numpy=0.64410686>"
      ]
     },
     "execution_count": 70,
     "metadata": {},
     "output_type": "execute_result"
    }
   ],
   "source": [
    "%time kl_divergence(mean1, cov1, mean2, cov2)\n"
   ]
  },
  {
   "cell_type": "code",
   "execution_count": 85,
   "id": "fcaa1429",
   "metadata": {},
   "outputs": [
    {
     "data": {
      "text/plain": [
       "0.6441068611198906"
      ]
     },
     "execution_count": 85,
     "metadata": {},
     "output_type": "execute_result"
    }
   ],
   "source": [
    "def kl_divergence_numerical(mu1, sigma1, mu2, sigma2, num_samples=10000):\n",
    "\n",
    "    # define grid for integrating densities\n",
    "    grid_size = 1000\n",
    "    grid_x = np.linspace(-10, 10, grid_size)\n",
    "    grid_y = np.linspace(-10, 10, grid_size)\n",
    "    grid_X, grid_Y = np.meshgrid(grid_x, grid_y)\n",
    "    positions = np.vstack([grid_X.ravel(), grid_Y.ravel()]).T\n",
    "    \n",
    "    # evaluate the densities of both Gaussians at the sampled points\n",
    "    p_x = multivariate_normal.pdf(positions, mean=mu1, cov=sigma1)\n",
    "    q_x = multivariate_normal.pdf(positions, mean=mu2, cov=sigma2)\n",
    "        \n",
    "    # compute the KL divergence\n",
    "    kl_div = np.sum(p_x * np.log(p_x / q_x)) * (grid_x[1] - grid_x[0]) * (grid_y[1] - grid_y[0])\n",
    "    \n",
    "    return kl_div\n",
    "\n",
    "kl_divergence_numerical(mean1, cov1, mean2, cov2)\n"
   ]
  },
  {
   "cell_type": "code",
   "execution_count": 2,
   "id": "e379fbf0",
   "metadata": {},
   "outputs": [],
   "source": [
    "import numpy as np\n",
    "\n",
    "# Example target for batch of size 32\n",
    "batch_size = 32\n",
    "mean_dim = 2\n",
    "cholesky_dim = 2\n",
    "\n",
    "# Random example data\n",
    "true_mean = np.random.rand(batch_size, mean_dim)\n",
    "true_cholesky = np.random.rand(batch_size, cholesky_dim, cholesky_dim)\n",
    "\n",
    "# Flatten the Cholesky matrices and concatenate with means\n",
    "true_cholesky_flat = np.array([cholesky.flatten() for cholesky in true_cholesky])\n",
    "y_true = np.concatenate([true_mean, true_cholesky_flat], axis=-1)\n"
   ]
  }
 ],
 "metadata": {
  "kernelspec": {
   "display_name": "conda_tensorflow2_p310",
   "language": "python",
   "name": "conda_tensorflow2_p310"
  },
  "language_info": {
   "codemirror_mode": {
    "name": "ipython",
    "version": 3
   },
   "file_extension": ".py",
   "mimetype": "text/x-python",
   "name": "python",
   "nbconvert_exporter": "python",
   "pygments_lexer": "ipython3",
   "version": "3.10.14"
  }
 },
 "nbformat": 4,
 "nbformat_minor": 5
}
