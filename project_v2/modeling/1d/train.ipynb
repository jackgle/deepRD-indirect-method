{
 "cells": [
  {
   "cell_type": "code",
   "execution_count": 1,
   "id": "199e4475",
   "metadata": {},
   "outputs": [],
   "source": [
    "import os\n",
    "os.environ['TF_CPP_MIN_LOG_LEVEL'] = '3' \n",
    "import numpy as np\n",
    "import pickle\n",
    "import matplotlib.pyplot as plt\n",
    "import tensorflow as tf\n",
    "from tensorflow.keras.callbacks import ModelCheckpoint\n",
    "from sklearn.preprocessing import RobustScaler\n",
    "from predict import extract_features\n"
   ]
  },
  {
   "cell_type": "code",
   "execution_count": 2,
   "id": "6055b7f6",
   "metadata": {},
   "outputs": [],
   "source": [
    "# training parameters\n",
    "epochs = 20\n",
    "batch_size = 16\n",
    "loss = tf.keras.losses.MeanAbsoluteError()\n",
    "opt = tf.keras.optimizers.SGD(learning_rate=0.001, momentum=0.99)\n",
    "# opt = tf.keras.optimizers.Adam()\n",
    "input_path = '../../data/simulated_1d/'\n",
    "output_path = './model/'\n"
   ]
  },
  {
   "cell_type": "code",
   "execution_count": 3,
   "id": "29911637",
   "metadata": {},
   "outputs": [],
   "source": [
    "# load data\n",
    "x_train = pickle.load(open(input_path+'/train/input_data.pkl', 'rb'))\n",
    "y_train = pickle.load(open(input_path+'/train/target_data.pkl', 'rb'))\n",
    "sizes_train = pickle.load(open(input_path+'/train/sizes.pkl', 'rb'))\n",
    "x_val = pickle.load(open(input_path+'/val/input_data.pkl', 'rb'))\n",
    "y_val = pickle.load(open(input_path+'/val/target_data.pkl', 'rb'))\n",
    "sizes_val = pickle.load(open(input_path+'/val/sizes.pkl', 'rb'))\n"
   ]
  },
  {
   "cell_type": "code",
   "execution_count": 4,
   "id": "8c272ce4",
   "metadata": {},
   "outputs": [],
   "source": [
    "# extract features\n",
    "x_train = [extract_features(i) for i in x_train]\n",
    "x_train = np.array(x_train).squeeze()\n",
    "x_val = [extract_features(i) for i in x_val]\n",
    "x_val = np.array(x_val).squeeze()\n"
   ]
  },
  {
   "cell_type": "code",
   "execution_count": 5,
   "id": "f33ae5f4",
   "metadata": {},
   "outputs": [],
   "source": [
    "# add reference fraction prediction\n",
    "y_train = np.array(y_train)\n",
    "y_train = np.hstack([\n",
    "    y_train, \n",
    "    np.array([i[0]/sum(i) for i in sizes_train]).reshape(-1, 1)\n",
    "])\n",
    "\n",
    "y_val = np.array(y_val)\n",
    "y_val = np.hstack([\n",
    "    y_val, \n",
    "    np.array([i[0]/sum(i) for i in sizes_val]).reshape(-1, 1)\n",
    "])\n"
   ]
  },
  {
   "cell_type": "code",
   "execution_count": 6,
   "id": "50380b91",
   "metadata": {},
   "outputs": [],
   "source": [
    "# standardize outputs\n",
    "scalery = RobustScaler()\n",
    "\n",
    "y_train = scalery.fit_transform(y_train)\n",
    "y_val = scalery.transform(y_val)\n"
   ]
  },
  {
   "cell_type": "code",
   "execution_count": 7,
   "id": "a83bc40e",
   "metadata": {},
   "outputs": [],
   "source": [
    "x_train = x_train[..., np.newaxis]\n",
    "x_val = x_val[..., np.newaxis]\n"
   ]
  },
  {
   "cell_type": "code",
   "execution_count": 8,
   "id": "bc3e43cf",
   "metadata": {},
   "outputs": [
    {
     "data": {
      "text/plain": [
       "(8000, 100, 1)"
      ]
     },
     "execution_count": 8,
     "metadata": {},
     "output_type": "execute_result"
    }
   ],
   "source": [
    "x_train.shape\n"
   ]
  },
  {
   "cell_type": "code",
   "execution_count": 9,
   "id": "a8b0d8f7",
   "metadata": {},
   "outputs": [
    {
     "name": "stdout",
     "output_type": "stream",
     "text": [
      "Model: \"model\"\n",
      "_________________________________________________________________\n",
      " Layer (type)                Output Shape              Param #   \n",
      "=================================================================\n",
      " input_1 (InputLayer)        [(None, 100, 1)]          0         \n",
      "                                                                 \n",
      " conv1d (Conv1D)             (None, 91, 32)            352       \n",
      "                                                                 \n",
      " max_pooling1d (MaxPooling1  (None, 45, 32)            0         \n",
      " D)                                                              \n",
      "                                                                 \n",
      " conv1d_1 (Conv1D)           (None, 36, 64)            20544     \n",
      "                                                                 \n",
      " max_pooling1d_1 (MaxPoolin  (None, 18, 64)            0         \n",
      " g1D)                                                            \n",
      "                                                                 \n",
      " conv1d_2 (Conv1D)           (None, 9, 64)             41024     \n",
      "                                                                 \n",
      " max_pooling1d_2 (MaxPoolin  (None, 4, 64)             0         \n",
      " g1D)                                                            \n",
      "                                                                 \n",
      " flatten (Flatten)           (None, 256)               0         \n",
      "                                                                 \n",
      " dense (Dense)               (None, 64)                16448     \n",
      "                                                                 \n",
      " dropout (Dropout)           (None, 64)                0         \n",
      "                                                                 \n",
      " dense_1 (Dense)             (None, 3)                 195       \n",
      "                                                                 \n",
      "=================================================================\n",
      "Total params: 78563 (306.89 KB)\n",
      "Trainable params: 78563 (306.89 KB)\n",
      "Non-trainable params: 0 (0.00 Byte)\n",
      "_________________________________________________________________\n"
     ]
    }
   ],
   "source": [
    "# define model\n",
    "\n",
    "inputs = tf.keras.layers.Input(shape=x_train.shape[1:])\n",
    "x = tf.keras.layers.Conv1D(32, kernel_size=10, activation='relu')(inputs)\n",
    "x = tf.keras.layers.MaxPooling1D(pool_size=2)(x)\n",
    "x = tf.keras.layers.Conv1D(64, kernel_size=10, activation='relu')(x)\n",
    "x = tf.keras.layers.MaxPooling1D(pool_size=2)(x)\n",
    "x = tf.keras.layers.Conv1D(64, kernel_size=10, activation='relu')(x)\n",
    "x = tf.keras.layers.MaxPooling1D(pool_size=2)(x)\n",
    "x = tf.keras.layers.Flatten()(x)\n",
    "x = tf.keras.layers.Dense(64, activation='relu')(x)\n",
    "x = tf.keras.layers.Dropout(0.2)(x)\n",
    "o = tf.keras.layers.Dense(y_val.shape[1], activation='linear')(x)\n",
    "model = tf.keras.models.Model(inputs, o)\n",
    "\n",
    "# define loss and optimizer\n",
    "model.compile(loss = loss,\n",
    "              optimizer = opt)\n",
    "\n",
    "model.summary()\n"
   ]
  },
  {
   "cell_type": "code",
   "execution_count": 10,
   "id": "29c46b75",
   "metadata": {},
   "outputs": [],
   "source": [
    "# plot model\n",
    "\n",
    "# !pip install pydot\n",
    "# !pip install graphviz\n",
    "\n",
    "# tf.keras.utils.plot_model(\n",
    "#     model,\n",
    "#     to_file=\"model.png\",\n",
    "#     show_shapes=True,\n",
    "#     show_dtype=False,\n",
    "#     show_layer_names=False,\n",
    "# )\n"
   ]
  },
  {
   "cell_type": "code",
   "execution_count": 11,
   "id": "a517be5a",
   "metadata": {
    "scrolled": true
   },
   "outputs": [
    {
     "name": "stdout",
     "output_type": "stream",
     "text": [
      "Epoch 1/20\n"
     ]
    },
    {
     "name": "stderr",
     "output_type": "stream",
     "text": [
      "WARNING: All log messages before absl::InitializeLog() is called are written to STDERR\n",
      "I0000 00:00:1726646506.956682   19907 service.cc:145] XLA service 0x7f7f568a6450 initialized for platform CUDA (this does not guarantee that XLA will be used). Devices:\n",
      "I0000 00:00:1726646506.956722   19907 service.cc:153]   StreamExecutor device (0): NVIDIA A10G, Compute Capability 8.6\n",
      "I0000 00:00:1726646507.728036   19907 device_compiler.h:188] Compiled cluster using XLA!  This line is logged at most once for the lifetime of the process.\n"
     ]
    },
    {
     "name": "stdout",
     "output_type": "stream",
     "text": [
      "\n",
      "Epoch 1: val_loss improved from inf to 0.36342, saving model to ./model/model_checkpoint\n",
      "INFO:tensorflow:Assets written to: ./model/model_checkpoint/assets\n"
     ]
    },
    {
     "name": "stderr",
     "output_type": "stream",
     "text": [
      "INFO:tensorflow:Assets written to: ./model/model_checkpoint/assets\n"
     ]
    },
    {
     "name": "stdout",
     "output_type": "stream",
     "text": [
      "500/500 - 27s - loss: 0.4758 - val_loss: 0.3634 - 27s/epoch - 54ms/step\n",
      "Epoch 2/20\n",
      "\n",
      "Epoch 2: val_loss improved from 0.36342 to 0.33032, saving model to ./model/model_checkpoint\n",
      "INFO:tensorflow:Assets written to: ./model/model_checkpoint/assets\n"
     ]
    },
    {
     "name": "stderr",
     "output_type": "stream",
     "text": [
      "INFO:tensorflow:Assets written to: ./model/model_checkpoint/assets\n"
     ]
    },
    {
     "name": "stdout",
     "output_type": "stream",
     "text": [
      "500/500 - 2s - loss: 0.3792 - val_loss: 0.3303 - 2s/epoch - 4ms/step\n",
      "Epoch 3/20\n",
      "\n",
      "Epoch 3: val_loss improved from 0.33032 to 0.31612, saving model to ./model/model_checkpoint\n",
      "INFO:tensorflow:Assets written to: ./model/model_checkpoint/assets\n"
     ]
    },
    {
     "name": "stderr",
     "output_type": "stream",
     "text": [
      "INFO:tensorflow:Assets written to: ./model/model_checkpoint/assets\n"
     ]
    },
    {
     "name": "stdout",
     "output_type": "stream",
     "text": [
      "500/500 - 2s - loss: 0.3487 - val_loss: 0.3161 - 2s/epoch - 4ms/step\n",
      "Epoch 4/20\n",
      "\n",
      "Epoch 4: val_loss improved from 0.31612 to 0.29594, saving model to ./model/model_checkpoint\n",
      "INFO:tensorflow:Assets written to: ./model/model_checkpoint/assets\n"
     ]
    },
    {
     "name": "stderr",
     "output_type": "stream",
     "text": [
      "INFO:tensorflow:Assets written to: ./model/model_checkpoint/assets\n"
     ]
    },
    {
     "name": "stdout",
     "output_type": "stream",
     "text": [
      "500/500 - 2s - loss: 0.3261 - val_loss: 0.2959 - 2s/epoch - 4ms/step\n",
      "Epoch 5/20\n",
      "\n",
      "Epoch 5: val_loss improved from 0.29594 to 0.29172, saving model to ./model/model_checkpoint\n",
      "INFO:tensorflow:Assets written to: ./model/model_checkpoint/assets\n"
     ]
    },
    {
     "name": "stderr",
     "output_type": "stream",
     "text": [
      "INFO:tensorflow:Assets written to: ./model/model_checkpoint/assets\n"
     ]
    },
    {
     "name": "stdout",
     "output_type": "stream",
     "text": [
      "500/500 - 2s - loss: 0.3141 - val_loss: 0.2917 - 2s/epoch - 4ms/step\n",
      "Epoch 6/20\n",
      "\n",
      "Epoch 6: val_loss improved from 0.29172 to 0.27503, saving model to ./model/model_checkpoint\n",
      "INFO:tensorflow:Assets written to: ./model/model_checkpoint/assets\n"
     ]
    },
    {
     "name": "stderr",
     "output_type": "stream",
     "text": [
      "INFO:tensorflow:Assets written to: ./model/model_checkpoint/assets\n"
     ]
    },
    {
     "name": "stdout",
     "output_type": "stream",
     "text": [
      "500/500 - 2s - loss: 0.3065 - val_loss: 0.2750 - 2s/epoch - 4ms/step\n",
      "Epoch 7/20\n",
      "\n",
      "Epoch 7: val_loss improved from 0.27503 to 0.27007, saving model to ./model/model_checkpoint\n",
      "INFO:tensorflow:Assets written to: ./model/model_checkpoint/assets\n"
     ]
    },
    {
     "name": "stderr",
     "output_type": "stream",
     "text": [
      "INFO:tensorflow:Assets written to: ./model/model_checkpoint/assets\n"
     ]
    },
    {
     "name": "stdout",
     "output_type": "stream",
     "text": [
      "500/500 - 2s - loss: 0.2954 - val_loss: 0.2701 - 2s/epoch - 4ms/step\n",
      "Epoch 8/20\n",
      "\n",
      "Epoch 8: val_loss did not improve from 0.27007\n",
      "500/500 - 1s - loss: 0.2936 - val_loss: 0.2761 - 1s/epoch - 2ms/step\n",
      "Epoch 9/20\n",
      "\n",
      "Epoch 9: val_loss improved from 0.27007 to 0.26397, saving model to ./model/model_checkpoint\n",
      "INFO:tensorflow:Assets written to: ./model/model_checkpoint/assets\n"
     ]
    },
    {
     "name": "stderr",
     "output_type": "stream",
     "text": [
      "INFO:tensorflow:Assets written to: ./model/model_checkpoint/assets\n"
     ]
    },
    {
     "name": "stdout",
     "output_type": "stream",
     "text": [
      "500/500 - 2s - loss: 0.2853 - val_loss: 0.2640 - 2s/epoch - 4ms/step\n",
      "Epoch 10/20\n",
      "\n",
      "Epoch 10: val_loss improved from 0.26397 to 0.26102, saving model to ./model/model_checkpoint\n",
      "INFO:tensorflow:Assets written to: ./model/model_checkpoint/assets\n"
     ]
    },
    {
     "name": "stderr",
     "output_type": "stream",
     "text": [
      "INFO:tensorflow:Assets written to: ./model/model_checkpoint/assets\n"
     ]
    },
    {
     "name": "stdout",
     "output_type": "stream",
     "text": [
      "500/500 - 2s - loss: 0.2808 - val_loss: 0.2610 - 2s/epoch - 4ms/step\n",
      "Epoch 11/20\n",
      "\n",
      "Epoch 11: val_loss did not improve from 0.26102\n",
      "500/500 - 1s - loss: 0.2798 - val_loss: 0.2616 - 1s/epoch - 2ms/step\n",
      "Epoch 12/20\n",
      "\n",
      "Epoch 12: val_loss did not improve from 0.26102\n",
      "500/500 - 1s - loss: 0.2769 - val_loss: 0.2663 - 1s/epoch - 2ms/step\n",
      "Epoch 13/20\n",
      "\n",
      "Epoch 13: val_loss improved from 0.26102 to 0.25137, saving model to ./model/model_checkpoint\n",
      "INFO:tensorflow:Assets written to: ./model/model_checkpoint/assets\n"
     ]
    },
    {
     "name": "stderr",
     "output_type": "stream",
     "text": [
      "INFO:tensorflow:Assets written to: ./model/model_checkpoint/assets\n"
     ]
    },
    {
     "name": "stdout",
     "output_type": "stream",
     "text": [
      "500/500 - 2s - loss: 0.2776 - val_loss: 0.2514 - 2s/epoch - 4ms/step\n",
      "Epoch 14/20\n",
      "\n",
      "Epoch 14: val_loss did not improve from 0.25137\n",
      "500/500 - 1s - loss: 0.2704 - val_loss: 0.2597 - 1s/epoch - 2ms/step\n",
      "Epoch 15/20\n",
      "\n",
      "Epoch 15: val_loss did not improve from 0.25137\n",
      "500/500 - 1s - loss: 0.2692 - val_loss: 0.2570 - 1s/epoch - 2ms/step\n",
      "Epoch 16/20\n",
      "\n",
      "Epoch 16: val_loss did not improve from 0.25137\n",
      "500/500 - 1s - loss: 0.2651 - val_loss: 0.2518 - 1s/epoch - 2ms/step\n",
      "Epoch 17/20\n",
      "\n",
      "Epoch 17: val_loss did not improve from 0.25137\n",
      "500/500 - 1s - loss: 0.2646 - val_loss: 0.2536 - 1s/epoch - 2ms/step\n",
      "Epoch 18/20\n",
      "\n",
      "Epoch 18: val_loss improved from 0.25137 to 0.24887, saving model to ./model/model_checkpoint\n",
      "INFO:tensorflow:Assets written to: ./model/model_checkpoint/assets\n"
     ]
    },
    {
     "name": "stderr",
     "output_type": "stream",
     "text": [
      "INFO:tensorflow:Assets written to: ./model/model_checkpoint/assets\n"
     ]
    },
    {
     "name": "stdout",
     "output_type": "stream",
     "text": [
      "500/500 - 2s - loss: 0.2649 - val_loss: 0.2489 - 2s/epoch - 4ms/step\n",
      "Epoch 19/20\n",
      "\n",
      "Epoch 19: val_loss improved from 0.24887 to 0.24717, saving model to ./model/model_checkpoint\n",
      "INFO:tensorflow:Assets written to: ./model/model_checkpoint/assets\n"
     ]
    },
    {
     "name": "stderr",
     "output_type": "stream",
     "text": [
      "INFO:tensorflow:Assets written to: ./model/model_checkpoint/assets\n"
     ]
    },
    {
     "name": "stdout",
     "output_type": "stream",
     "text": [
      "500/500 - 2s - loss: 0.2596 - val_loss: 0.2472 - 2s/epoch - 4ms/step\n",
      "Epoch 20/20\n",
      "\n",
      "Epoch 20: val_loss did not improve from 0.24717\n",
      "500/500 - 1s - loss: 0.2580 - val_loss: 0.2525 - 1s/epoch - 2ms/step\n"
     ]
    }
   ],
   "source": [
    "# define best model checkpoint\n",
    "checkpoint_path = output_path+'/model_checkpoint'\n",
    "checkpoint_callback = ModelCheckpoint(\n",
    "    checkpoint_path,\n",
    "    save_weights_only=False,\n",
    "    save_best_only=True,\n",
    "    monitor='val_loss',\n",
    "    mode='min',\n",
    "    save_format='tf',\n",
    "    verbose=1\n",
    ")\n",
    "\n",
    "# train\n",
    "history = model.fit(\n",
    "    x_train, \n",
    "    y_train,\n",
    "    validation_data = (x_val, y_val),\n",
    "    epochs = epochs,\n",
    "    batch_size = batch_size,\n",
    "    callbacks = [checkpoint_callback],\n",
    "    verbose = 2\n",
    ")\n",
    "\n",
    "with open(output_path+'/model_history.npy', 'wb') as file_pi:\n",
    "    pickle.dump(history.history, file_pi)\n",
    "    "
   ]
  },
  {
   "cell_type": "code",
   "execution_count": 12,
   "id": "7d4f7c40",
   "metadata": {},
   "outputs": [
    {
     "data": {
      "image/png": "[encoded data removed]",
      "text/plain": [
       "<Figure size 640x480 with 1 Axes>"
      ]
     },
     "metadata": {},
     "output_type": "display_data"
    }
   ],
   "source": [
    "plt.plot(history.history['loss'], label='Train')\n",
    "plt.plot(history.history['val_loss'], label='Test')\n",
    "plt.legend();\n"
   ]
  },
  {
   "cell_type": "code",
   "execution_count": 13,
   "id": "29d91d99",
   "metadata": {},
   "outputs": [],
   "source": [
    "# save scaler\n",
    "with open(output_path+'/model_y_scaler.pkl', 'wb') as f:\n",
    "    pickle.dump(scalery, f)\n"
   ]
  },
  {
   "cell_type": "code",
   "execution_count": null,
   "id": "952dfaf6",
   "metadata": {},
   "outputs": [],
   "source": []
  }
 ],
 "metadata": {
  "kernelspec": {
   "display_name": "conda_tensorflow2_p310",
   "language": "python",
   "name": "conda_tensorflow2_p310"
  },
  "language_info": {
   "codemirror_mode": {
    "name": "ipython",
    "version": 3
   },
   "file_extension": ".py",
   "mimetype": "text/x-python",
   "name": "python",
   "nbconvert_exporter": "python",
   "pygments_lexer": "ipython3",
   "version": "3.10.14"
  }
 },
 "nbformat": 4,
 "nbformat_minor": 5
}
