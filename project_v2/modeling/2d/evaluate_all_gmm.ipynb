{
 "cells": [
  {
   "cell_type": "code",
   "execution_count": 1,
   "id": "897ab50c",
   "metadata": {},
   "outputs": [],
   "source": [
    "import os\n",
    "os.environ['TF_CPP_MIN_LOG_LEVEL'] = '3' \n",
    "os.sys.path.append('../../evaluation/')\n",
    "import pickle\n",
    "import numpy as np\n",
    "import pandas as pd\n",
    "import methods\n",
    "import metrics\n",
    "\n",
    "data_path = '../../data/simulated_2d/test/'\n"
   ]
  },
  {
   "cell_type": "code",
   "execution_count": 2,
   "id": "93ddd4a6",
   "metadata": {},
   "outputs": [],
   "source": [
    "# load data\n",
    "data = pickle.load(open(data_path+'/input_data.pkl', 'rb'))\n",
    "targets = pickle.load(open(data_path+'/target_data.pkl', 'rb'))\n",
    "targets = [\n",
    "    metrics.output_to_stats_2d(i) for i in targets\n",
    "]"
   ]
  },
  {
   "cell_type": "code",
   "execution_count": 3,
   "id": "87524b86",
   "metadata": {},
   "outputs": [
    {
     "name": "stdout",
     "output_type": "stream",
     "text": [
      "0\n",
      "200\n",
      "400\n",
      "600\n",
      "800\n",
      "0\n",
      "200\n",
      "400\n",
      "600\n",
      "800\n",
      "0\n",
      "200\n",
      "400\n",
      "600\n",
      "800\n",
      "0\n",
      "200\n",
      "400\n",
      "600\n",
      "800\n"
     ]
    }
   ],
   "source": [
    "p_gmm_1 = []\n",
    "for c,i in enumerate(data):\n",
    "    if c%200==0:\n",
    "        print(c)\n",
    "    p = methods.predict_gmm(i, init_weights=False, bic_logic=False)\n",
    "    p_gmm_1.append([p['mean'], p['covariance']])\n",
    "errors_gmm_1 = metrics.get_errors(targets, p_gmm_1)\n",
    "\n",
    "p_gmm_2 = []\n",
    "for c,i in enumerate(data):\n",
    "    if c%200==0:\n",
    "        print(c)\n",
    "    p = methods.predict_gmm(i, init_weights=False, bic_logic=True)\n",
    "    p_gmm_2.append([p['mean'], p['covariance']])        \n",
    "errors_gmm_2 = metrics.get_errors(targets, p_gmm_2)\n",
    "\n",
    "p_gmm_3 = []\n",
    "for c,i in enumerate(data):\n",
    "    if c%200==0:\n",
    "        print(c)\n",
    "    p = methods.predict_gmm(i, init_weights=True, bic_logic=False)\n",
    "    p_gmm_3.append([p['mean'], p['covariance']])        \n",
    "errors_gmm_3 = metrics.get_errors(targets, p_gmm_3)\n",
    "\n",
    "p_gmm_4 = []\n",
    "for c,i in enumerate(data):\n",
    "    if c%200==0:\n",
    "        print(c)\n",
    "    p = methods.predict_gmm(i, init_weights=True, bic_logic=True)\n",
    "    p_gmm_4.append([p['mean'], p['covariance']])        \n",
    "errors_gmm_4 = metrics.get_errors(targets, p_gmm_4)\n"
   ]
  },
  {
   "cell_type": "code",
   "execution_count": 7,
   "id": "d2e594d0",
   "metadata": {},
   "outputs": [],
   "source": [
    "def get_error_statistics(errors):\n",
    "    df = pd.DataFrame({\n",
    "        'mean_bd': [np.nanmean(i) for i in errors.values()],\n",
    "        'median_bd': [np.quantile(i, 0.5) for i in errors.values()],\n",
    "        'acc_bc_0.95': [len(np.where(np.exp(-i)>=0.95)[0])/len(i) for i in errors.values()],\n",
    "    })\n",
    "    return df\n"
   ]
  },
  {
   "cell_type": "code",
   "execution_count": 8,
   "id": "cae0150b",
   "metadata": {},
   "outputs": [
    {
     "data": {
      "text/html": [
       "<div>\n",
       "<style scoped>\n",
       "    .dataframe tbody tr th:only-of-type {\n",
       "        vertical-align: middle;\n",
       "    }\n",
       "\n",
       "    .dataframe tbody tr th {\n",
       "        vertical-align: top;\n",
       "    }\n",
       "\n",
       "    .dataframe thead th {\n",
       "        text-align: right;\n",
       "    }\n",
       "</style>\n",
       "<table border=\"1\" class=\"dataframe\">\n",
       "  <thead>\n",
       "    <tr style=\"text-align: right;\">\n",
       "      <th></th>\n",
       "      <th>mean_bd</th>\n",
       "      <th>median_bd</th>\n",
       "      <th>acc_bc_0.95</th>\n",
       "    </tr>\n",
       "  </thead>\n",
       "  <tbody>\n",
       "    <tr>\n",
       "      <th>GMM1</th>\n",
       "      <td>0.027030</td>\n",
       "      <td>0.006738</td>\n",
       "      <td>0.877</td>\n",
       "    </tr>\n",
       "    <tr>\n",
       "      <th>GMM2</th>\n",
       "      <td>0.026984</td>\n",
       "      <td>0.006687</td>\n",
       "      <td>0.877</td>\n",
       "    </tr>\n",
       "    <tr>\n",
       "      <th>GMM3</th>\n",
       "      <td>0.021591</td>\n",
       "      <td>0.006187</td>\n",
       "      <td>0.895</td>\n",
       "    </tr>\n",
       "    <tr>\n",
       "      <th>GMM4</th>\n",
       "      <td>0.021358</td>\n",
       "      <td>0.006164</td>\n",
       "      <td>0.896</td>\n",
       "    </tr>\n",
       "  </tbody>\n",
       "</table>\n",
       "</div>"
      ],
      "text/plain": [
       "       mean_bd  median_bd  acc_bc_0.95\n",
       "GMM1  0.027030   0.006738        0.877\n",
       "GMM2  0.026984   0.006687        0.877\n",
       "GMM3  0.021591   0.006187        0.895\n",
       "GMM4  0.021358   0.006164        0.896"
      ]
     },
     "execution_count": 8,
     "metadata": {},
     "output_type": "execute_result"
    }
   ],
   "source": [
    "errors = {\n",
    "    'GMM1': errors_gmm_1,\n",
    "    'GMM2': errors_gmm_2,\n",
    "    'GMM3': errors_gmm_3,\n",
    "    'GMM4': errors_gmm_4,\n",
    "}\n",
    "\n",
    "df = get_error_statistics(errors)\n",
    "df.index = errors.keys()\n",
    "df\n"
   ]
  },
  {
   "cell_type": "code",
   "execution_count": 11,
   "id": "f996b006",
   "metadata": {},
   "outputs": [
    {
     "data": {
      "text/plain": [
       "-0.2098397275350653"
      ]
     },
     "execution_count": 11,
     "metadata": {},
     "output_type": "execute_result"
    }
   ],
   "source": [
    "df.loc['GMM4', 'mean_bd']/df.loc['GMM1', 'mean_bd']-1"
   ]
  },
  {
   "cell_type": "code",
   "execution_count": 12,
   "id": "8fec44ea",
   "metadata": {},
   "outputs": [
    {
     "data": {
      "text/plain": [
       "0.02166476624857472"
      ]
     },
     "execution_count": 12,
     "metadata": {},
     "output_type": "execute_result"
    }
   ],
   "source": [
    "df.loc['GMM4', 'acc_bc_0.95']/df.loc['GMM1', 'acc_bc_0.95']-1\n"
   ]
  },
  {
   "cell_type": "code",
   "execution_count": 9,
   "id": "cfad2f71",
   "metadata": {},
   "outputs": [],
   "source": [
    "with open('./errors_gmm_all.pkl', 'wb') as f:\n",
    "    pickle.dump(errors, f)\n",
    "    "
   ]
  },
  {
   "cell_type": "code",
   "execution_count": null,
   "id": "49487a3d",
   "metadata": {},
   "outputs": [],
   "source": []
  }
 ],
 "metadata": {
  "kernelspec": {
   "display_name": "conda_tensorflow2_p310",
   "language": "python",
   "name": "conda_tensorflow2_p310"
  },
  "language_info": {
   "codemirror_mode": {
    "name": "ipython",
    "version": 3
   },
   "file_extension": ".py",
   "mimetype": "text/x-python",
   "name": "python",
   "nbconvert_exporter": "python",
   "pygments_lexer": "ipython3",
   "version": "3.10.14"
  }
 },
 "nbformat": 4,
 "nbformat_minor": 5
}
