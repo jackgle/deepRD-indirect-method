{
 "cells": [
  {
   "cell_type": "code",
   "execution_count": 7,
   "id": "23f4bc4c",
   "metadata": {},
   "outputs": [],
   "source": [
    "import pickle\n",
    "import pandas as pd\n",
    "import numpy as np\n",
    "\n",
    "errors = [\n",
    "    pickle.load(open('../modeling/1d/errors.pkl', 'rb')),\n",
    "    pickle.load(open('../modeling/2d/errors.pkl', 'rb'))\n",
    "]\n",
    "\n",
    "def get_error_statistics(errors, acc_threshold=0.98):\n",
    "    \"\"\" Get error statistics\n",
    "    \"\"\"\n",
    "    df = pd.DataFrame({\n",
    "        'mean_bd': [np.mean(i) for i in errors.values()],\n",
    "        'median_bd': [np.quantile(i, 0.5) for i in errors.values()],\n",
    "        'acc_bc_'+str(acc_threshold): [len(np.where(np.exp(-i)>=acc_threshold)[0])/len(i) for i in errors.values()],\n",
    "    })\n",
    "    return df\n"
   ]
  },
  {
   "cell_type": "code",
   "execution_count": 8,
   "id": "120735d4",
   "metadata": {},
   "outputs": [
    {
     "data": {
      "text/html": [
       "<div>\n",
       "<style scoped>\n",
       "    .dataframe tbody tr th:only-of-type {\n",
       "        vertical-align: middle;\n",
       "    }\n",
       "\n",
       "    .dataframe tbody tr th {\n",
       "        vertical-align: top;\n",
       "    }\n",
       "\n",
       "    .dataframe thead th {\n",
       "        text-align: right;\n",
       "    }\n",
       "</style>\n",
       "<table border=\"1\" class=\"dataframe\">\n",
       "  <thead>\n",
       "    <tr style=\"text-align: right;\">\n",
       "      <th></th>\n",
       "      <th>mean_bd</th>\n",
       "      <th>median_bd</th>\n",
       "      <th>acc_bc_0.98</th>\n",
       "    </tr>\n",
       "  </thead>\n",
       "  <tbody>\n",
       "    <tr>\n",
       "      <th>GMM</th>\n",
       "      <td>0.015462</td>\n",
       "      <td>0.004134</td>\n",
       "      <td>0.814</td>\n",
       "    </tr>\n",
       "    <tr>\n",
       "      <th>NN</th>\n",
       "      <td>0.005926</td>\n",
       "      <td>0.001664</td>\n",
       "      <td>0.930</td>\n",
       "    </tr>\n",
       "  </tbody>\n",
       "</table>\n",
       "</div>"
      ],
      "text/plain": [
       "      mean_bd  median_bd  acc_bc_0.98\n",
       "GMM  0.015462   0.004134        0.814\n",
       "NN   0.005926   0.001664        0.930"
      ]
     },
     "execution_count": 8,
     "metadata": {},
     "output_type": "execute_result"
    }
   ],
   "source": [
    "# 1D\n",
    "df = get_error_statistics(errors[0])\n",
    "df.index = errors[0].keys()\n",
    "df\n"
   ]
  },
  {
   "cell_type": "code",
   "execution_count": 9,
   "id": "6b5f1996",
   "metadata": {},
   "outputs": [
    {
     "data": {
      "text/html": [
       "<div>\n",
       "<style scoped>\n",
       "    .dataframe tbody tr th:only-of-type {\n",
       "        vertical-align: middle;\n",
       "    }\n",
       "\n",
       "    .dataframe tbody tr th {\n",
       "        vertical-align: top;\n",
       "    }\n",
       "\n",
       "    .dataframe thead th {\n",
       "        text-align: right;\n",
       "    }\n",
       "</style>\n",
       "<table border=\"1\" class=\"dataframe\">\n",
       "  <thead>\n",
       "    <tr style=\"text-align: right;\">\n",
       "      <th></th>\n",
       "      <th>mean_bd</th>\n",
       "      <th>median_bd</th>\n",
       "      <th>acc_bc_0.98</th>\n",
       "    </tr>\n",
       "  </thead>\n",
       "  <tbody>\n",
       "    <tr>\n",
       "      <th>GMM</th>\n",
       "      <td>0.019885</td>\n",
       "      <td>0.007340</td>\n",
       "      <td>0.724</td>\n",
       "    </tr>\n",
       "    <tr>\n",
       "      <th>NN</th>\n",
       "      <td>0.010206</td>\n",
       "      <td>0.005304</td>\n",
       "      <td>0.882</td>\n",
       "    </tr>\n",
       "  </tbody>\n",
       "</table>\n",
       "</div>"
      ],
      "text/plain": [
       "      mean_bd  median_bd  acc_bc_0.98\n",
       "GMM  0.019885   0.007340        0.724\n",
       "NN   0.010206   0.005304        0.882"
      ]
     },
     "execution_count": 9,
     "metadata": {},
     "output_type": "execute_result"
    }
   ],
   "source": [
    "# 2D\n",
    "df = get_error_statistics(errors[1])\n",
    "df.index = errors[1].keys()\n",
    "df\n"
   ]
  },
  {
   "cell_type": "code",
   "execution_count": null,
   "id": "99fb2022",
   "metadata": {},
   "outputs": [],
   "source": []
  }
 ],
 "metadata": {
  "kernelspec": {
   "display_name": "conda_tensorflow2_p310",
   "language": "python",
   "name": "conda_tensorflow2_p310"
  },
  "language_info": {
   "codemirror_mode": {
    "name": "ipython",
    "version": 3
   },
   "file_extension": ".py",
   "mimetype": "text/x-python",
   "name": "python",
   "nbconvert_exporter": "python",
   "pygments_lexer": "ipython3",
   "version": "3.10.15"
  }
 },
 "nbformat": 4,
 "nbformat_minor": 5
}
